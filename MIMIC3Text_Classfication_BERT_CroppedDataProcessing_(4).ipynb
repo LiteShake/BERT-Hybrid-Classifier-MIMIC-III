{
  "cells": [
    {
      "cell_type": "code",
      "execution_count": null,
      "metadata": {
        "colab": {
          "base_uri": "https://localhost:8080/"
        },
        "id": "1u8fnj1SmZDX",
        "outputId": "53b4b3f0-444f-47b8-e94d-0ceda8fa0013"
      },
      "outputs": [
        {
          "output_type": "stream",
          "name": "stdout",
          "text": [
            "Looking in indexes: https://pypi.org/simple, https://us-python.pkg.dev/colab-wheels/public/simple/\n",
            "Collecting tensorflow_text\n",
            "  Downloading tensorflow_text-2.12.1-cp310-cp310-manylinux_2_17_x86_64.manylinux2014_x86_64.whl (6.0 MB)\n",
            "\u001b[2K     \u001b[90m━━━━━━━━━━━━━━━━━━━━━━━━━━━━━━━━━━━━━━━━\u001b[0m \u001b[32m6.0/6.0 MB\u001b[0m \u001b[31m29.4 MB/s\u001b[0m eta \u001b[36m0:00:00\u001b[0m\n",
            "\u001b[?25hRequirement already satisfied: tensorflow-hub>=0.8.0 in /usr/local/lib/python3.10/dist-packages (from tensorflow_text) (0.13.0)\n",
            "Requirement already satisfied: tensorflow<2.13,>=2.12.0 in /usr/local/lib/python3.10/dist-packages (from tensorflow_text) (2.12.0)\n",
            "Requirement already satisfied: absl-py>=1.0.0 in /usr/local/lib/python3.10/dist-packages (from tensorflow<2.13,>=2.12.0->tensorflow_text) (1.4.0)\n",
            "Requirement already satisfied: astunparse>=1.6.0 in /usr/local/lib/python3.10/dist-packages (from tensorflow<2.13,>=2.12.0->tensorflow_text) (1.6.3)\n",
            "Requirement already satisfied: flatbuffers>=2.0 in /usr/local/lib/python3.10/dist-packages (from tensorflow<2.13,>=2.12.0->tensorflow_text) (23.3.3)\n",
            "Requirement already satisfied: gast<=0.4.0,>=0.2.1 in /usr/local/lib/python3.10/dist-packages (from tensorflow<2.13,>=2.12.0->tensorflow_text) (0.4.0)\n",
            "Requirement already satisfied: google-pasta>=0.1.1 in /usr/local/lib/python3.10/dist-packages (from tensorflow<2.13,>=2.12.0->tensorflow_text) (0.2.0)\n",
            "Requirement already satisfied: grpcio<2.0,>=1.24.3 in /usr/local/lib/python3.10/dist-packages (from tensorflow<2.13,>=2.12.0->tensorflow_text) (1.54.0)\n",
            "Requirement already satisfied: h5py>=2.9.0 in /usr/local/lib/python3.10/dist-packages (from tensorflow<2.13,>=2.12.0->tensorflow_text) (3.8.0)\n",
            "Requirement already satisfied: jax>=0.3.15 in /usr/local/lib/python3.10/dist-packages (from tensorflow<2.13,>=2.12.0->tensorflow_text) (0.4.8)\n",
            "Requirement already satisfied: keras<2.13,>=2.12.0 in /usr/local/lib/python3.10/dist-packages (from tensorflow<2.13,>=2.12.0->tensorflow_text) (2.12.0)\n",
            "Requirement already satisfied: libclang>=13.0.0 in /usr/local/lib/python3.10/dist-packages (from tensorflow<2.13,>=2.12.0->tensorflow_text) (16.0.0)\n",
            "Requirement already satisfied: numpy<1.24,>=1.22 in /usr/local/lib/python3.10/dist-packages (from tensorflow<2.13,>=2.12.0->tensorflow_text) (1.22.4)\n",
            "Requirement already satisfied: opt-einsum>=2.3.2 in /usr/local/lib/python3.10/dist-packages (from tensorflow<2.13,>=2.12.0->tensorflow_text) (3.3.0)\n",
            "Requirement already satisfied: packaging in /usr/local/lib/python3.10/dist-packages (from tensorflow<2.13,>=2.12.0->tensorflow_text) (23.1)\n",
            "Requirement already satisfied: protobuf!=4.21.0,!=4.21.1,!=4.21.2,!=4.21.3,!=4.21.4,!=4.21.5,<5.0.0dev,>=3.20.3 in /usr/local/lib/python3.10/dist-packages (from tensorflow<2.13,>=2.12.0->tensorflow_text) (3.20.3)\n",
            "Requirement already satisfied: setuptools in /usr/local/lib/python3.10/dist-packages (from tensorflow<2.13,>=2.12.0->tensorflow_text) (67.7.2)\n",
            "Requirement already satisfied: six>=1.12.0 in /usr/local/lib/python3.10/dist-packages (from tensorflow<2.13,>=2.12.0->tensorflow_text) (1.16.0)\n",
            "Requirement already satisfied: tensorboard<2.13,>=2.12 in /usr/local/lib/python3.10/dist-packages (from tensorflow<2.13,>=2.12.0->tensorflow_text) (2.12.2)\n",
            "Requirement already satisfied: tensorflow-estimator<2.13,>=2.12.0 in /usr/local/lib/python3.10/dist-packages (from tensorflow<2.13,>=2.12.0->tensorflow_text) (2.12.0)\n",
            "Requirement already satisfied: termcolor>=1.1.0 in /usr/local/lib/python3.10/dist-packages (from tensorflow<2.13,>=2.12.0->tensorflow_text) (2.3.0)\n",
            "Requirement already satisfied: typing-extensions>=3.6.6 in /usr/local/lib/python3.10/dist-packages (from tensorflow<2.13,>=2.12.0->tensorflow_text) (4.5.0)\n",
            "Requirement already satisfied: wrapt<1.15,>=1.11.0 in /usr/local/lib/python3.10/dist-packages (from tensorflow<2.13,>=2.12.0->tensorflow_text) (1.14.1)\n",
            "Requirement already satisfied: tensorflow-io-gcs-filesystem>=0.23.1 in /usr/local/lib/python3.10/dist-packages (from tensorflow<2.13,>=2.12.0->tensorflow_text) (0.32.0)\n",
            "Requirement already satisfied: wheel<1.0,>=0.23.0 in /usr/local/lib/python3.10/dist-packages (from astunparse>=1.6.0->tensorflow<2.13,>=2.12.0->tensorflow_text) (0.40.0)\n",
            "Requirement already satisfied: ml-dtypes>=0.0.3 in /usr/local/lib/python3.10/dist-packages (from jax>=0.3.15->tensorflow<2.13,>=2.12.0->tensorflow_text) (0.1.0)\n",
            "Requirement already satisfied: scipy>=1.7 in /usr/local/lib/python3.10/dist-packages (from jax>=0.3.15->tensorflow<2.13,>=2.12.0->tensorflow_text) (1.10.1)\n",
            "Requirement already satisfied: google-auth<3,>=1.6.3 in /usr/local/lib/python3.10/dist-packages (from tensorboard<2.13,>=2.12->tensorflow<2.13,>=2.12.0->tensorflow_text) (2.17.3)\n",
            "Requirement already satisfied: google-auth-oauthlib<1.1,>=0.5 in /usr/local/lib/python3.10/dist-packages (from tensorboard<2.13,>=2.12->tensorflow<2.13,>=2.12.0->tensorflow_text) (1.0.0)\n",
            "Requirement already satisfied: markdown>=2.6.8 in /usr/local/lib/python3.10/dist-packages (from tensorboard<2.13,>=2.12->tensorflow<2.13,>=2.12.0->tensorflow_text) (3.4.3)\n",
            "Requirement already satisfied: requests<3,>=2.21.0 in /usr/local/lib/python3.10/dist-packages (from tensorboard<2.13,>=2.12->tensorflow<2.13,>=2.12.0->tensorflow_text) (2.27.1)\n",
            "Requirement already satisfied: tensorboard-data-server<0.8.0,>=0.7.0 in /usr/local/lib/python3.10/dist-packages (from tensorboard<2.13,>=2.12->tensorflow<2.13,>=2.12.0->tensorflow_text) (0.7.0)\n",
            "Requirement already satisfied: tensorboard-plugin-wit>=1.6.0 in /usr/local/lib/python3.10/dist-packages (from tensorboard<2.13,>=2.12->tensorflow<2.13,>=2.12.0->tensorflow_text) (1.8.1)\n",
            "Requirement already satisfied: werkzeug>=1.0.1 in /usr/local/lib/python3.10/dist-packages (from tensorboard<2.13,>=2.12->tensorflow<2.13,>=2.12.0->tensorflow_text) (2.3.0)\n",
            "Requirement already satisfied: cachetools<6.0,>=2.0.0 in /usr/local/lib/python3.10/dist-packages (from google-auth<3,>=1.6.3->tensorboard<2.13,>=2.12->tensorflow<2.13,>=2.12.0->tensorflow_text) (5.3.0)\n",
            "Requirement already satisfied: pyasn1-modules>=0.2.1 in /usr/local/lib/python3.10/dist-packages (from google-auth<3,>=1.6.3->tensorboard<2.13,>=2.12->tensorflow<2.13,>=2.12.0->tensorflow_text) (0.3.0)\n",
            "Requirement already satisfied: rsa<5,>=3.1.4 in /usr/local/lib/python3.10/dist-packages (from google-auth<3,>=1.6.3->tensorboard<2.13,>=2.12->tensorflow<2.13,>=2.12.0->tensorflow_text) (4.9)\n",
            "Requirement already satisfied: requests-oauthlib>=0.7.0 in /usr/local/lib/python3.10/dist-packages (from google-auth-oauthlib<1.1,>=0.5->tensorboard<2.13,>=2.12->tensorflow<2.13,>=2.12.0->tensorflow_text) (1.3.1)\n",
            "Requirement already satisfied: urllib3<1.27,>=1.21.1 in /usr/local/lib/python3.10/dist-packages (from requests<3,>=2.21.0->tensorboard<2.13,>=2.12->tensorflow<2.13,>=2.12.0->tensorflow_text) (1.26.15)\n",
            "Requirement already satisfied: certifi>=2017.4.17 in /usr/local/lib/python3.10/dist-packages (from requests<3,>=2.21.0->tensorboard<2.13,>=2.12->tensorflow<2.13,>=2.12.0->tensorflow_text) (2022.12.7)\n",
            "Requirement already satisfied: charset-normalizer~=2.0.0 in /usr/local/lib/python3.10/dist-packages (from requests<3,>=2.21.0->tensorboard<2.13,>=2.12->tensorflow<2.13,>=2.12.0->tensorflow_text) (2.0.12)\n",
            "Requirement already satisfied: idna<4,>=2.5 in /usr/local/lib/python3.10/dist-packages (from requests<3,>=2.21.0->tensorboard<2.13,>=2.12->tensorflow<2.13,>=2.12.0->tensorflow_text) (3.4)\n",
            "Requirement already satisfied: MarkupSafe>=2.1.1 in /usr/local/lib/python3.10/dist-packages (from werkzeug>=1.0.1->tensorboard<2.13,>=2.12->tensorflow<2.13,>=2.12.0->tensorflow_text) (2.1.2)\n",
            "Requirement already satisfied: pyasn1<0.6.0,>=0.4.6 in /usr/local/lib/python3.10/dist-packages (from pyasn1-modules>=0.2.1->google-auth<3,>=1.6.3->tensorboard<2.13,>=2.12->tensorflow<2.13,>=2.12.0->tensorflow_text) (0.5.0)\n",
            "Requirement already satisfied: oauthlib>=3.0.0 in /usr/local/lib/python3.10/dist-packages (from requests-oauthlib>=0.7.0->google-auth-oauthlib<1.1,>=0.5->tensorboard<2.13,>=2.12->tensorflow<2.13,>=2.12.0->tensorflow_text) (3.2.2)\n",
            "Installing collected packages: tensorflow_text\n",
            "Successfully installed tensorflow_text-2.12.1\n"
          ]
        }
      ],
      "source": [
        "!pip install tensorflow_text"
      ]
    },
    {
      "cell_type": "code",
      "execution_count": null,
      "metadata": {
        "colab": {
          "base_uri": "https://localhost:8080/"
        },
        "id": "5Jwum-d4me2z",
        "outputId": "ab136a66-6503-425b-a5b8-4a3d1ede71fd"
      },
      "outputs": [
        {
          "output_type": "stream",
          "name": "stdout",
          "text": [
            "Looking in indexes: https://pypi.org/simple, https://us-python.pkg.dev/colab-wheels/public/simple/\n",
            "Requirement already satisfied: tensorflow_hub in /usr/local/lib/python3.10/dist-packages (0.13.0)\n",
            "Requirement already satisfied: numpy>=1.12.0 in /usr/local/lib/python3.10/dist-packages (from tensorflow_hub) (1.22.4)\n",
            "Requirement already satisfied: protobuf>=3.19.6 in /usr/local/lib/python3.10/dist-packages (from tensorflow_hub) (3.20.3)\n"
          ]
        }
      ],
      "source": [
        "!pip install tensorflow_hub"
      ]
    },
    {
      "cell_type": "code",
      "execution_count": null,
      "metadata": {
        "colab": {
          "base_uri": "https://localhost:8080/"
        },
        "id": "d_POw_r0Gkrm",
        "outputId": "0f484a9f-c422-4b87-9bec-b7c94b7a2f1b"
      },
      "outputs": [
        {
          "name": "stdout",
          "output_type": "stream",
          "text": [
            "Looking in indexes: https://pypi.org/simple, https://us-python.pkg.dev/colab-wheels/public/simple/\n",
            "Collecting modin[all]\n",
            "  Downloading modin-0.20.1-py3-none-any.whl (1.1 MB)\n",
            "\u001b[2K     \u001b[90m━━━━━━━━━━━━━━━━━━━━━━━━━━━━━━━━━━━━━━━━\u001b[0m \u001b[32m1.1/1.1 MB\u001b[0m \u001b[31m18.2 MB/s\u001b[0m eta \u001b[36m0:00:00\u001b[0m\n",
            "\u001b[?25hRequirement already satisfied: pandas==1.5.3 in /usr/local/lib/python3.10/dist-packages (from modin[all]) (1.5.3)\n",
            "Requirement already satisfied: packaging in /usr/local/lib/python3.10/dist-packages (from modin[all]) (23.1)\n",
            "Requirement already satisfied: numpy>=1.18.5 in /usr/local/lib/python3.10/dist-packages (from modin[all]) (1.22.4)\n",
            "Requirement already satisfied: fsspec in /usr/local/lib/python3.10/dist-packages (from modin[all]) (2023.4.0)\n",
            "Requirement already satisfied: psutil in /usr/local/lib/python3.10/dist-packages (from modin[all]) (5.9.5)\n",
            "Requirement already satisfied: dask>=2.22.0 in /usr/local/lib/python3.10/dist-packages (from modin[all]) (2022.12.1)\n",
            "Requirement already satisfied: distributed>=2.22.0 in /usr/local/lib/python3.10/dist-packages (from modin[all]) (2022.12.1)\n",
            "Collecting ray[default]>=1.13.0 (from modin[all])\n",
            "  Downloading ray-2.4.0-cp310-cp310-manylinux2014_x86_64.whl (58.6 MB)\n",
            "\u001b[2K     \u001b[90m━━━━━━━━━━━━━━━━━━━━━━━━━━━━━━━━━━━━━━━━\u001b[0m \u001b[32m58.6/58.6 MB\u001b[0m \u001b[31m9.5 MB/s\u001b[0m eta \u001b[36m0:00:00\u001b[0m\n",
            "\u001b[?25hRequirement already satisfied: pyarrow in /usr/local/lib/python3.10/dist-packages (from modin[all]) (9.0.0)\n",
            "Collecting unidist[mpi]>=0.2.1 (from modin[all])\n",
            "  Downloading unidist-0.3.0-py3-none-any.whl (104 kB)\n",
            "\u001b[2K     \u001b[90m━━━━━━━━━━━━━━━━━━━━━━━━━━━━━━━━━━━━━━\u001b[0m \u001b[32m104.3/104.3 kB\u001b[0m \u001b[31m14.3 MB/s\u001b[0m eta \u001b[36m0:00:00\u001b[0m\n",
            "\u001b[?25hCollecting rpyc==4.1.5 (from modin[all])\n",
            "  Downloading rpyc-4.1.5-py3-none-any.whl (68 kB)\n",
            "\u001b[2K     \u001b[90m━━━━━━━━━━━━━━━━━━━━━━━━━━━━━━━━━━━━━━━━\u001b[0m \u001b[32m68.9/68.9 kB\u001b[0m \u001b[31m8.9 MB/s\u001b[0m eta \u001b[36m0:00:00\u001b[0m\n",
            "\u001b[?25hRequirement already satisfied: cloudpickle in /usr/local/lib/python3.10/dist-packages (from modin[all]) (2.2.1)\n",
            "Collecting boto3 (from modin[all])\n",
            "  Downloading boto3-1.26.137-py3-none-any.whl (135 kB)\n",
            "\u001b[2K     \u001b[90m━━━━━━━━━━━━━━━━━━━━━━━━━━━━━━━━━━━━━━\u001b[0m \u001b[32m135.6/135.6 kB\u001b[0m \u001b[31m17.8 MB/s\u001b[0m eta \u001b[36m0:00:00\u001b[0m\n",
            "\u001b[?25hCollecting modin-spreadsheet>=0.1.0 (from modin[all])\n",
            "  Downloading modin_spreadsheet-0.1.2-py2.py3-none-any.whl (1.8 MB)\n",
            "\u001b[2K     \u001b[90m━━━━━━━━━━━━━━━━━━━━━━━━━━━━━━━━━━━━━━━━\u001b[0m \u001b[32m1.8/1.8 MB\u001b[0m \u001b[31m88.4 MB/s\u001b[0m eta \u001b[36m0:00:00\u001b[0m\n",
            "\u001b[?25hRequirement already satisfied: python-dateutil>=2.8.1 in /usr/local/lib/python3.10/dist-packages (from pandas==1.5.3->modin[all]) (2.8.2)\n",
            "Requirement already satisfied: pytz>=2020.1 in /usr/local/lib/python3.10/dist-packages (from pandas==1.5.3->modin[all]) (2022.7.1)\n",
            "Collecting plumbum (from rpyc==4.1.5->modin[all])\n",
            "  Downloading plumbum-1.8.1-py3-none-any.whl (126 kB)\n",
            "\u001b[2K     \u001b[90m━━━━━━━━━━━━━━━━━━━━━━━━━━━━━━━━━━━━━━\u001b[0m \u001b[32m126.7/126.7 kB\u001b[0m \u001b[31m16.1 MB/s\u001b[0m eta \u001b[36m0:00:00\u001b[0m\n",
            "\u001b[?25hRequirement already satisfied: click>=7.0 in /usr/local/lib/python3.10/dist-packages (from dask>=2.22.0->modin[all]) (8.1.3)\n",
            "Requirement already satisfied: partd>=0.3.10 in /usr/local/lib/python3.10/dist-packages (from dask>=2.22.0->modin[all]) (1.4.0)\n",
            "Requirement already satisfied: pyyaml>=5.3.1 in /usr/local/lib/python3.10/dist-packages (from dask>=2.22.0->modin[all]) (6.0)\n",
            "Requirement already satisfied: toolz>=0.8.2 in /usr/local/lib/python3.10/dist-packages (from dask>=2.22.0->modin[all]) (0.12.0)\n",
            "Requirement already satisfied: jinja2 in /usr/local/lib/python3.10/dist-packages (from distributed>=2.22.0->modin[all]) (3.1.2)\n",
            "Requirement already satisfied: locket>=1.0.0 in /usr/local/lib/python3.10/dist-packages (from distributed>=2.22.0->modin[all]) (1.0.0)\n",
            "Requirement already satisfied: msgpack>=0.6.0 in /usr/local/lib/python3.10/dist-packages (from distributed>=2.22.0->modin[all]) (1.0.5)\n",
            "Requirement already satisfied: sortedcontainers!=2.0.0,!=2.0.1 in /usr/local/lib/python3.10/dist-packages (from distributed>=2.22.0->modin[all]) (2.4.0)\n",
            "Requirement already satisfied: tblib>=1.6.0 in /usr/local/lib/python3.10/dist-packages (from distributed>=2.22.0->modin[all]) (1.7.0)\n",
            "Requirement already satisfied: tornado>=6.0.3 in /usr/local/lib/python3.10/dist-packages (from distributed>=2.22.0->modin[all]) (6.3.1)\n",
            "Requirement already satisfied: urllib3 in /usr/local/lib/python3.10/dist-packages (from distributed>=2.22.0->modin[all]) (1.26.15)\n",
            "Requirement already satisfied: zict>=0.1.3 in /usr/local/lib/python3.10/dist-packages (from distributed>=2.22.0->modin[all]) (3.0.0)\n",
            "Collecting jupyter>=1.0.0 (from modin-spreadsheet>=0.1.0->modin[all])\n",
            "  Downloading jupyter-1.0.0-py2.py3-none-any.whl (2.7 kB)\n",
            "Requirement already satisfied: notebook>=6.0.3 in /usr/local/lib/python3.10/dist-packages (from modin-spreadsheet>=0.1.0->modin[all]) (6.4.8)\n",
            "Requirement already satisfied: ipywidgets>=7.0.0 in /usr/local/lib/python3.10/dist-packages (from modin-spreadsheet>=0.1.0->modin[all]) (7.7.1)\n",
            "Requirement already satisfied: attrs in /usr/local/lib/python3.10/dist-packages (from ray[default]>=1.13.0->modin[all]) (23.1.0)\n",
            "Requirement already satisfied: filelock in /usr/local/lib/python3.10/dist-packages (from ray[default]>=1.13.0->modin[all]) (3.12.0)\n",
            "Requirement already satisfied: jsonschema in /usr/local/lib/python3.10/dist-packages (from ray[default]>=1.13.0->modin[all]) (4.3.3)\n",
            "Requirement already satisfied: protobuf!=3.19.5,>=3.15.3 in /usr/local/lib/python3.10/dist-packages (from ray[default]>=1.13.0->modin[all]) (3.20.3)\n",
            "Collecting aiosignal (from ray[default]>=1.13.0->modin[all])\n",
            "  Downloading aiosignal-1.3.1-py3-none-any.whl (7.6 kB)\n",
            "Collecting frozenlist (from ray[default]>=1.13.0->modin[all])\n",
            "  Downloading frozenlist-1.3.3-cp310-cp310-manylinux_2_5_x86_64.manylinux1_x86_64.manylinux_2_17_x86_64.manylinux2014_x86_64.whl (149 kB)\n",
            "\u001b[2K     \u001b[90m━━━━━━━━━━━━━━━━━━━━━━━━━━━━━━━━━━━━━━\u001b[0m \u001b[32m149.6/149.6 kB\u001b[0m \u001b[31m15.4 MB/s\u001b[0m eta \u001b[36m0:00:00\u001b[0m\n",
            "\u001b[?25hRequirement already satisfied: requests in /usr/local/lib/python3.10/dist-packages (from ray[default]>=1.13.0->modin[all]) (2.27.1)\n",
            "Collecting virtualenv<20.21.1,>=20.0.24 (from ray[default]>=1.13.0->modin[all])\n",
            "  Downloading virtualenv-20.21.0-py3-none-any.whl (8.7 MB)\n",
            "\u001b[2K     \u001b[90m━━━━━━━━━━━━━━━━━━━━━━━━━━━━━━━━━━━━━━━━\u001b[0m \u001b[32m8.7/8.7 MB\u001b[0m \u001b[31m75.8 MB/s\u001b[0m eta \u001b[36m0:00:00\u001b[0m\n",
            "\u001b[?25hCollecting grpcio<=1.51.3,>=1.42.0 (from ray[default]>=1.13.0->modin[all])\n",
            "  Downloading grpcio-1.51.3-cp310-cp310-manylinux_2_17_x86_64.manylinux2014_x86_64.whl (4.8 MB)\n",
            "\u001b[2K     \u001b[90m━━━━━━━━━━━━━━━━━━━━━━━━━━━━━━━━━━━━━━━━\u001b[0m \u001b[32m4.8/4.8 MB\u001b[0m \u001b[31m47.6 MB/s\u001b[0m eta \u001b[36m0:00:00\u001b[0m\n",
            "\u001b[?25hCollecting aiohttp>=3.7 (from ray[default]>=1.13.0->modin[all])\n",
            "  Downloading aiohttp-3.8.4-cp310-cp310-manylinux_2_17_x86_64.manylinux2014_x86_64.whl (1.0 MB)\n",
            "\u001b[2K     \u001b[90m━━━━━━━━━━━━━━━━━━━━━━━━━━━━━━━━━━━━━━━━\u001b[0m \u001b[32m1.0/1.0 MB\u001b[0m \u001b[31m41.8 MB/s\u001b[0m eta \u001b[36m0:00:00\u001b[0m\n",
            "\u001b[?25hCollecting aiohttp-cors (from ray[default]>=1.13.0->modin[all])\n",
            "  Downloading aiohttp_cors-0.7.0-py3-none-any.whl (27 kB)\n",
            "Collecting colorful (from ray[default]>=1.13.0->modin[all])\n",
            "  Downloading colorful-0.5.5-py2.py3-none-any.whl (201 kB)\n",
            "\u001b[2K     \u001b[90m━━━━━━━━━━━━━━━━━━━━━━━━━━━━━━━━━━━━━━\u001b[0m \u001b[32m201.4/201.4 kB\u001b[0m \u001b[31m13.7 MB/s\u001b[0m eta \u001b[36m0:00:00\u001b[0m\n",
            "\u001b[?25hCollecting py-spy>=0.2.0 (from ray[default]>=1.13.0->modin[all])\n",
            "  Downloading py_spy-0.3.14-py2.py3-none-manylinux_2_5_x86_64.manylinux1_x86_64.whl (3.0 MB)\n",
            "\u001b[2K     \u001b[90m━━━━━━━━━━━━━━━━━━━━━━━━━━━━━━━━━━━━━━━━\u001b[0m \u001b[32m3.0/3.0 MB\u001b[0m \u001b[31m60.3 MB/s\u001b[0m eta \u001b[36m0:00:00\u001b[0m\n",
            "\u001b[?25hCollecting gpustat>=1.0.0 (from ray[default]>=1.13.0->modin[all])\n",
            "  Downloading gpustat-1.1.tar.gz (97 kB)\n",
            "\u001b[2K     \u001b[90m━━━━━━━━━━━━━━━━━━━━━━━━━━━━━━━━━━━━━━━━\u001b[0m \u001b[32m97.9/97.9 kB\u001b[0m \u001b[31m11.7 MB/s\u001b[0m eta \u001b[36m0:00:00\u001b[0m\n",
            "\u001b[?25h  Installing build dependencies ... \u001b[?25l\u001b[?25hdone\n",
            "  Getting requirements to build wheel ... \u001b[?25l\u001b[?25hdone\n",
            "  Preparing metadata (pyproject.toml) ... \u001b[?25l\u001b[?25hdone\n",
            "Collecting opencensus (from ray[default]>=1.13.0->modin[all])\n",
            "  Downloading opencensus-0.11.2-py2.py3-none-any.whl (128 kB)\n",
            "\u001b[2K     \u001b[90m━━━━━━━━━━━━━━━━━━━━━━━━━━━━━━━━━━━━━━\u001b[0m \u001b[32m128.2/128.2 kB\u001b[0m \u001b[31m13.6 MB/s\u001b[0m eta \u001b[36m0:00:00\u001b[0m\n",
            "\u001b[?25hRequirement already satisfied: pydantic in /usr/local/lib/python3.10/dist-packages (from ray[default]>=1.13.0->modin[all]) (1.10.7)\n",
            "Requirement already satisfied: prometheus-client>=0.7.1 in /usr/local/lib/python3.10/dist-packages (from ray[default]>=1.13.0->modin[all]) (0.16.0)\n",
            "Requirement already satisfied: smart-open in /usr/local/lib/python3.10/dist-packages (from ray[default]>=1.13.0->modin[all]) (6.3.0)\n",
            "Collecting mpi4py-mpich (from unidist[mpi]>=0.2.1->modin[all])\n",
            "  Downloading mpi4py_mpich-3.1.2-cp310-cp310-manylinux_2_17_x86_64.manylinux2014_x86_64.whl (6.3 MB)\n",
            "\u001b[2K     \u001b[90m━━━━━━━━━━━━━━━━━━━━━━━━━━━━━━━━━━━━━━━━\u001b[0m \u001b[32m6.3/6.3 MB\u001b[0m \u001b[31m77.6 MB/s\u001b[0m eta \u001b[36m0:00:00\u001b[0m\n",
            "\u001b[?25hCollecting botocore<1.30.0,>=1.29.137 (from boto3->modin[all])\n",
            "  Downloading botocore-1.29.137-py3-none-any.whl (10.8 MB)\n",
            "\u001b[2K     \u001b[90m━━━━━━━━━━━━━━━━━━━━━━━━━━━━━━━━━━━━━━━━\u001b[0m \u001b[32m10.8/10.8 MB\u001b[0m \u001b[31m76.6 MB/s\u001b[0m eta \u001b[36m0:00:00\u001b[0m\n",
            "\u001b[?25hCollecting jmespath<2.0.0,>=0.7.1 (from boto3->modin[all])\n",
            "  Downloading jmespath-1.0.1-py3-none-any.whl (20 kB)\n",
            "Collecting s3transfer<0.7.0,>=0.6.0 (from boto3->modin[all])\n",
            "  Downloading s3transfer-0.6.1-py3-none-any.whl (79 kB)\n",
            "\u001b[2K     \u001b[90m━━━━━━━━━━━━━━━━━━━━━━━━━━━━━━━━━━━━━━━━\u001b[0m \u001b[32m79.8/79.8 kB\u001b[0m \u001b[31m9.2 MB/s\u001b[0m eta \u001b[36m0:00:00\u001b[0m\n",
            "\u001b[?25hRequirement already satisfied: charset-normalizer<4.0,>=2.0 in /usr/local/lib/python3.10/dist-packages (from aiohttp>=3.7->ray[default]>=1.13.0->modin[all]) (2.0.12)\n",
            "Collecting multidict<7.0,>=4.5 (from aiohttp>=3.7->ray[default]>=1.13.0->modin[all])\n",
            "  Downloading multidict-6.0.4-cp310-cp310-manylinux_2_17_x86_64.manylinux2014_x86_64.whl (114 kB)\n",
            "\u001b[2K     \u001b[90m━━━━━━━━━━━━━━━━━━━━━━━━━━━━━━━━━━━━━━\u001b[0m \u001b[32m114.5/114.5 kB\u001b[0m \u001b[31m11.9 MB/s\u001b[0m eta \u001b[36m0:00:00\u001b[0m\n",
            "\u001b[?25hCollecting async-timeout<5.0,>=4.0.0a3 (from aiohttp>=3.7->ray[default]>=1.13.0->modin[all])\n",
            "  Downloading async_timeout-4.0.2-py3-none-any.whl (5.8 kB)\n",
            "Collecting yarl<2.0,>=1.0 (from aiohttp>=3.7->ray[default]>=1.13.0->modin[all])\n",
            "  Downloading yarl-1.9.2-cp310-cp310-manylinux_2_17_x86_64.manylinux2014_x86_64.whl (268 kB)\n",
            "\u001b[2K     \u001b[90m━━━━━━━━━━━━━━━━━━━━━━━━━━━━━━━━━━━━━━\u001b[0m \u001b[32m268.8/268.8 kB\u001b[0m \u001b[31m25.1 MB/s\u001b[0m eta \u001b[36m0:00:00\u001b[0m\n",
            "\u001b[?25hCollecting nvidia-ml-py>=11.450.129 (from gpustat>=1.0.0->ray[default]>=1.13.0->modin[all])\n",
            "  Downloading nvidia_ml_py-11.525.112-py3-none-any.whl (35 kB)\n",
            "Collecting blessed>=1.17.1 (from gpustat>=1.0.0->ray[default]>=1.13.0->modin[all])\n",
            "  Downloading blessed-1.20.0-py2.py3-none-any.whl (58 kB)\n",
            "\u001b[2K     \u001b[90m━━━━━━━━━━━━━━━━━━━━━━━━━━━━━━━━━━━━━━━━\u001b[0m \u001b[32m58.4/58.4 kB\u001b[0m \u001b[31m6.8 MB/s\u001b[0m eta \u001b[36m0:00:00\u001b[0m\n",
            "\u001b[?25hRequirement already satisfied: ipykernel>=4.5.1 in /usr/local/lib/python3.10/dist-packages (from ipywidgets>=7.0.0->modin-spreadsheet>=0.1.0->modin[all]) (5.5.6)\n",
            "Requirement already satisfied: ipython-genutils~=0.2.0 in /usr/local/lib/python3.10/dist-packages (from ipywidgets>=7.0.0->modin-spreadsheet>=0.1.0->modin[all]) (0.2.0)\n",
            "Requirement already satisfied: traitlets>=4.3.1 in /usr/local/lib/python3.10/dist-packages (from ipywidgets>=7.0.0->modin-spreadsheet>=0.1.0->modin[all]) (5.7.1)\n",
            "Requirement already satisfied: widgetsnbextension~=3.6.0 in /usr/local/lib/python3.10/dist-packages (from ipywidgets>=7.0.0->modin-spreadsheet>=0.1.0->modin[all]) (3.6.4)\n",
            "Requirement already satisfied: ipython>=4.0.0 in /usr/local/lib/python3.10/dist-packages (from ipywidgets>=7.0.0->modin-spreadsheet>=0.1.0->modin[all]) (7.34.0)\n",
            "Requirement already satisfied: jupyterlab-widgets>=1.0.0 in /usr/local/lib/python3.10/dist-packages (from ipywidgets>=7.0.0->modin-spreadsheet>=0.1.0->modin[all]) (3.0.7)\n",
            "Collecting qtconsole (from jupyter>=1.0.0->modin-spreadsheet>=0.1.0->modin[all])\n",
            "  Downloading qtconsole-5.4.3-py3-none-any.whl (121 kB)\n",
            "\u001b[2K     \u001b[90m━━━━━━━━━━━━━━━━━━━━━━━━━━━━━━━━━━━━━━\u001b[0m \u001b[32m121.9/121.9 kB\u001b[0m \u001b[31m14.7 MB/s\u001b[0m eta \u001b[36m0:00:00\u001b[0m\n",
            "\u001b[?25hRequirement already satisfied: jupyter-console in /usr/local/lib/python3.10/dist-packages (from jupyter>=1.0.0->modin-spreadsheet>=0.1.0->modin[all]) (6.1.0)\n",
            "Requirement already satisfied: nbconvert in /usr/local/lib/python3.10/dist-packages (from jupyter>=1.0.0->modin-spreadsheet>=0.1.0->modin[all]) (6.5.4)\n",
            "Requirement already satisfied: pyzmq>=17 in /usr/local/lib/python3.10/dist-packages (from notebook>=6.0.3->modin-spreadsheet>=0.1.0->modin[all]) (23.2.1)\n",
            "Requirement already satisfied: argon2-cffi in /usr/local/lib/python3.10/dist-packages (from notebook>=6.0.3->modin-spreadsheet>=0.1.0->modin[all]) (21.3.0)\n",
            "Requirement already satisfied: jupyter-core>=4.6.1 in /usr/local/lib/python3.10/dist-packages (from notebook>=6.0.3->modin-spreadsheet>=0.1.0->modin[all]) (5.3.0)\n",
            "Requirement already satisfied: jupyter-client>=5.3.4 in /usr/local/lib/python3.10/dist-packages (from notebook>=6.0.3->modin-spreadsheet>=0.1.0->modin[all]) (6.1.12)\n",
            "Requirement already satisfied: nbformat in /usr/local/lib/python3.10/dist-packages (from notebook>=6.0.3->modin-spreadsheet>=0.1.0->modin[all]) (5.8.0)\n",
            "Requirement already satisfied: nest-asyncio>=1.5 in /usr/local/lib/python3.10/dist-packages (from notebook>=6.0.3->modin-spreadsheet>=0.1.0->modin[all]) (1.5.6)\n",
            "Requirement already satisfied: Send2Trash>=1.8.0 in /usr/local/lib/python3.10/dist-packages (from notebook>=6.0.3->modin-spreadsheet>=0.1.0->modin[all]) (1.8.0)\n",
            "Requirement already satisfied: terminado>=0.8.3 in /usr/local/lib/python3.10/dist-packages (from notebook>=6.0.3->modin-spreadsheet>=0.1.0->modin[all]) (0.17.1)\n",
            "Requirement already satisfied: six>=1.5 in /usr/local/lib/python3.10/dist-packages (from python-dateutil>=2.8.1->pandas==1.5.3->modin[all]) (1.16.0)\n",
            "Collecting distlib<1,>=0.3.6 (from virtualenv<20.21.1,>=20.0.24->ray[default]>=1.13.0->modin[all])\n",
            "  Downloading distlib-0.3.6-py2.py3-none-any.whl (468 kB)\n",
            "\u001b[2K     \u001b[90m━━━━━━━━━━━━━━━━━━━━━━━━━━━━━━━━━━━━━━\u001b[0m \u001b[32m468.5/468.5 kB\u001b[0m \u001b[31m28.5 MB/s\u001b[0m eta \u001b[36m0:00:00\u001b[0m\n",
            "\u001b[?25hRequirement already satisfied: platformdirs<4,>=2.4 in /usr/local/lib/python3.10/dist-packages (from virtualenv<20.21.1,>=20.0.24->ray[default]>=1.13.0->modin[all]) (3.3.0)\n",
            "Requirement already satisfied: MarkupSafe>=2.0 in /usr/local/lib/python3.10/dist-packages (from jinja2->distributed>=2.22.0->modin[all]) (2.1.2)\n",
            "Requirement already satisfied: pyrsistent!=0.17.0,!=0.17.1,!=0.17.2,>=0.14.0 in /usr/local/lib/python3.10/dist-packages (from jsonschema->ray[default]>=1.13.0->modin[all]) (0.19.3)\n",
            "Collecting opencensus-context>=0.1.3 (from opencensus->ray[default]>=1.13.0->modin[all])\n",
            "  Downloading opencensus_context-0.1.3-py2.py3-none-any.whl (5.1 kB)\n",
            "Requirement already satisfied: google-api-core<3.0.0,>=1.0.0 in /usr/local/lib/python3.10/dist-packages (from opencensus->ray[default]>=1.13.0->modin[all]) (2.11.0)\n",
            "Requirement already satisfied: typing-extensions>=4.2.0 in /usr/local/lib/python3.10/dist-packages (from pydantic->ray[default]>=1.13.0->modin[all]) (4.5.0)\n",
            "Requirement already satisfied: certifi>=2017.4.17 in /usr/local/lib/python3.10/dist-packages (from requests->ray[default]>=1.13.0->modin[all]) (2022.12.7)\n",
            "Requirement already satisfied: idna<4,>=2.5 in /usr/local/lib/python3.10/dist-packages (from requests->ray[default]>=1.13.0->modin[all]) (3.4)\n",
            "Requirement already satisfied: wcwidth>=0.1.4 in /usr/local/lib/python3.10/dist-packages (from blessed>=1.17.1->gpustat>=1.0.0->ray[default]>=1.13.0->modin[all]) (0.2.6)\n",
            "Requirement already satisfied: googleapis-common-protos<2.0dev,>=1.56.2 in /usr/local/lib/python3.10/dist-packages (from google-api-core<3.0.0,>=1.0.0->opencensus->ray[default]>=1.13.0->modin[all]) (1.59.0)\n",
            "Requirement already satisfied: google-auth<3.0dev,>=2.14.1 in /usr/local/lib/python3.10/dist-packages (from google-api-core<3.0.0,>=1.0.0->opencensus->ray[default]>=1.13.0->modin[all]) (2.17.3)\n",
            "Requirement already satisfied: setuptools>=18.5 in /usr/local/lib/python3.10/dist-packages (from ipython>=4.0.0->ipywidgets>=7.0.0->modin-spreadsheet>=0.1.0->modin[all]) (67.7.2)\n",
            "Collecting jedi>=0.16 (from ipython>=4.0.0->ipywidgets>=7.0.0->modin-spreadsheet>=0.1.0->modin[all])\n",
            "  Downloading jedi-0.18.2-py2.py3-none-any.whl (1.6 MB)\n",
            "\u001b[2K     \u001b[90m━━━━━━━━━━━━━━━━━━━━━━━━━━━━━━━━━━━━━━━━\u001b[0m \u001b[32m1.6/1.6 MB\u001b[0m \u001b[31m40.9 MB/s\u001b[0m eta \u001b[36m0:00:00\u001b[0m\n",
            "\u001b[?25hRequirement already satisfied: decorator in /usr/local/lib/python3.10/dist-packages (from ipython>=4.0.0->ipywidgets>=7.0.0->modin-spreadsheet>=0.1.0->modin[all]) (4.4.2)\n",
            "Requirement already satisfied: pickleshare in /usr/local/lib/python3.10/dist-packages (from ipython>=4.0.0->ipywidgets>=7.0.0->modin-spreadsheet>=0.1.0->modin[all]) (0.7.5)\n",
            "Requirement already satisfied: prompt-toolkit!=3.0.0,!=3.0.1,<3.1.0,>=2.0.0 in /usr/local/lib/python3.10/dist-packages (from ipython>=4.0.0->ipywidgets>=7.0.0->modin-spreadsheet>=0.1.0->modin[all]) (3.0.38)\n",
            "Requirement already satisfied: pygments in /usr/local/lib/python3.10/dist-packages (from ipython>=4.0.0->ipywidgets>=7.0.0->modin-spreadsheet>=0.1.0->modin[all]) (2.14.0)\n",
            "Requirement already satisfied: backcall in /usr/local/lib/python3.10/dist-packages (from ipython>=4.0.0->ipywidgets>=7.0.0->modin-spreadsheet>=0.1.0->modin[all]) (0.2.0)\n",
            "Requirement already satisfied: matplotlib-inline in /usr/local/lib/python3.10/dist-packages (from ipython>=4.0.0->ipywidgets>=7.0.0->modin-spreadsheet>=0.1.0->modin[all]) (0.1.6)\n",
            "Requirement already satisfied: pexpect>4.3 in /usr/local/lib/python3.10/dist-packages (from ipython>=4.0.0->ipywidgets>=7.0.0->modin-spreadsheet>=0.1.0->modin[all]) (4.8.0)\n",
            "Requirement already satisfied: ptyprocess in /usr/local/lib/python3.10/dist-packages (from terminado>=0.8.3->notebook>=6.0.3->modin-spreadsheet>=0.1.0->modin[all]) (0.7.0)\n",
            "Requirement already satisfied: argon2-cffi-bindings in /usr/local/lib/python3.10/dist-packages (from argon2-cffi->notebook>=6.0.3->modin-spreadsheet>=0.1.0->modin[all]) (21.2.0)\n",
            "Requirement already satisfied: lxml in /usr/local/lib/python3.10/dist-packages (from nbconvert->jupyter>=1.0.0->modin-spreadsheet>=0.1.0->modin[all]) (4.9.2)\n",
            "Requirement already satisfied: beautifulsoup4 in /usr/local/lib/python3.10/dist-packages (from nbconvert->jupyter>=1.0.0->modin-spreadsheet>=0.1.0->modin[all]) (4.11.2)\n",
            "Requirement already satisfied: bleach in /usr/local/lib/python3.10/dist-packages (from nbconvert->jupyter>=1.0.0->modin-spreadsheet>=0.1.0->modin[all]) (6.0.0)\n",
            "Requirement already satisfied: defusedxml in /usr/local/lib/python3.10/dist-packages (from nbconvert->jupyter>=1.0.0->modin-spreadsheet>=0.1.0->modin[all]) (0.7.1)\n",
            "Requirement already satisfied: entrypoints>=0.2.2 in /usr/local/lib/python3.10/dist-packages (from nbconvert->jupyter>=1.0.0->modin-spreadsheet>=0.1.0->modin[all]) (0.4)\n",
            "Requirement already satisfied: jupyterlab-pygments in /usr/local/lib/python3.10/dist-packages (from nbconvert->jupyter>=1.0.0->modin-spreadsheet>=0.1.0->modin[all]) (0.2.2)\n",
            "Requirement already satisfied: mistune<2,>=0.8.1 in /usr/local/lib/python3.10/dist-packages (from nbconvert->jupyter>=1.0.0->modin-spreadsheet>=0.1.0->modin[all]) (0.8.4)\n",
            "Requirement already satisfied: nbclient>=0.5.0 in /usr/local/lib/python3.10/dist-packages (from nbconvert->jupyter>=1.0.0->modin-spreadsheet>=0.1.0->modin[all]) (0.7.4)\n",
            "Requirement already satisfied: pandocfilters>=1.4.1 in /usr/local/lib/python3.10/dist-packages (from nbconvert->jupyter>=1.0.0->modin-spreadsheet>=0.1.0->modin[all]) (1.5.0)\n",
            "Requirement already satisfied: tinycss2 in /usr/local/lib/python3.10/dist-packages (from nbconvert->jupyter>=1.0.0->modin-spreadsheet>=0.1.0->modin[all]) (1.2.1)\n",
            "Requirement already satisfied: fastjsonschema in /usr/local/lib/python3.10/dist-packages (from nbformat->notebook>=6.0.3->modin-spreadsheet>=0.1.0->modin[all]) (2.16.3)\n",
            "Collecting qtpy>=2.0.1 (from qtconsole->jupyter>=1.0.0->modin-spreadsheet>=0.1.0->modin[all])\n",
            "  Downloading QtPy-2.3.1-py3-none-any.whl (84 kB)\n",
            "\u001b[2K     \u001b[90m━━━━━━━━━━━━━━━━━━━━━━━━━━━━━━━━━━━━━━━━\u001b[0m \u001b[32m84.9/84.9 kB\u001b[0m \u001b[31m5.6 MB/s\u001b[0m eta \u001b[36m0:00:00\u001b[0m\n",
            "\u001b[?25hRequirement already satisfied: cachetools<6.0,>=2.0.0 in /usr/local/lib/python3.10/dist-packages (from google-auth<3.0dev,>=2.14.1->google-api-core<3.0.0,>=1.0.0->opencensus->ray[default]>=1.13.0->modin[all]) (5.3.0)\n",
            "Requirement already satisfied: pyasn1-modules>=0.2.1 in /usr/local/lib/python3.10/dist-packages (from google-auth<3.0dev,>=2.14.1->google-api-core<3.0.0,>=1.0.0->opencensus->ray[default]>=1.13.0->modin[all]) (0.3.0)\n",
            "Requirement already satisfied: rsa<5,>=3.1.4 in /usr/local/lib/python3.10/dist-packages (from google-auth<3.0dev,>=2.14.1->google-api-core<3.0.0,>=1.0.0->opencensus->ray[default]>=1.13.0->modin[all]) (4.9)\n",
            "Requirement already satisfied: parso<0.9.0,>=0.8.0 in /usr/local/lib/python3.10/dist-packages (from jedi>=0.16->ipython>=4.0.0->ipywidgets>=7.0.0->modin-spreadsheet>=0.1.0->modin[all]) (0.8.3)\n",
            "Requirement already satisfied: cffi>=1.0.1 in /usr/local/lib/python3.10/dist-packages (from argon2-cffi-bindings->argon2-cffi->notebook>=6.0.3->modin-spreadsheet>=0.1.0->modin[all]) (1.15.1)\n",
            "Requirement already satisfied: soupsieve>1.2 in /usr/local/lib/python3.10/dist-packages (from beautifulsoup4->nbconvert->jupyter>=1.0.0->modin-spreadsheet>=0.1.0->modin[all]) (2.4.1)\n",
            "Requirement already satisfied: webencodings in /usr/local/lib/python3.10/dist-packages (from bleach->nbconvert->jupyter>=1.0.0->modin-spreadsheet>=0.1.0->modin[all]) (0.5.1)\n",
            "Requirement already satisfied: pycparser in /usr/local/lib/python3.10/dist-packages (from cffi>=1.0.1->argon2-cffi-bindings->argon2-cffi->notebook>=6.0.3->modin-spreadsheet>=0.1.0->modin[all]) (2.21)\n",
            "Requirement already satisfied: pyasn1<0.6.0,>=0.4.6 in /usr/local/lib/python3.10/dist-packages (from pyasn1-modules>=0.2.1->google-auth<3.0dev,>=2.14.1->google-api-core<3.0.0,>=1.0.0->opencensus->ray[default]>=1.13.0->modin[all]) (0.5.0)\n",
            "Building wheels for collected packages: gpustat\n",
            "  Building wheel for gpustat (pyproject.toml) ... \u001b[?25l\u001b[?25hdone\n",
            "  Created wheel for gpustat: filename=gpustat-1.1-py3-none-any.whl size=26280 sha256=c0cf28b2f80a5b0ef76842953d0463289bb10609b3e72b88fd4f8e71bee518a9\n",
            "  Stored in directory: /root/.cache/pip/wheels/ee/d0/2c/1e02440645c2318ba03aea99993a44a9108dc8f74de0bd370b\n",
            "Successfully built gpustat\n",
            "Installing collected packages: py-spy, opencensus-context, nvidia-ml-py, distlib, colorful, virtualenv, unidist, qtpy, plumbum, multidict, mpi4py-mpich, jmespath, jedi, grpcio, frozenlist, blessed, async-timeout, yarl, rpyc, gpustat, botocore, aiosignal, s3transfer, ray, modin, aiohttp, qtconsole, opencensus, boto3, aiohttp-cors, jupyter, modin-spreadsheet\n",
            "  Attempting uninstall: grpcio\n",
            "    Found existing installation: grpcio 1.54.0\n",
            "    Uninstalling grpcio-1.54.0:\n",
            "      Successfully uninstalled grpcio-1.54.0\n",
            "Successfully installed aiohttp-3.8.4 aiohttp-cors-0.7.0 aiosignal-1.3.1 async-timeout-4.0.2 blessed-1.20.0 boto3-1.26.137 botocore-1.29.137 colorful-0.5.5 distlib-0.3.6 frozenlist-1.3.3 gpustat-1.1 grpcio-1.51.3 jedi-0.18.2 jmespath-1.0.1 jupyter-1.0.0 modin-0.20.1 modin-spreadsheet-0.1.2 mpi4py-mpich-3.1.2 multidict-6.0.4 nvidia-ml-py-11.525.112 opencensus-0.11.2 opencensus-context-0.1.3 plumbum-1.8.1 py-spy-0.3.14 qtconsole-5.4.3 qtpy-2.3.1 ray-2.4.0 rpyc-4.1.5 s3transfer-0.6.1 unidist-0.3.0 virtualenv-20.21.0 yarl-1.9.2\n"
          ]
        }
      ],
      "source": [
        "!pip install modin[all]"
      ]
    },
    {
      "cell_type": "code",
      "execution_count": null,
      "metadata": {
        "id": "FgN4W_bdmSZu"
      },
      "outputs": [],
      "source": [
        "import tensorflow as tf\n",
        "import tensorflow_hub as hub\n",
        "import tensorflow_text as text"
      ]
    },
    {
      "cell_type": "code",
      "execution_count": null,
      "metadata": {
        "colab": {
          "base_uri": "https://localhost:8080/"
        },
        "id": "h3IIbrrEzME8",
        "outputId": "e4e9c51a-3329-478e-fa47-cfb5892db9ba"
      },
      "outputs": [
        {
          "output_type": "stream",
          "name": "stdout",
          "text": [
            "Mounted at /content/gdrive\n"
          ]
        }
      ],
      "source": [
        "from google.colab import drive\n",
        "\n",
        "drive.mount(\"/content/gdrive\")"
      ]
    },
    {
      "cell_type": "code",
      "execution_count": null,
      "metadata": {
        "id": "oG32m2200wNc"
      },
      "outputs": [],
      "source": [
        "import os"
      ]
    },
    {
      "cell_type": "code",
      "execution_count": null,
      "metadata": {
        "colab": {
          "base_uri": "https://localhost:8080/"
        },
        "id": "Zo1xDg0p0xNf",
        "outputId": "a341798b-8f79-4215-a38f-a30e9bf28e06"
      },
      "outputs": [
        {
          "data": {
            "text/plain": [
              "['.config', 'gdrive', 'sample_data']"
            ]
          },
          "execution_count": 7,
          "metadata": {},
          "output_type": "execute_result"
        }
      ],
      "source": [
        "os.listdir()"
      ]
    },
    {
      "cell_type": "code",
      "execution_count": null,
      "metadata": {
        "colab": {
          "base_uri": "https://localhost:8080/",
          "height": 118
        },
        "id": "hKIYfzx2AIvc",
        "outputId": "7f9fde97-fb41-4577-fbc8-3bfafb223977"
      },
      "outputs": [
        {
          "name": "stderr",
          "output_type": "stream",
          "text": [
            "2023-05-20 12:11:38,950\tINFO worker.py:1616 -- Started a local Ray instance. View the dashboard at \u001b[1m\u001b[32m127.0.0.1:8265 \u001b[39m\u001b[22m\n",
            "2023-05-20 12:11:41,030\tWARNING worker.py:2227 -- `driver_object_store_memory` is deprecated and will be removed in the future.\n"
          ]
        },
        {
          "data": {
            "text/html": [
              "<div>\n",
              "    <div style=\"margin-left: 50px;display: flex;flex-direction: row;align-items: center\">\n",
              "        <h3 style=\"color: var(--jp-ui-font-color0)\">Ray</h3>\n",
              "        <svg version=\"1.1\" id=\"ray\" width=\"3em\" viewBox=\"0 0 144.5 144.6\" style=\"margin-left: 3em;margin-right: 3em\">\n",
              "            <g id=\"layer-1\">\n",
              "                <path fill=\"#00a2e9\" class=\"st0\" d=\"M97.3,77.2c-3.8-1.1-6.2,0.9-8.3,5.1c-3.5,6.8-9.9,9.9-17.4,9.6S58,88.1,54.8,81.2c-1.4-3-3-4-6.3-4.1\n",
              "                    c-5.6-0.1-9.9,0.1-13.1,6.4c-3.8,7.6-13.6,10.2-21.8,7.6C5.2,88.4-0.4,80.5,0,71.7c0.1-8.4,5.7-15.8,13.8-18.2\n",
              "                    c8.4-2.6,17.5,0.7,22.3,8c1.3,1.9,1.3,5.2,3.6,5.6c3.9,0.6,8,0.2,12,0.2c1.8,0,1.9-1.6,2.4-2.8c3.5-7.8,9.7-11.8,18-11.9\n",
              "                    c8.2-0.1,14.4,3.9,17.8,11.4c1.3,2.8,2.9,3.6,5.7,3.3c1-0.1,2,0.1,3,0c2.8-0.5,6.4,1.7,8.1-2.7s-2.3-5.5-4.1-7.5\n",
              "                    c-5.1-5.7-10.9-10.8-16.1-16.3C84,38,81.9,37.1,78,38.3C66.7,42,56.2,35.7,53,24.1C50.3,14,57.3,2.8,67.7,0.5\n",
              "                    C78.4-2,89,4.7,91.5,15.3c0.1,0.3,0.1,0.5,0.2,0.8c0.7,3.4,0.7,6.9-0.8,9.8c-1.7,3.2-0.8,5,1.5,7.2c6.7,6.5,13.3,13,19.8,19.7\n",
              "                    c1.8,1.8,3,2.1,5.5,1.2c9.1-3.4,17.9-0.6,23.4,7c4.8,6.9,4.6,16.1-0.4,22.9c-5.4,7.2-14.2,9.9-23.1,6.5c-2.3-0.9-3.5-0.6-5.1,1.1\n",
              "                    c-6.7,6.9-13.6,13.7-20.5,20.4c-1.8,1.8-2.5,3.2-1.4,5.9c3.5,8.7,0.3,18.6-7.7,23.6c-7.9,5-18.2,3.8-24.8-2.9\n",
              "                    c-6.4-6.4-7.4-16.2-2.5-24.3c4.9-7.8,14.5-11,23.1-7.8c3,1.1,4.7,0.5,6.9-1.7C91.7,98.4,98,92.3,104.2,86c1.6-1.6,4.1-2.7,2.6-6.2\n",
              "                    c-1.4-3.3-3.8-2.5-6.2-2.6C99.8,77.2,98.9,77.2,97.3,77.2z M72.1,29.7c5.5,0.1,9.9-4.3,10-9.8c0-0.1,0-0.2,0-0.3\n",
              "                    C81.8,14,77,9.8,71.5,10.2c-5,0.3-9,4.2-9.3,9.2c-0.2,5.5,4,10.1,9.5,10.3C71.8,29.7,72,29.7,72.1,29.7z M72.3,62.3\n",
              "                    c-5.4-0.1-9.9,4.2-10.1,9.7c0,0.2,0,0.3,0,0.5c0.2,5.4,4.5,9.7,9.9,10c5.1,0.1,9.9-4.7,10.1-9.8c0.2-5.5-4-10-9.5-10.3\n",
              "                    C72.6,62.3,72.4,62.3,72.3,62.3z M115,72.5c0.1,5.4,4.5,9.7,9.8,9.9c5.6-0.2,10-4.8,10-10.4c-0.2-5.4-4.6-9.7-10-9.7\n",
              "                    c-5.3-0.1-9.8,4.2-9.9,9.5C115,72.1,115,72.3,115,72.5z M19.5,62.3c-5.4,0.1-9.8,4.4-10,9.8c-0.1,5.1,5.2,10.4,10.2,10.3\n",
              "                    c5.6-0.2,10-4.9,9.8-10.5c-0.1-5.4-4.5-9.7-9.9-9.6C19.6,62.3,19.5,62.3,19.5,62.3z M71.8,134.6c5.9,0.2,10.3-3.9,10.4-9.6\n",
              "                    c0.5-5.5-3.6-10.4-9.1-10.8c-5.5-0.5-10.4,3.6-10.8,9.1c0,0.5,0,0.9,0,1.4c-0.2,5.3,4,9.8,9.3,10\n",
              "                    C71.6,134.6,71.7,134.6,71.8,134.6z\"/>\n",
              "            </g>\n",
              "        </svg>\n",
              "        <table>\n",
              "            <tr>\n",
              "                <td style=\"text-align: left\"><b>Python version:</b></td>\n",
              "                <td style=\"text-align: left\"><b>3.10.11</b></td>\n",
              "            </tr>\n",
              "            <tr>\n",
              "                <td style=\"text-align: left\"><b>Ray version:</b></td>\n",
              "                <td style=\"text-align: left\"><b> 2.4.0</b></td>\n",
              "            </tr>\n",
              "            <tr>\n",
              "    <td style=\"text-align: left\"><b>Dashboard:</b></td>\n",
              "    <td style=\"text-align: left\"><b><a href=\"http://127.0.0.1:8265\" target=\"_blank\">http://127.0.0.1:8265</a></b></td>\n",
              "</tr>\n",
              "\n",
              "        </table>\n",
              "    </div>\n",
              "</div>\n"
            ],
            "text/plain": [
              "RayContext(dashboard_url='127.0.0.1:8265', python_version='3.10.11', ray_version='2.4.0', ray_commit='4479f66d4db967d3c9dd0af2572061276ba926ba', address_info={'node_ip_address': '172.28.0.12', 'raylet_ip_address': '172.28.0.12', 'redis_address': None, 'object_store_address': '/tmp/ray/session_2023-05-20_12-11-32_834155_1242/sockets/plasma_store', 'raylet_socket_name': '/tmp/ray/session_2023-05-20_12-11-32_834155_1242/sockets/raylet', 'webui_url': '127.0.0.1:8265', 'session_dir': '/tmp/ray/session_2023-05-20_12-11-32_834155_1242', 'metrics_export_port': 37730, 'gcs_address': '172.28.0.12:57864', 'address': '172.28.0.12:57864', 'dashboard_agent_listen_port': 52365, 'node_id': '8a33baf4afb28bd6789b0a4a00a1875063d124a20bb41ae65af5f3e7'})"
            ]
          },
          "execution_count": 8,
          "metadata": {},
          "output_type": "execute_result"
        }
      ],
      "source": [
        "import ray\n",
        "ray.shutdown()\n",
        "ray.init(_memory=16000 * 1024 * 1024, object_store_memory=500 * 1024 * 1024,_driver_object_store_memory=500 * 1024 * 1024)"
      ]
    },
    {
      "cell_type": "code",
      "execution_count": null,
      "metadata": {
        "id": "Bs5fyPLLClKG"
      },
      "outputs": [],
      "source": [
        "import modin.pandas as pd"
      ]
    },
    {
      "cell_type": "code",
      "execution_count": null,
      "metadata": {
        "colab": {
          "base_uri": "https://localhost:8080/"
        },
        "id": "25I8LHTrzgA7",
        "outputId": "652d4c2d-00ef-40d9-974e-d06bd593b1f3"
      },
      "outputs": [
        {
          "name": "stderr",
          "output_type": "stream",
          "text": [
            "UserWarning: When using a pre-initialized Ray cluster, please ensure that the runtime env sets environment variable __MODIN_AUTOIMPORT_PANDAS__ to 1\n",
            "FutureWarning: The error_bad_lines argument has been deprecated and will be removed in a future version. Use on_bad_lines in the future.\n",
            "\n",
            "\n"
          ]
        }
      ],
      "source": [
        "df = pd.read_csv(\n",
        "    \"/content/gdrive/MyDrive/NOTEEVENTS.csv.gz\",\n",
        "    compression = 'gzip',\n",
        "    error_bad_lines = False\n",
        ")"
      ]
    },
    {
      "cell_type": "code",
      "execution_count": null,
      "metadata": {
        "colab": {
          "base_uri": "https://localhost:8080/",
          "height": 833
        },
        "id": "ovftsoYzmVrG",
        "outputId": "abf71d98-cf26-4c0d-93a5-8293b0a58331"
      },
      "outputs": [
        {
          "data": {
            "text/html": [
              "<div>\n",
              "<style scoped>\n",
              "    .dataframe tbody tr th:only-of-type {\n",
              "        vertical-align: middle;\n",
              "    }\n",
              "\n",
              "    .dataframe tbody tr th {\n",
              "        vertical-align: top;\n",
              "    }\n",
              "\n",
              "    .dataframe thead th {\n",
              "        text-align: right;\n",
              "    }\n",
              "</style>\n",
              "<table border=\"1\" class=\"dataframe\">\n",
              "  <thead>\n",
              "    <tr style=\"text-align: right;\">\n",
              "      <th></th>\n",
              "      <th>ROW_ID</th>\n",
              "      <th>SUBJECT_ID</th>\n",
              "      <th>HADM_ID</th>\n",
              "      <th>CHARTDATE</th>\n",
              "      <th>CHARTTIME</th>\n",
              "      <th>STORETIME</th>\n",
              "      <th>CATEGORY</th>\n",
              "      <th>DESCRIPTION</th>\n",
              "      <th>CGID</th>\n",
              "      <th>ISERROR</th>\n",
              "      <th>TEXT</th>\n",
              "    </tr>\n",
              "  </thead>\n",
              "  <tbody>\n",
              "    <tr>\n",
              "      <th>0</th>\n",
              "      <td>174</td>\n",
              "      <td>22532</td>\n",
              "      <td>167853.0</td>\n",
              "      <td>2151-08-04</td>\n",
              "      <td>NaN</td>\n",
              "      <td>NaN</td>\n",
              "      <td>Discharge summary</td>\n",
              "      <td>Report</td>\n",
              "      <td>NaN</td>\n",
              "      <td>NaN</td>\n",
              "      <td>Admission Date:  [**2151-7-16**]       Dischar...</td>\n",
              "    </tr>\n",
              "    <tr>\n",
              "      <th>1</th>\n",
              "      <td>175</td>\n",
              "      <td>13702</td>\n",
              "      <td>107527.0</td>\n",
              "      <td>2118-06-14</td>\n",
              "      <td>NaN</td>\n",
              "      <td>NaN</td>\n",
              "      <td>Discharge summary</td>\n",
              "      <td>Report</td>\n",
              "      <td>NaN</td>\n",
              "      <td>NaN</td>\n",
              "      <td>Admission Date:  [**2118-6-2**]       Discharg...</td>\n",
              "    </tr>\n",
              "    <tr>\n",
              "      <th>2</th>\n",
              "      <td>176</td>\n",
              "      <td>13702</td>\n",
              "      <td>167118.0</td>\n",
              "      <td>2119-05-25</td>\n",
              "      <td>NaN</td>\n",
              "      <td>NaN</td>\n",
              "      <td>Discharge summary</td>\n",
              "      <td>Report</td>\n",
              "      <td>NaN</td>\n",
              "      <td>NaN</td>\n",
              "      <td>Admission Date:  [**2119-5-4**]              D...</td>\n",
              "    </tr>\n",
              "    <tr>\n",
              "      <th>3</th>\n",
              "      <td>177</td>\n",
              "      <td>13702</td>\n",
              "      <td>196489.0</td>\n",
              "      <td>2124-08-18</td>\n",
              "      <td>NaN</td>\n",
              "      <td>NaN</td>\n",
              "      <td>Discharge summary</td>\n",
              "      <td>Report</td>\n",
              "      <td>NaN</td>\n",
              "      <td>NaN</td>\n",
              "      <td>Admission Date:  [**2124-7-21**]              ...</td>\n",
              "    </tr>\n",
              "    <tr>\n",
              "      <th>4</th>\n",
              "      <td>178</td>\n",
              "      <td>26880</td>\n",
              "      <td>135453.0</td>\n",
              "      <td>2162-03-25</td>\n",
              "      <td>NaN</td>\n",
              "      <td>NaN</td>\n",
              "      <td>Discharge summary</td>\n",
              "      <td>Report</td>\n",
              "      <td>NaN</td>\n",
              "      <td>NaN</td>\n",
              "      <td>Admission Date:  [**2162-3-3**]              D...</td>\n",
              "    </tr>\n",
              "    <tr>\n",
              "      <th>5</th>\n",
              "      <td>179</td>\n",
              "      <td>53181</td>\n",
              "      <td>170490.0</td>\n",
              "      <td>2172-03-08</td>\n",
              "      <td>NaN</td>\n",
              "      <td>NaN</td>\n",
              "      <td>Discharge summary</td>\n",
              "      <td>Report</td>\n",
              "      <td>NaN</td>\n",
              "      <td>NaN</td>\n",
              "      <td>Admission Date:  [**2172-3-5**]              D...</td>\n",
              "    </tr>\n",
              "    <tr>\n",
              "      <th>6</th>\n",
              "      <td>180</td>\n",
              "      <td>20646</td>\n",
              "      <td>134727.0</td>\n",
              "      <td>2112-12-10</td>\n",
              "      <td>NaN</td>\n",
              "      <td>NaN</td>\n",
              "      <td>Discharge summary</td>\n",
              "      <td>Report</td>\n",
              "      <td>NaN</td>\n",
              "      <td>NaN</td>\n",
              "      <td>Admission Date:  [**2112-12-8**]              ...</td>\n",
              "    </tr>\n",
              "    <tr>\n",
              "      <th>7</th>\n",
              "      <td>181</td>\n",
              "      <td>42130</td>\n",
              "      <td>114236.0</td>\n",
              "      <td>2150-03-01</td>\n",
              "      <td>NaN</td>\n",
              "      <td>NaN</td>\n",
              "      <td>Discharge summary</td>\n",
              "      <td>Report</td>\n",
              "      <td>NaN</td>\n",
              "      <td>NaN</td>\n",
              "      <td>Admission Date:  [**2150-2-25**]              ...</td>\n",
              "    </tr>\n",
              "    <tr>\n",
              "      <th>8</th>\n",
              "      <td>182</td>\n",
              "      <td>56174</td>\n",
              "      <td>163469.0</td>\n",
              "      <td>2118-08-12</td>\n",
              "      <td>NaN</td>\n",
              "      <td>NaN</td>\n",
              "      <td>Discharge summary</td>\n",
              "      <td>Report</td>\n",
              "      <td>NaN</td>\n",
              "      <td>NaN</td>\n",
              "      <td>Admission Date:  [**2118-8-10**]              ...</td>\n",
              "    </tr>\n",
              "    <tr>\n",
              "      <th>9</th>\n",
              "      <td>183</td>\n",
              "      <td>56174</td>\n",
              "      <td>189681.0</td>\n",
              "      <td>2118-12-09</td>\n",
              "      <td>NaN</td>\n",
              "      <td>NaN</td>\n",
              "      <td>Discharge summary</td>\n",
              "      <td>Report</td>\n",
              "      <td>NaN</td>\n",
              "      <td>NaN</td>\n",
              "      <td>Admission Date:  [**2118-12-7**]              ...</td>\n",
              "    </tr>\n",
              "    <tr>\n",
              "      <th>10</th>\n",
              "      <td>184</td>\n",
              "      <td>28063</td>\n",
              "      <td>121936.0</td>\n",
              "      <td>2125-02-16</td>\n",
              "      <td>NaN</td>\n",
              "      <td>NaN</td>\n",
              "      <td>Discharge summary</td>\n",
              "      <td>Report</td>\n",
              "      <td>NaN</td>\n",
              "      <td>NaN</td>\n",
              "      <td>Admission Date:  [**2125-2-9**]              D...</td>\n",
              "    </tr>\n",
              "    <tr>\n",
              "      <th>11</th>\n",
              "      <td>185</td>\n",
              "      <td>1136</td>\n",
              "      <td>139574.0</td>\n",
              "      <td>2192-05-23</td>\n",
              "      <td>NaN</td>\n",
              "      <td>NaN</td>\n",
              "      <td>Discharge summary</td>\n",
              "      <td>Report</td>\n",
              "      <td>NaN</td>\n",
              "      <td>NaN</td>\n",
              "      <td>Admission Date:  [**2192-4-19**]              ...</td>\n",
              "    </tr>\n",
              "    <tr>\n",
              "      <th>12</th>\n",
              "      <td>223</td>\n",
              "      <td>5350</td>\n",
              "      <td>169684.0</td>\n",
              "      <td>2143-04-30</td>\n",
              "      <td>NaN</td>\n",
              "      <td>NaN</td>\n",
              "      <td>Discharge summary</td>\n",
              "      <td>Report</td>\n",
              "      <td>NaN</td>\n",
              "      <td>NaN</td>\n",
              "      <td>Admission Date:  [**2143-4-25**]     Discharge...</td>\n",
              "    </tr>\n",
              "    <tr>\n",
              "      <th>13</th>\n",
              "      <td>224</td>\n",
              "      <td>5350</td>\n",
              "      <td>169684.0</td>\n",
              "      <td>2143-04-30</td>\n",
              "      <td>NaN</td>\n",
              "      <td>NaN</td>\n",
              "      <td>Discharge summary</td>\n",
              "      <td>Report</td>\n",
              "      <td>NaN</td>\n",
              "      <td>NaN</td>\n",
              "      <td>Admission Date:  [**2143-4-25**]     Discharge...</td>\n",
              "    </tr>\n",
              "    <tr>\n",
              "      <th>14</th>\n",
              "      <td>225</td>\n",
              "      <td>11369</td>\n",
              "      <td>121504.0</td>\n",
              "      <td>2199-02-14</td>\n",
              "      <td>NaN</td>\n",
              "      <td>NaN</td>\n",
              "      <td>Discharge summary</td>\n",
              "      <td>Report</td>\n",
              "      <td>NaN</td>\n",
              "      <td>NaN</td>\n",
              "      <td>Admission Date:  [**2199-2-8**]     Discharge ...</td>\n",
              "    </tr>\n",
              "    <tr>\n",
              "      <th>15</th>\n",
              "      <td>226</td>\n",
              "      <td>11369</td>\n",
              "      <td>103786.0</td>\n",
              "      <td>2203-11-12</td>\n",
              "      <td>NaN</td>\n",
              "      <td>NaN</td>\n",
              "      <td>Discharge summary</td>\n",
              "      <td>Report</td>\n",
              "      <td>NaN</td>\n",
              "      <td>NaN</td>\n",
              "      <td>Admission Date:  [**2203-11-3**]              ...</td>\n",
              "    </tr>\n",
              "    <tr>\n",
              "      <th>16</th>\n",
              "      <td>227</td>\n",
              "      <td>10044</td>\n",
              "      <td>124073.0</td>\n",
              "      <td>2152-10-11</td>\n",
              "      <td>NaN</td>\n",
              "      <td>NaN</td>\n",
              "      <td>Discharge summary</td>\n",
              "      <td>Report</td>\n",
              "      <td>NaN</td>\n",
              "      <td>NaN</td>\n",
              "      <td>Admission Date:  [**2152-10-2**]       Dischar...</td>\n",
              "    </tr>\n",
              "    <tr>\n",
              "      <th>17</th>\n",
              "      <td>228</td>\n",
              "      <td>79900</td>\n",
              "      <td>120644.0</td>\n",
              "      <td>2194-07-25</td>\n",
              "      <td>NaN</td>\n",
              "      <td>NaN</td>\n",
              "      <td>Discharge summary</td>\n",
              "      <td>Report</td>\n",
              "      <td>NaN</td>\n",
              "      <td>NaN</td>\n",
              "      <td>Admission Date:  [**2194-7-18**]              ...</td>\n",
              "    </tr>\n",
              "    <tr>\n",
              "      <th>18</th>\n",
              "      <td>229</td>\n",
              "      <td>79900</td>\n",
              "      <td>128319.0</td>\n",
              "      <td>2195-04-17</td>\n",
              "      <td>NaN</td>\n",
              "      <td>NaN</td>\n",
              "      <td>Discharge summary</td>\n",
              "      <td>Report</td>\n",
              "      <td>NaN</td>\n",
              "      <td>NaN</td>\n",
              "      <td>Admission Date:  [**2195-4-14**]              ...</td>\n",
              "    </tr>\n",
              "    <tr>\n",
              "      <th>19</th>\n",
              "      <td>230</td>\n",
              "      <td>9805</td>\n",
              "      <td>188132.0</td>\n",
              "      <td>2130-02-09</td>\n",
              "      <td>NaN</td>\n",
              "      <td>NaN</td>\n",
              "      <td>Discharge summary</td>\n",
              "      <td>Report</td>\n",
              "      <td>NaN</td>\n",
              "      <td>NaN</td>\n",
              "      <td>Admission Date:  [**2130-2-3**]              D...</td>\n",
              "    </tr>\n",
              "    <tr>\n",
              "      <th>20</th>\n",
              "      <td>231</td>\n",
              "      <td>9805</td>\n",
              "      <td>177212.0</td>\n",
              "      <td>2131-07-05</td>\n",
              "      <td>NaN</td>\n",
              "      <td>NaN</td>\n",
              "      <td>Discharge summary</td>\n",
              "      <td>Report</td>\n",
              "      <td>NaN</td>\n",
              "      <td>NaN</td>\n",
              "      <td>Admission Date:  [**2131-6-28**]              ...</td>\n",
              "    </tr>\n",
              "    <tr>\n",
              "      <th>21</th>\n",
              "      <td>232</td>\n",
              "      <td>9805</td>\n",
              "      <td>177212.0</td>\n",
              "      <td>2131-07-23</td>\n",
              "      <td>NaN</td>\n",
              "      <td>NaN</td>\n",
              "      <td>Discharge summary</td>\n",
              "      <td>Report</td>\n",
              "      <td>NaN</td>\n",
              "      <td>NaN</td>\n",
              "      <td>Admission Date:  [**2131-7-5**]              D...</td>\n",
              "    </tr>\n",
              "    <tr>\n",
              "      <th>22</th>\n",
              "      <td>233</td>\n",
              "      <td>99091</td>\n",
              "      <td>185274.0</td>\n",
              "      <td>2190-02-24</td>\n",
              "      <td>NaN</td>\n",
              "      <td>NaN</td>\n",
              "      <td>Discharge summary</td>\n",
              "      <td>Report</td>\n",
              "      <td>NaN</td>\n",
              "      <td>NaN</td>\n",
              "      <td>Admission Date:  [**2190-2-11**]              ...</td>\n",
              "    </tr>\n",
              "    <tr>\n",
              "      <th>23</th>\n",
              "      <td>234</td>\n",
              "      <td>70108</td>\n",
              "      <td>186093.0</td>\n",
              "      <td>2105-04-27</td>\n",
              "      <td>NaN</td>\n",
              "      <td>NaN</td>\n",
              "      <td>Discharge summary</td>\n",
              "      <td>Report</td>\n",
              "      <td>NaN</td>\n",
              "      <td>NaN</td>\n",
              "      <td>Admission Date:  [**2105-4-16**]              ...</td>\n",
              "    </tr>\n",
              "    <tr>\n",
              "      <th>24</th>\n",
              "      <td>235</td>\n",
              "      <td>19631</td>\n",
              "      <td>185175.0</td>\n",
              "      <td>2198-05-08</td>\n",
              "      <td>NaN</td>\n",
              "      <td>NaN</td>\n",
              "      <td>Discharge summary</td>\n",
              "      <td>Report</td>\n",
              "      <td>NaN</td>\n",
              "      <td>NaN</td>\n",
              "      <td>Admission Date:  [**2198-4-23**]              ...</td>\n",
              "    </tr>\n",
              "  </tbody>\n",
              "</table>\n",
              "</div>"
            ],
            "text/plain": [
              "    ROW_ID  SUBJECT_ID   HADM_ID   CHARTDATE CHARTTIME STORETIME  \\\n",
              "0      174       22532  167853.0  2151-08-04       NaN       NaN   \n",
              "1      175       13702  107527.0  2118-06-14       NaN       NaN   \n",
              "2      176       13702  167118.0  2119-05-25       NaN       NaN   \n",
              "3      177       13702  196489.0  2124-08-18       NaN       NaN   \n",
              "4      178       26880  135453.0  2162-03-25       NaN       NaN   \n",
              "5      179       53181  170490.0  2172-03-08       NaN       NaN   \n",
              "6      180       20646  134727.0  2112-12-10       NaN       NaN   \n",
              "7      181       42130  114236.0  2150-03-01       NaN       NaN   \n",
              "8      182       56174  163469.0  2118-08-12       NaN       NaN   \n",
              "9      183       56174  189681.0  2118-12-09       NaN       NaN   \n",
              "10     184       28063  121936.0  2125-02-16       NaN       NaN   \n",
              "11     185        1136  139574.0  2192-05-23       NaN       NaN   \n",
              "12     223        5350  169684.0  2143-04-30       NaN       NaN   \n",
              "13     224        5350  169684.0  2143-04-30       NaN       NaN   \n",
              "14     225       11369  121504.0  2199-02-14       NaN       NaN   \n",
              "15     226       11369  103786.0  2203-11-12       NaN       NaN   \n",
              "16     227       10044  124073.0  2152-10-11       NaN       NaN   \n",
              "17     228       79900  120644.0  2194-07-25       NaN       NaN   \n",
              "18     229       79900  128319.0  2195-04-17       NaN       NaN   \n",
              "19     230        9805  188132.0  2130-02-09       NaN       NaN   \n",
              "20     231        9805  177212.0  2131-07-05       NaN       NaN   \n",
              "21     232        9805  177212.0  2131-07-23       NaN       NaN   \n",
              "22     233       99091  185274.0  2190-02-24       NaN       NaN   \n",
              "23     234       70108  186093.0  2105-04-27       NaN       NaN   \n",
              "24     235       19631  185175.0  2198-05-08       NaN       NaN   \n",
              "\n",
              "             CATEGORY DESCRIPTION  CGID  ISERROR  \\\n",
              "0   Discharge summary      Report   NaN      NaN   \n",
              "1   Discharge summary      Report   NaN      NaN   \n",
              "2   Discharge summary      Report   NaN      NaN   \n",
              "3   Discharge summary      Report   NaN      NaN   \n",
              "4   Discharge summary      Report   NaN      NaN   \n",
              "5   Discharge summary      Report   NaN      NaN   \n",
              "6   Discharge summary      Report   NaN      NaN   \n",
              "7   Discharge summary      Report   NaN      NaN   \n",
              "8   Discharge summary      Report   NaN      NaN   \n",
              "9   Discharge summary      Report   NaN      NaN   \n",
              "10  Discharge summary      Report   NaN      NaN   \n",
              "11  Discharge summary      Report   NaN      NaN   \n",
              "12  Discharge summary      Report   NaN      NaN   \n",
              "13  Discharge summary      Report   NaN      NaN   \n",
              "14  Discharge summary      Report   NaN      NaN   \n",
              "15  Discharge summary      Report   NaN      NaN   \n",
              "16  Discharge summary      Report   NaN      NaN   \n",
              "17  Discharge summary      Report   NaN      NaN   \n",
              "18  Discharge summary      Report   NaN      NaN   \n",
              "19  Discharge summary      Report   NaN      NaN   \n",
              "20  Discharge summary      Report   NaN      NaN   \n",
              "21  Discharge summary      Report   NaN      NaN   \n",
              "22  Discharge summary      Report   NaN      NaN   \n",
              "23  Discharge summary      Report   NaN      NaN   \n",
              "24  Discharge summary      Report   NaN      NaN   \n",
              "\n",
              "                                                 TEXT  \n",
              "0   Admission Date:  [**2151-7-16**]       Dischar...  \n",
              "1   Admission Date:  [**2118-6-2**]       Discharg...  \n",
              "2   Admission Date:  [**2119-5-4**]              D...  \n",
              "3   Admission Date:  [**2124-7-21**]              ...  \n",
              "4   Admission Date:  [**2162-3-3**]              D...  \n",
              "5   Admission Date:  [**2172-3-5**]              D...  \n",
              "6   Admission Date:  [**2112-12-8**]              ...  \n",
              "7   Admission Date:  [**2150-2-25**]              ...  \n",
              "8   Admission Date:  [**2118-8-10**]              ...  \n",
              "9   Admission Date:  [**2118-12-7**]              ...  \n",
              "10  Admission Date:  [**2125-2-9**]              D...  \n",
              "11  Admission Date:  [**2192-4-19**]              ...  \n",
              "12  Admission Date:  [**2143-4-25**]     Discharge...  \n",
              "13  Admission Date:  [**2143-4-25**]     Discharge...  \n",
              "14  Admission Date:  [**2199-2-8**]     Discharge ...  \n",
              "15  Admission Date:  [**2203-11-3**]              ...  \n",
              "16  Admission Date:  [**2152-10-2**]       Dischar...  \n",
              "17  Admission Date:  [**2194-7-18**]              ...  \n",
              "18  Admission Date:  [**2195-4-14**]              ...  \n",
              "19  Admission Date:  [**2130-2-3**]              D...  \n",
              "20  Admission Date:  [**2131-6-28**]              ...  \n",
              "21  Admission Date:  [**2131-7-5**]              D...  \n",
              "22  Admission Date:  [**2190-2-11**]              ...  \n",
              "23  Admission Date:  [**2105-4-16**]              ...  \n",
              "24  Admission Date:  [**2198-4-23**]              ...  "
            ]
          },
          "execution_count": 11,
          "metadata": {},
          "output_type": "execute_result"
        }
      ],
      "source": [
        "df.head(25)"
      ]
    },
    {
      "cell_type": "code",
      "execution_count": null,
      "metadata": {
        "id": "ygYZXMp-vBsz"
      },
      "outputs": [],
      "source": [
        "import gc"
      ]
    },
    {
      "cell_type": "code",
      "execution_count": null,
      "metadata": {
        "colab": {
          "base_uri": "https://localhost:8080/"
        },
        "id": "UYAh3xAGvFkc",
        "outputId": "45f33504-9703-410b-9e95-51e7535320c1"
      },
      "outputs": [
        {
          "data": {
            "text/plain": [
              "0"
            ]
          },
          "execution_count": 13,
          "metadata": {},
          "output_type": "execute_result"
        }
      ],
      "source": [
        "#del df\n",
        "gc.collect()"
      ]
    },
    {
      "cell_type": "code",
      "execution_count": null,
      "metadata": {
        "colab": {
          "base_uri": "https://localhost:8080/"
        },
        "id": "_qVk9vEIFzll",
        "outputId": "920d2cc3-6667-4ce7-f94b-f61114643a1a"
      },
      "outputs": [
        {
          "name": "stdout",
          "output_type": "stream",
          "text": [
            "Admission Date:  [**2151-7-16**]       Discharge Date:  [**2151-8-4**]\n",
            "\n",
            "\n",
            "Service:\n",
            "ADDENDUM:\n",
            "\n",
            "RADIOLOGIC STUDIES:  Radiologic studies also included a chest\n",
            "CT, which confirmed cavitary lesions in the left lung apex\n",
            "consistent with infectious process/tuberculosis.  This also\n",
            "moderate-sized left pleural effusion.\n",
            "\n",
            "HEAD CT:  Head CT showed no intracranial hemorrhage or mass\n",
            "effect, but old infarction consistent with past medical\n",
            "history.\n",
            "\n",
            "ABDOMINAL CT:  Abdominal CT showed lesions of\n",
            "T10 and sacrum most likely secondary to osteoporosis. These can\n",
            "be followed by repeat imaging as an outpatient.\n",
            "\n",
            "\n",
            "\n",
            "                            [**First Name8 (NamePattern2) **] [**First Name4 (NamePattern1) 1775**] [**Last Name (NamePattern1) **], M.D.  [**MD Number(1) 1776**]\n",
            "\n",
            "Dictated By:[**Hospital 1807**]\n",
            "MEDQUIST36\n",
            "\n",
            "D:  [**2151-8-5**]  12:11\n",
            "T:  [**2151-8-5**]  12:21\n",
            "JOB#:  [**Job Number 1808**]\n",
            "\n"
          ]
        }
      ],
      "source": [
        "print(\n",
        "    df[\"TEXT\"][0]\n",
        ")"
      ]
    },
    {
      "cell_type": "code",
      "execution_count": null,
      "metadata": {
        "colab": {
          "base_uri": "https://localhost:8080/"
        },
        "id": "H9IyCLIIAhW4",
        "outputId": "83b3d7c9-274e-487b-8f2e-2fc31c103a4e"
      },
      "outputs": [
        {
          "data": {
            "text/plain": [
              "(2083180, 11)"
            ]
          },
          "execution_count": 15,
          "metadata": {},
          "output_type": "execute_result"
        }
      ],
      "source": [
        "df.shape"
      ]
    },
    {
      "cell_type": "code",
      "execution_count": null,
      "metadata": {
        "colab": {
          "base_uri": "https://localhost:8080/"
        },
        "id": "n8oAFl1emryH",
        "outputId": "47a14cef-c182-4e7a-f732-dff34f8623e0"
      },
      "outputs": [
        {
          "data": {
            "text/plain": [
              "array(['Discharge summary', 'Echo', 'ECG', 'Nursing', 'Physician ',\n",
              "       'Rehab Services', 'Case Management ', 'Respiratory ', 'Nutrition',\n",
              "       'General', 'Social Work', 'Pharmacy', 'Consult', 'Radiology',\n",
              "       'Nursing/other'], dtype=object)"
            ]
          },
          "execution_count": 16,
          "metadata": {},
          "output_type": "execute_result"
        }
      ],
      "source": [
        "df[\"CATEGORY\"].unique()"
      ]
    },
    {
      "cell_type": "code",
      "execution_count": null,
      "metadata": {
        "colab": {
          "base_uri": "https://localhost:8080/"
        },
        "id": "vert4JXKmtL6",
        "outputId": "a59265d9-9f54-42c7-e9a4-1b8e58bb37fd"
      },
      "outputs": [
        {
          "name": "stderr",
          "output_type": "stream",
          "text": [
            "\u001b[2m\u001b[36m(raylet)\u001b[0m Spilled 3729 MiB, 6 objects, write throughput 35 MiB/s. Set RAY_verbose_spill_logs=0 to disable this message.\n"
          ]
        },
        {
          "name": "stdout",
          "output_type": "stream",
          "text": [
            "['Report' 'Addendum' 'Nursing Transfer Note' ...\n",
            " 'PLACE CATH CAROTID/INOM ART' 'L US MSK ASPIRATE/INJ GANGLION CYST LEFT'\n",
            " 'RO HIP NAILING IN OR W/FILMS & FLUORO RIGHT IN O.R.']\n"
          ]
        },
        {
          "data": {
            "text/plain": [
              "3848"
            ]
          },
          "execution_count": 17,
          "metadata": {},
          "output_type": "execute_result"
        }
      ],
      "source": [
        "print (\n",
        "    df[\"DESCRIPTION\"].unique()\n",
        ")\n",
        "\n",
        "len(\n",
        "    df[\"DESCRIPTION\"].unique()\n",
        ")"
      ]
    },
    {
      "cell_type": "code",
      "execution_count": null,
      "metadata": {
        "colab": {
          "base_uri": "https://localhost:8080/"
        },
        "id": "3Olpv0yLV6zA",
        "outputId": "0083daf4-2490-4a32-a4ba-e52da715f82c"
      },
      "outputs": [
        {
          "data": {
            "text/plain": [
              "array([False])"
            ]
          },
          "execution_count": 18,
          "metadata": {},
          "output_type": "execute_result"
        }
      ],
      "source": [
        "df[\"TEXT\"].isna().unique()"
      ]
    },
    {
      "cell_type": "code",
      "execution_count": null,
      "metadata": {
        "colab": {
          "base_uri": "https://localhost:8080/"
        },
        "id": "34Id9uX6WCwe",
        "outputId": "9e6dcfd3-3581-47d7-abab-fe0aa4caae44"
      },
      "outputs": [
        {
          "data": {
            "text/plain": [
              "0"
            ]
          },
          "execution_count": 19,
          "metadata": {},
          "output_type": "execute_result"
        }
      ],
      "source": [
        "df[\"DESCRIPTION\"].isna().sum()"
      ]
    },
    {
      "cell_type": "code",
      "execution_count": null,
      "metadata": {
        "colab": {
          "base_uri": "https://localhost:8080/"
        },
        "id": "nwcv47U5m1UK",
        "outputId": "4144dbb4-4308-4502-9406-4854866d03a7"
      },
      "outputs": [
        {
          "name": "stdout",
          "output_type": "stream",
          "text": [
            "Admission Date:  [**2125-2-9**]              Discharge Date:   [**2125-2-16**]\n",
            "\n",
            "\n",
            "Service: MEDICINE\n",
            "\n",
            "Allergies:\n",
            "Zocor / Lescol\n",
            "\n",
            "Attending:[**Doctor Last Name 1857**]\n",
            "Chief Complaint:\n",
            "Chest pain\n",
            "\n",
            "Major Surgical or Invasive Procedure:\n",
            "Central venous line insertion (right internal jugular vein)\n",
            "\n",
            "History of Present Illness:\n",
            "Mr. [**Known lastname 1858**] is an 84 yo man with moderate aortic stenosis (outside\n",
            "hospital echo in [**2124**] with [**Location (un) 109**] 1 cm2, gradient 28 mmHg, moderate\n",
            "mitral regurgitation, mild aortic insufficiency), chronic left\n",
            "ventricular systolic heart failure with EF 25-30%, hypertension,\n",
            "hyperlipidemia, diabetes mellitus, CAD s/p CABG in [**2099**] with\n",
            "SVG-LAD-Diagonal, SVG-OM, and SVG-RPDA-RPL, with a re-do CABG in\n",
            "[**9-/2117**] with LIMA-LAD, SVG-OM, SVG-diagonal, and SVG-RCA. He also\n",
            "has severe peripheral arterial disease s/p peripheral bypass\n",
            "surgery. He presented to [**Hospital 1474**] Hospital ER this morning with\n",
            "shortness of breath and chest pain and was found to be in heart\n",
            "failure.\n",
            "\n",
            "He states he was in his usual state of health until 10:30 last\n",
            "evening when he woke up feeling cold; 1 hour later he developed\n",
            "moderate to severe sharp chest pain radiating across his chest\n",
            "associated with nausea, diaphoresis, and dypsnea. The pain was\n",
            "fairly constant and did not resolve until he was given sL NTG at\n",
            "6 am by EMS. He has been pain free since. Presenting vitals BP\n",
            "109/66, HR 71, O2 sat 88% on RA. CXR showed congestive heart\n",
            "failure; initial troponin-I was mildly elevated at 0.4, CK 70.\n",
            "He given aspirin and furosemide 80 mg IV (with ~600cc diuresis),\n",
            "Nitropaste [**1-3**]\", and Lovenox 80 mg SQ. During the ambulance\n",
            "transfer to the [**Hospital1 18**], he also received ~500 cc IVF for ? low\n",
            "BP).\n",
            "\n",
            "On further questioning, Mr. [**Known lastname 1858**] has very poor exercise\n",
            "tolerance due to knee pain that he attributes to osteoarthritis.\n",
            "But he says that he gets chest pain (similar to pain he had last\n",
            "night) with fairly minimal exertion (picking up his 11 lb cat,\n",
            "carrying 1 gallon jug of water, first getting up from sitting to\n",
            "walk outside or to walk to the bedroom). The pain is associated\n",
            "with dyspnea and is relieved with few minutes rest. His symptoms\n",
            "occur about every day to every other day and have been stable\n",
            "over the past year. He denies orthopnea, paroxysmal nocturnal\n",
            "dyspnea, but does endorse exertional dyspnea (he cannot identify\n",
            "the amount of exertion required). Currently, he is dyspneic and\n",
            "feels somewhat better sitting up; he reports no chest pain.\n",
            "\n",
            "ROS is also positive for a nose bleed requiring ED visit several\n",
            "months ago (and cessation of Plavix for a few days), and\n",
            "currently gross hematuria after Foley placement and Lovenox.\n",
            "\n",
            "Past Medical History:\n",
            "1. Coronary artery disease s/p CABG twice (vide infra).\n",
            "2. Hypertension.\n",
            "3. Diabetes mellitus.\n",
            "4. Hyperlipidemia.\n",
            "5. Peripheral arterial disease with occluded left common iliac\n",
            "artery, S/P right iliac artery stenting and femoral-to-femoral\n",
            "bypass, further angioplasty to the right profunda.\n",
            "5. Ischemic cardiomyopathy and chronic LV systolic heart\n",
            "failure, reported LVEF 25-30%.\n",
            "6. Moderate-severe aortic stenosis.\n",
            "7. Osteoarthritis.\n",
            "\n",
            "CAD: Diabetes, Dyslipidemia, Hypertension\n",
            "\n",
            "Cardiac History: CABG in [**2099**] (SVG-LAD-Diagonal, SVG-OM, and\n",
            "SVG-RPDA-RPL), with a re-do CABG in [**9-/2117**] (LIMA-LAD, SVG-OM,\n",
            "SVG-diagonal, and SVG-RCA)\n",
            "\n",
            "Percutaneous coronary intervention, in [**2120**] anatomy as follows:\n",
            "Patent SVG to OM1, patent SVG to PDA which filled the distal PDA\n",
            "as well as the R-PL via a jump segment. Stump occlusion of a\n",
            "graft presumably to the right system as well as one stump that\n",
            "could be documented of a graft to the left. Other SVG's were not\n",
            "able to be selectively engaged. Supravalvular aortography\n",
            "demonstrated no other patent grafts. Patent LIMA to mid-LAD,\n",
            "which also back-perfused the diagonal via a patent jump graft\n",
            "that was interposed between the LAD and the diagonal.\n",
            "\n",
            "Social History:\n",
            "Social history is significant for the absence of current tobacco\n",
            "use. There is no history of alcohol abuse.\n",
            "\n",
            "Family History:\n",
            "There is extensive family history of early coronary disease\n",
            "(father died of MI at 44, one brother died in 40's, one in 50's,\n",
            "sister had stroke).\n",
            "\n",
            "Physical Exam:\n",
            "Gen: Elderly white male in NAD. Oriented x3.\n",
            "VS T 101 BP 88/54 HR 122 in A-Fib RR 27 O2 sat 97 % on 100 %\n",
            "NRB.\n",
            "HEENT: NCAT. Sclera anicteric. PERRL, EOMI. Conjunctiva were\n",
            "pink, no pallor or cyanosis of the oral mucosa. No xanthalesma.\n",
            "Neck: JVP of near angle of the jaw.\n",
            "CV: PMI diffuse and laterally displaced. Rate irregular, normal\n",
            "S1, S2 with mid-late peaking 3/6 systolic murmur heart\n",
            "throughout precordium, loudest at apex. No gallop.\n",
            "Chest: Appear tachypneic, some accesorry muscle use. No chest\n",
            "wall deformities, scoliosis or kyphosis. Lungs with crackles [**1-3**]\n",
            "way up L>R.\n",
            "Abd: Soft, NTND. No HSM or tenderness. Abd aorta not enlarged by\n",
            "palpation. No abdominial bruits.\n",
            "Ext: No femoral bruits, could not palpate DP or TP pulses but\n",
            "Dopplerable.\n",
            "Skin: No stasis dermatitis, ulcers, scars, or xanthomas.\n",
            "\n",
            "Pertinent Results:\n",
            "[**2125-2-10**] 03:44AM BLOOD WBC-8.1# RBC-4.11* Hgb-13.3* Hct-37.9*\n",
            "MCV-92 MCH-32.4* MCHC-35.0 RDW-14.1 Plt Ct-111*\n",
            "[**2125-2-10**] 08:00PM BLOOD Neuts-74.3* Lymphs-21.9 Monos-3.0 Eos-0.7\n",
            "Baso-0.1\n",
            "[**2125-2-10**] 03:44AM BLOOD Plt Ct-111* LPlt-2+\n",
            "[**2125-2-10**] 08:00PM BLOOD Fibrino-760*#\n",
            "[**2125-2-9**] 09:15PM BLOOD Glucose-195* UreaN-30* Creat-1.4* Na-133\n",
            "K-4.6 Cl-96 HCO3-25 AnGap-17\n",
            "\n",
            "CK 257* --> 189* --> 192* --> 193* --> 176 --> 82\n",
            "[**2125-2-10**] 08:00PM BLOOD ALT-38 AST-46* AlkPhos-66 TotBili-1.0\n",
            "DirBili-0.3 IndBili-0.7\n",
            "\n",
            "[**2125-2-9**] 09:15PM BLOOD CK-MB-10 MB Indx-3.9 cTropnT-0.66*\n",
            "proBNP-[**Numeric Identifier 1859**]*\n",
            "[**2125-2-10**] 03:44AM BLOOD CK-MB-7 cTropnT-0.69*\n",
            "[**2125-2-10**] 11:40AM BLOOD CK-MB-8 cTropnT-0.67*\n",
            "[**2125-2-10**] 04:55PM BLOOD CK-MB-7 cTropnT-0.65*\n",
            "[**2125-2-10**] 08:00PM BLOOD CK-MB-7 cTropnT-0.64*\n",
            "[**2125-2-11**] 05:41AM BLOOD CK-MB-63* MB Indx-6.3* cTropnT-2.61*\n",
            "\n",
            "[**2125-2-9**] 09:15PM BLOOD calTIBC-334 Ferritn-93 TRF-257\n",
            "[**2125-2-10**] 08:00PM BLOOD TSH-5.4*\n",
            "\n",
            "ECG [**2125-2-9**]  9:36:38 PM\n",
            "Rhythm is most likely sinus rhythm with frequent ventricular\n",
            "premature beats with occasional ventricular bigeminal pattern.\n",
            "There are also frequent atrial premature beats. Intraventricular\n",
            "conduction defect. Left ventricular hypertrophy. ST-T wave\n",
            "changes most likely related to left ventricular hypertrophy.\n",
            "Compared to the previous tracing of [**2124-4-9**] ventricular premature\n",
            "beats are more frequent, as are atrial premature beats. Clinical\n",
            "correlation is suggested.\n",
            "\n",
            "CXR [**2125-2-9**]: The patient is after median sternotomy and CABG.\n",
            "The heart size appears slightly enlarged compared to the\n",
            "previous study.  Bilateral perihilar haziness continues toward\n",
            "the lower lungs is new consistent with new moderate- to-severe\n",
            "pulmonary edema.  Bilateral pleural effusion is present, also\n",
            "new, most likely part of the heart failure.   Left and right\n",
            "retrocardiac opacities consistent with atelectasis.\n",
            "\n",
            "ECHO [**2125-2-11**]: The left atrium is mildly dilated. There is mild\n",
            "symmetric left ventricular hypertrophy with normal cavity size.\n",
            "There is moderate regional left ventricular systolic dysfunction\n",
            "with akinesis of the basal half of the inferior and inferolaterl\n",
            "walls. There is mild hypokinesis of the remaining segments (LVEF\n",
            "= 25-30 %). No masses or thrombi are seen in the left ventricle.\n",
            "Tissue Doppler imaging suggests an increased left ventricular\n",
            "filling pressure (PCWP>18mmHg). Right ventricular chamber size\n",
            "is normal. with moderate global free wall hypokinesis. The\n",
            "aortic valve leaflets are moderately thickened. There is severe\n",
            "aortic valve stenosis (area 0.6 cm2). Trace aortic regurgitation\n",
            "is seen. The mitral valve leaflets are mildly thickened. Mild to\n",
            "moderate ([**1-3**]+) mitral regurgitation is seen. The pulmonary\n",
            "artery systolic pressure could not be determined. There is no\n",
            "pericardial effusion. Compared with the prior report (images\n",
            "unavailable of [**2119-5-8**], left ventricular systolic function is now\n",
            "depressed and the severity of aortic stenosis has increased.\n",
            "\n",
            "Brief Hospital Course:\n",
            "Patient is a 84 yo man with CAD s/p CABG twice with daily\n",
            "angina, presenting with chest pain, dyspnea, and congestive\n",
            "heart failure.\n",
            "\n",
            "# CAD: The patient was transferred to [**Hospital1 18**] for further workup\n",
            "and treatment of chest pain. A chest X-ray performed on\n",
            "admission showed moderate-severe pulmonary edema. He did have a\n",
            "stably elevated troponin thought to be related to acute heart\n",
            "failure or demand ischemia. He was started on a Lasix drop at 10\n",
            "mg/hr for initiation of diuresis. He initially tolerated this\n",
            "well, however at approximately 8 pm on [**2125-2-10**], Mr. [**Known lastname 1858**] was\n",
            "transferred from the floor to the CCU after complaining of chest\n",
            "pain when he was sitting in bed after dinner. As he was being\n",
            "evaluated by the housestaff, he became unresponsive and\n",
            "developed pulseless electrical arrest. Chest compressions were\n",
            "started, but within approximately 2 minutes, he became\n",
            "responsive and regained a palpable pulse. His rhythm appeared to\n",
            "be atrial fibrillation with ventricular rate initially in the\n",
            "50s but rising to the 110's. Review of his telemetry showed that\n",
            "he had developed atrial fibillation earlier in the evening\n",
            "without obvious ventricular arrhythmias immediately prior to his\n",
            "arrest (which was attributed to a vasovagal episode in the\n",
            "setting of heart failure and aortic stenosis).  On transfer to\n",
            "the CCU, he was started on levophed for hypotension and\n",
            "amiodarone IV for AFib. Chest x-ray on [**2125-2-10**] showed interval\n",
            "worsening of pulmonary edema, bilateral pleural effusions and\n",
            "bibasilar atelectasis.  At this time his cardiac enzymes became\n",
            "very elevated with EKG changes consistent of a NSTEMI with a CK\n",
            "to 1006 and troponin to 3.82. On [**2125-2-11**], he had a transthoracic\n",
            "echocardiogram which showed moderate regional left ventricular\n",
            "systolic dysfunction with akinesis of the basal half of the\n",
            "inferior and inferolateral walls. LVEF was 25-30 %, with severe\n",
            "aortic stenosis and [**1-3**]+ mitral regurgitation. He was\n",
            "aggressively diuresed with an IV Lasix drip with improvement in\n",
            "his oxygen requirement and chest x-ray.  Levophed was\n",
            "discontinued on [**2-12**], and blood pressures remained stable off\n",
            "pressors with MAP's 60 - 70.  On [**2125-2-13**], he was transferred\n",
            "back to the floor team on PO amiodarone. He remained in normal\n",
            "sinus rhythm on telemetry on po amiodarone, and diuresis was\n",
            "continued with a Lasix drip with good urine output and\n",
            "improvement of renal function. He remained asymptomatic with no\n",
            "shortness of breath or chest pain after transfer. He was\n",
            "maintained on a heparin drip bridging to Coumadin for paroxysmal\n",
            "atrial fibrillation. His metoprolol was held for hypotension in\n",
            "the ICU and relative hypotension with SBP in 90s and low 100s\n",
            "upon transfer to the floor. ACE-inhibitor was held due to\n",
            "relative hypotension and renal insufficiency with Creat 1.7. A\n",
            "cardiac surgery consult deemed him an acceptable candidate for a\n",
            "3rd open heart surgery for aortic valve replacement pending\n",
            "re-assessment of his coronary anatomy. The intermediate-term\n",
            "plan was to allow recovery from the current episode and\n",
            "discussion as an outpatient with his primary cardiologist\n",
            "regarding the risks and benefits of aortic valve replacement.\n",
            "\n",
            "On [**2-16**], the patient became hypotensive to SBPs to\n",
            "60s-70s after getting into a chair after breakfast. He was given\n",
            "1L NS with no response in BP. The patient was mentating but\n",
            "became short of breath with IVF. He had worsening EKG changes.\n",
            "He was started on Levophed without improvement in his blood\n",
            "pressure. He was brought to the catherization laboratory for\n",
            "potential emergent aortic valvuloplasty and was intubated. At\n",
            "that point, he suffered a PEA arrest and could not be\n",
            "resuscitated. He was pronounced deceased at 12:33pm.\n",
            "\n",
            "# Pump: As above. The patient had severe pulmonary edema with\n",
            "initial exam revealing crackles throughout his lung fields. He\n",
            "was treated with a Lasix drip which was transitioned on [**2-16**] to\n",
            "po Lasix 80 mg po twice daily.\n",
            "\n",
            "# Rhythm: Patient was in NSR on admission. On HD #2, he had\n",
            "chest pain, then went into PEA arrest as described above.\n",
            "Telemetry showed atrial fibrillation prior to the event. In the\n",
            "CCU, he was started on amiodarone 400 mg po tid to be tapered\n",
            "over the subsequent weeks.\n",
            "\n",
            "# Acute renal failure: Renal function initially declined\n",
            "(creatinine to 2.1), then improved on Lasix gtt, but stayed 1.7\n",
            "- 1.9 (above baseline of 1.3).\n",
            "\n",
            "# Hematuria: He had hematuria (no clots) after traumatic Foley\n",
            "placement at the outside hospital. The catheter was removed on\n",
            "[**2-16**] with gradual resolution of hematuria.\n",
            "\n",
            "# Diabetes: Due to acute renal failre, metformin was\n",
            "discontinued and the patient was maintained on a Humalog sliding\n",
            "scale with 30 units of Lantus at bedtime.\n",
            "\n",
            "# Hematoma. The patient developed a small hematoma at the site\n",
            "of his right internal jugular venous access after catheter\n",
            "removal. This was treated with local compression.\n",
            "\n",
            "Medications on Admission:\n",
            "Aspirin 81 mg\n",
            "Plavix 75 mg\n",
            "Atenolol 50 mg\n",
            "Isordil 5 mg [**Hospital1 **]\n",
            "HCTZ 25 mg daily\n",
            "Lisinopril 40 mg\n",
            "Gemfibrozil 600 mg\n",
            "Simvastatin 20 mg\n",
            "Glipizide 5 mg XL daily\n",
            "Metformin unknown dose\n",
            "Protonix 40 mg\n",
            "Thiamine, B12, B6, folate\n",
            "\n",
            "Discharge Medications:\n",
            "None\n",
            "\n",
            "Discharge Disposition:\n",
            "Expired\n",
            "\n",
            "Discharge Diagnosis:\n",
            "1) Severe aortic stenosis\n",
            "2) Coronary artery disease with non-ST segment myocardial\n",
            "infarction\n",
            "3) Cardiogenic shock requiring pressor support\n",
            "4) Atrial fibrillation\n",
            "5) Pulseless electrical activity arrest, twice\n",
            "6) Severe acute on chronic left ventricular systolic and\n",
            "diastolic heart failure\n",
            "7) Acute on chronic renal failure\n",
            "8) Traumatic hematuria\n",
            "9) Diabetes mellitus\n",
            "10) Hypertension\n",
            "11) Peripheral arterial disease\n",
            "12) Hyperlipidemia\n",
            "\n",
            "Discharge Condition:\n",
            "Deceased\n",
            "\n",
            "Discharge Instructions:\n",
            "None\n",
            "\n",
            "Followup Instructions:\n",
            "None\n",
            "\n",
            "                             [**Doctor First Name **] [**First Name8 (NamePattern2) **] [**Name6 (MD) **] [**Name8 (MD) **] MD, MSC 12-339\n",
            "\n",
            "\n"
          ]
        }
      ],
      "source": [
        "print(df[\"TEXT\"][10])"
      ]
    },
    {
      "cell_type": "code",
      "execution_count": null,
      "metadata": {
        "id": "Q51SMfAS7q44"
      },
      "outputs": [],
      "source": [
        "import seaborn as sus"
      ]
    },
    {
      "cell_type": "code",
      "execution_count": null,
      "metadata": {
        "id": "bbW2FnqjWqNS"
      },
      "outputs": [],
      "source": [
        "dct = {}"
      ]
    },
    {
      "cell_type": "code",
      "execution_count": null,
      "metadata": {
        "colab": {
          "base_uri": "https://localhost:8080/"
        },
        "id": "g72LVWz3XCOP",
        "outputId": "8aee6795-e749-46ce-f24f-6db02efee482"
      },
      "outputs": [
        {
          "data": {
            "text/plain": [
              "array(['Discharge summary', 'Echo', 'ECG', 'Nursing', 'Physician ',\n",
              "       'Rehab Services', 'Case Management ', 'Respiratory ', 'Nutrition',\n",
              "       'General', 'Social Work', 'Pharmacy', 'Consult', 'Radiology',\n",
              "       'Nursing/other'], dtype=object)"
            ]
          },
          "execution_count": 23,
          "metadata": {},
          "output_type": "execute_result"
        }
      ],
      "source": [
        "df['CATEGORY'].unique()"
      ]
    },
    {
      "cell_type": "code",
      "execution_count": null,
      "metadata": {
        "id": "zvVSc0DBWrfF"
      },
      "outputs": [],
      "source": [
        "for i in range(0, len( df[\"CATEGORY\"].unique() )) :\n",
        "\n",
        "  dct[ df[\"CATEGORY\"].unique()[i] ] = i"
      ]
    },
    {
      "cell_type": "code",
      "execution_count": null,
      "metadata": {
        "colab": {
          "base_uri": "https://localhost:8080/"
        },
        "id": "U7QaOET_W_Wr",
        "outputId": "bbe3a9a0-f869-4000-d029-28e7d1a5e472"
      },
      "outputs": [
        {
          "data": {
            "text/plain": [
              "{'Discharge summary': 0,\n",
              " 'Echo': 1,\n",
              " 'ECG': 2,\n",
              " 'Nursing': 3,\n",
              " 'Physician ': 4,\n",
              " 'Rehab Services': 5,\n",
              " 'Case Management ': 6,\n",
              " 'Respiratory ': 7,\n",
              " 'Nutrition': 8,\n",
              " 'General': 9,\n",
              " 'Social Work': 10,\n",
              " 'Pharmacy': 11,\n",
              " 'Consult': 12,\n",
              " 'Radiology': 13,\n",
              " 'Nursing/other': 14}"
            ]
          },
          "execution_count": 25,
          "metadata": {},
          "output_type": "execute_result"
        }
      ],
      "source": [
        "dct"
      ]
    },
    {
      "cell_type": "code",
      "execution_count": null,
      "metadata": {
        "id": "uOaUev3EZbeH"
      },
      "outputs": [],
      "source": [
        "cat_label = []"
      ]
    },
    {
      "cell_type": "code",
      "execution_count": null,
      "metadata": {
        "id": "uDSzvfoVgoPD"
      },
      "outputs": [],
      "source": [
        "for i in df[\"CATEGORY\"] :\n",
        "\n",
        "  cat_label.append(\n",
        "      dct[i]\n",
        "   )"
      ]
    },
    {
      "cell_type": "code",
      "execution_count": null,
      "metadata": {
        "id": "6o6jh76Ch7jp"
      },
      "outputs": [],
      "source": [
        "import numpy as np"
      ]
    },
    {
      "cell_type": "code",
      "execution_count": null,
      "metadata": {
        "id": "xY9YZFZ0iGIN"
      },
      "outputs": [],
      "source": [
        "df[\"CATEGORY_INT\"] = cat_label"
      ]
    },
    {
      "cell_type": "code",
      "execution_count": null,
      "metadata": {
        "id": "7BRy9VBFjTGc"
      },
      "outputs": [],
      "source": [
        "arr = [0,0,0,0,0,0,0,0,0,0,0,0,0,0,0]"
      ]
    },
    {
      "cell_type": "code",
      "execution_count": null,
      "metadata": {
        "colab": {
          "base_uri": "https://localhost:8080/"
        },
        "id": "zPB6pvNlpHSg",
        "outputId": "69cfb36b-dc46-4330-dc11-be029fd7f7e0"
      },
      "outputs": [
        {
          "name": "stderr",
          "output_type": "stream",
          "text": [
            "\u001b[2m\u001b[33m(raylet)\u001b[0m [2023-05-20 12:21:49,287 E 3218 3218] (raylet) node_manager.cc:3071: 1 Workers (tasks / actors) killed due to memory pressure (OOM), 0 Workers crashed due to other reasons at node (ID: 8a33baf4afb28bd6789b0a4a00a1875063d124a20bb41ae65af5f3e7, IP: 172.28.0.12) over the last time period. To see more information about the Workers killed on this node, use `ray logs raylet.out -ip 172.28.0.12`\n",
            "\u001b[2m\u001b[33m(raylet)\u001b[0m \n",
            "\u001b[2m\u001b[33m(raylet)\u001b[0m Refer to the documentation on how to address the out of memory issue: https://docs.ray.io/en/latest/ray-core/scheduling/ray-oom-prevention.html. Consider provisioning more memory on this node or reducing task parallelism by requesting more CPUs per task. To adjust the kill threshold, set the environment variable `RAY_memory_usage_threshold` when starting Ray. To disable worker killing, set the environment variable `RAY_memory_monitor_refresh_ms` to zero.\n",
            "\u001b[2m\u001b[36m(raylet)\u001b[0m Spilled 7504 MiB, 78 objects, write throughput 38 MiB/s.\n"
          ]
        }
      ],
      "source": [
        "TextData = df[\"TEXT\"]"
      ]
    },
    {
      "cell_type": "code",
      "execution_count": null,
      "metadata": {
        "id": "VTgJNrIKpHU9"
      },
      "outputs": [],
      "source": [
        "label = df[\"CATEGORY_INT\"]"
      ]
    },
    {
      "cell_type": "code",
      "execution_count": null,
      "metadata": {
        "colab": {
          "base_uri": "https://localhost:8080/"
        },
        "id": "3K4lqkFkpHXo",
        "outputId": "5f6bb796-2f8b-4164-ec7b-53c7bf6effee"
      },
      "outputs": [
        {
          "name": "stderr",
          "output_type": "stream",
          "text": [
            "\u001b[2m\u001b[36m(raylet)\u001b[0m Spilled 9346 MiB, 79 objects, write throughput 26 MiB/s.\n"
          ]
        }
      ],
      "source": [
        "TextCate0 = TextData[label==0]\n",
        "TextCate1 = TextData[label==1]\n",
        "TextCate2 = TextData[label==2]\n",
        "TextCate3 = TextData[label==3]\n",
        "TextCate4 = TextData[label==4]\n",
        "TextCate5 = TextData[label==5]\n",
        "TextCate6 = TextData[label==6]\n",
        "TextCate7 = TextData[label==7]\n",
        "TextCate8 = TextData[label==8]\n",
        "TextCate9 = TextData[label==9]\n",
        "TextCate10 = TextData[label==10]\n",
        "TextCate11 = TextData[label==11]\n",
        "TextCate12 = TextData[label==12]\n",
        "TextCate13 = TextData[label==13]\n",
        "TextCate14 = TextData[label==14]"
      ]
    },
    {
      "cell_type": "code",
      "execution_count": null,
      "metadata": {
        "colab": {
          "base_uri": "https://localhost:8080/"
        },
        "id": "hRvDbpspp9SN",
        "outputId": "35346ac3-6d86-4827-bab5-73819406c3a3"
      },
      "outputs": [
        {
          "data": {
            "text/plain": [
              "103"
            ]
          },
          "execution_count": 34,
          "metadata": {},
          "output_type": "execute_result"
        }
      ],
      "source": [
        "len(TextCate11[:1000])"
      ]
    },
    {
      "cell_type": "code",
      "execution_count": null,
      "metadata": {
        "colab": {
          "base_uri": "https://localhost:8080/"
        },
        "id": "RvtcaUY_KA83",
        "outputId": "87cba0e5-dfac-4156-c2b9-1707e93d6b38"
      },
      "outputs": [
        {
          "data": {
            "text/plain": [
              "308696     Attending Physician: [**Name10 (NameIs) 116**]...\n",
              "308697     TITLE: PT/Rehab Services\\n   Attempted to see ...\n",
              "309052     Attending Physician: [**Name10 (NameIs) 832**]...\n",
              "309083     TITLE: PT/Rehab Services\\n   Consult rec\\nd. C...\n",
              "309086     Subjective:\\n   [**5-23**] LBP\\n   Objective:\\...\n",
              "                                 ...                        \n",
              "735992     Attending Physician: [**Name10 (NameIs) 276**]...\n",
              "735995     Attending Physician: [**Name10 (NameIs) 480**]...\n",
              "736000     Attending Physician: [**Name10 (NameIs) 276**]...\n",
              "2059631    TITLE: PT/Rehab Services\\n   Consult received....\n",
              "2059639    Physical Therapy: Rehab Services Department\\n ...\n",
              "Name: TEXT, Length: 5431, dtype: object"
            ]
          },
          "execution_count": 35,
          "metadata": {},
          "output_type": "execute_result"
        }
      ],
      "source": [
        "TextCate5"
      ]
    },
    {
      "cell_type": "code",
      "execution_count": null,
      "metadata": {
        "id": "1WnDnGasqubq"
      },
      "outputs": [],
      "source": [
        "TextCate0crop = TextCate0[:2500]\n",
        "TextCate1crop = TextCate1[:2500]\n",
        "TextCate2crop = TextCate2[:2500]\n",
        "TextCate3crop = TextCate3[:2500]\n",
        "TextCate4crop = TextCate4[:2500]\n",
        "TextCate5crop = TextCate5[:2500]\n",
        "TextCate6crop = TextCate6[:2500]\n",
        "TextCate7crop = TextCate7[:2500]\n",
        "TextCate8crop = TextCate8[:2500]\n",
        "TextCate9crop = TextCate9[:2500]\n",
        "TextCate10crop = TextCate10[:2500]\n",
        "TextCate11crop = TextCate11[:2500]\n",
        "TextCate12crop = TextCate12[:2500]\n",
        "TextCate13crop = TextCate13[:2500]\n",
        "TextCate14crop = TextCate14[:2500]"
      ]
    },
    {
      "cell_type": "code",
      "execution_count": null,
      "metadata": {
        "id": "B9xzr7sxs7Qc"
      },
      "outputs": [],
      "source": [
        "Textcropped=np.concatenate(\n",
        "    [\n",
        "        TextCate0crop,\n",
        "        TextCate1crop,\n",
        "        TextCate2crop,\n",
        "        TextCate3crop,\n",
        "        TextCate4crop,\n",
        "        TextCate5crop,\n",
        "        TextCate6crop,\n",
        "        TextCate7crop,\n",
        "        TextCate8crop,\n",
        "        TextCate9crop,\n",
        "        TextCate10crop,\n",
        "        TextCate11crop,\n",
        "        TextCate12crop,\n",
        "        TextCate13crop,\n",
        "        TextCate14crop\n",
        "     ]\n",
        ")"
      ]
    },
    {
      "cell_type": "code",
      "execution_count": null,
      "metadata": {
        "colab": {
          "base_uri": "https://localhost:8080/"
        },
        "id": "-dxOyGjwtJV5",
        "outputId": "e73b7c90-1f13-458b-87b6-5351c55e43e7"
      },
      "outputs": [
        {
          "data": {
            "text/plain": [
              "(31168,)"
            ]
          },
          "execution_count": 38,
          "metadata": {},
          "output_type": "execute_result"
        }
      ],
      "source": [
        "Textcropped.shape"
      ]
    },
    {
      "cell_type": "code",
      "execution_count": null,
      "metadata": {
        "colab": {
          "base_uri": "https://localhost:8080/"
        },
        "id": "Wna3cDDcHM8l",
        "outputId": "79c20f7e-56ee-44ec-e054-20278e073aeb"
      },
      "outputs": [
        {
          "data": {
            "text/plain": [
              "array(['Admission Date:  [**2151-7-16**]       Discharge Date:  [**2151-8-4**]\\n\\n\\nService:\\nADDENDUM:\\n\\nRADIOLOGIC STUDIES:  Radiologic studies also included a chest\\nCT, which confirmed cavitary lesions in the left lung apex\\nconsistent with infectious process/tuberculosis.  This also\\nmoderate-sized left pleural effusion.\\n\\nHEAD CT:  Head CT showed no intracranial hemorrhage or mass\\neffect, but old infarction consistent with past medical\\nhistory.\\n\\nABDOMINAL CT:  Abdominal CT showed lesions of\\nT10 and sacrum most likely secondary to osteoporosis. These can\\nbe followed by repeat imaging as an outpatient.\\n\\n\\n\\n                            [**First Name8 (NamePattern2) **] [**First Name4 (NamePattern1) 1775**] [**Last Name (NamePattern1) **], M.D.  [**MD Number(1) 1776**]\\n\\nDictated By:[**Hospital 1807**]\\nMEDQUIST36\\n\\nD:  [**2151-8-5**]  12:11\\nT:  [**2151-8-5**]  12:21\\nJOB#:  [**Job Number 1808**]\\n',\n",
              "       'Admission Date:  [**2118-6-2**]       Discharge Date:  [**2118-6-14**]\\n\\nDate of Birth:                    Sex:  F\\n\\nService:  MICU and then to [**Doctor Last Name **] Medicine\\n\\nHISTORY OF PRESENT ILLNESS:  This is an 81-year-old female\\nwith a history of emphysema (not on home O2), who presents\\nwith three days of shortness of breath thought by her primary\\ncare doctor to be a COPD flare.  Two days prior to admission,\\nshe was started on a prednisone taper and one day prior to\\nadmission she required oxygen at home in order to maintain\\noxygen saturation greater than 90%.  She has also been on\\nlevofloxacin and nebulizers, and was not getting better, and\\npresented to the [**Hospital1 18**] Emergency Room.\\n\\nIn the [**Hospital3 **] Emergency Room, her oxygen saturation was\\n100% on CPAP.  She was not able to be weaned off of this\\ndespite nebulizer treatment and Solu-Medrol 125 mg IV x2.\\n\\nReview of systems is negative for the following:  Fevers,\\nchills, nausea, vomiting, night sweats, change in weight,\\ngastrointestinal complaints, neurologic changes, rashes,\\npalpitations, orthopnea.  Is positive for the following:\\nChest pressure occasionally with shortness of breath with\\nexertion, some shortness of breath that is positionally\\nrelated, but is improved with nebulizer treatment.\\n\\nPAST MEDICAL HISTORY:\\n1. COPD.  Last pulmonary function tests in [**2117-11-3**]\\ndemonstrated a FVC of 52% of predicted, a FEV1 of 54% of\\npredicted, a MMF of 23% of predicted, and a FEV1:FVC ratio of\\n67% of predicted, that does not improve with bronchodilator\\ntreatment.  The FVC, however, does significantly improve with\\nbronchodilator treatment consistent with her known reversible\\nair flow obstruction in addition to an underlying restrictive\\nventilatory defect.  The patient has never been on home\\noxygen prior to this recent episode.  She has never been on\\nsteroid taper or been intubated in the past.\\n2. Lacunar CVA.  MRI of the head in [**2114-11-4**]\\ndemonstrates \"mild degree of multiple small foci of high T2\\nsignal within the white matter of both cerebral hemispheres\\nas well as the pons, in the latter region predominantly to\\nthe right of midline.  The abnormalities, while nonspecific\\nin etiology, are most likely secondary to chronic\\nmicrovascular infarction.  There is no mass, lesion, shift of\\nthe normal midline strictures or hydrocephalus.  The major\\nvascular flow patterns are preserved.  There is moderate\\nright maxillary, moderate bilateral ethmoid, mild left\\nmaxillary, minimal right sphenoid, and frontal sinus mucosal\\nthickening.  These abnormalities could represent an allergic\\nor some other type of inflammatory process.  Additionally\\nnoted is a moderately enlarged subtotally empty sella\\nturcica\".\\n3. Angina:  Most recent stress test was in [**2118-1-3**]\\ngoing for four minutes with a rate pressure product of\\n10,000, 64% of maximum predicted heart rate without evidence\\nof ischemic EKG changes or symptoms.  The imaging portion of\\nthe study demonstrated no evidence of myocardial ischemia and\\na calculated ejection fraction of 84%.  The patient denies\\nangina at rest and gets angina with walking a few blocks.\\nAre alleviated by sublingual nitroglycerin.\\n4. Hypothyroidism on Synthroid.\\n5. Depression on Lexapro.\\n6. Motor vehicle accident with head injury approximately 10\\nyears ago.\\n\\nMEDICATIONS ON ADMISSION:\\n1. Hydrochlorothiazide 25 q.d.\\n2. Prednisone 60 mg, 50 mg, 40 mg, 20 mg.\\n3. Levofloxacin 500 mg q.d.\\n4. Imdur 60 mg q.d.\\n5. Synthroid 75 mcg q.d.\\n6. Pulmicort nebulizer b.i.d.\\n7. Albuterol nebulizer q.4. prn.\\n8. Lexapro 10 mg q.d.\\n9. Protonix 40 mg q.d.\\n10. Aspirin 81 mg q.d.\\n\\nALLERGIES:  Norvasc leads to lightheadedness and headache.\\n\\nFAMILY HISTORY:  Noncontributory.\\n\\nSOCIAL HISTORY:  Lives with her husband, Dr. [**Known lastname 1809**] an\\neminent Pediatric Neurologist at [**Hospital3 1810**].  The\\npatient is a prior smoker, but has not smoked in over 10\\nyears.  She has no known alcohol use and she is a full code.\\n\\nPHYSICAL EXAM AT TIME OF ADMISSION:  Blood pressure 142/76,\\nheart rate 100 and regular, respirations at 17-21, and 97%\\naxillary temperature.  She was saturating at 100% on CPAP\\nwith dry mucous membranes.  An elderly female in no apparent\\ndistress.  Pupils are equal, round, and reactive to light and\\naccommodation.  Extraocular movements are intact.  Oropharynx\\ndifficult to assess due to CPAP machine.  No evidence of\\njugular venous pressure, however, the strap from the CPAP\\nmachine obscures the neck exam.  Cranial nerves II through\\nXII are grossly intact.  Neck is supple without\\nlymphadenopathy.  Heart exam:  Tachycardic, regular, obscured\\nby loud bilateral wheezing with increase in the expiratory\\nphase as well as profuse scattered rhonchi throughout the\\nlung fields.  Positive bowel sounds, soft, nontender,\\nnondistended, obese, no masses.  Mild edema of the lower\\nextremities without clubbing or cyanosis, no rashes.  There\\nis a right hand hematoma.  Strength is assessed as [**5-9**] in the\\nlower extremities, [**5-9**] in the upper extremities with a normal\\nmental status and cognition.\\n\\nLABORATORY STUDIES:  White count 19, hematocrit 41, platelets\\n300.  Chem-7:  127, 3.6, 88, 29, 17, 0.6, 143.  Troponin was\\nnegative.  CKs were negative times three.  Initial blood gas\\nshowed a pH of 7.4, pO2 of 66, pCO2 of 54.\\n\\nChest x-ray demonstrates a moderate sized hiatal hernia,\\nsegmental atelectasis, left lower lobe infiltrate versus\\nsegmental atelectasis.\\n\\nEKG shows normal sinus rhythm at 113 beats per minute, normal\\naxis, no evidence of ST-T wave changes.\\n\\nBRIEF SUMMARY OF HOSPITAL COURSE:\\n1. COPD/dyspnea/pneumonia:  The patient was initially placed\\non an aggressive steroid taper and admitted to the Medical\\nIntensive Care Unit due to her difficulty with oxygenation\\ndespite CPAP machine.  She was also given nebulizer\\ntreatments q.4h. as well as chest PT.  The nebulizers were\\nincreased to q.1h. due to the fact that she continued to have\\nlabored breathing.\\n\\nDue to persistent respiratory failure and labored breathing,\\nthe patient was intubated on [**2118-6-7**] in order to improve\\noxygenation, ventilation, and ability to suction.  A\\nbronchoscopy was performed on [**2118-6-7**], which demonstrated\\nmarked narrowing of the airways with expiration consistent\\nwith tracheomalacia.\\n\\nOn [**2118-6-9**], two silicone stents were placed, one in the left\\nmain stem (12 x 25 and one in the trachea 16 x 40) by Dr.\\n[**First Name (STitle) **] [**Name (STitle) **] under rigid bronchoscopy with general anesthesia.\\n\\nOn [**2118-6-11**], the patient was extubated to a cool mist shovel\\nmask and her oxygen was titrated down to 2 liters nasal\\ncannula at which time she was transferred to the medical\\nfloor.  On the medical floor, the steroids were weaned to off\\non [**2118-6-14**], and the patient was saturating at 97% on 2\\nliters, 92% on room air.\\n\\nOn [**2118-6-14**], the patient was seen again by the Interventional\\nPulmonology service, who agreed that she looked much improved\\nand recommended that she go to pulmonary rehabilitation with\\nfollowup within six weeks\\' time status post placement of\\nstents in respiratory failure.\\n\\n2. Cardiovascular:  The patient was ruled out for a MI.  She\\ndid have another episode on the medical floor of chest pain,\\nwhich showed no evidence of EKG changes and negative\\ntroponin, negative CKs x3.  She was continued on aspirin,\\nImdur, and diltiazem for rate control per her outpatient\\nregimen.\\n\\n3. Hypertension:  She was maintained on diltiazem and\\nhydrochlorothiazide with adequate blood pressure control and\\nnormalization of electrolytes.\\n\\n4. Hematuria:  The patient had intermittent hematuria likely\\nsecondary to Foley placement.  The Foley catheter was\\ndiscontinued on [**2118-6-14**].  She had serial urinalyses, which\\nwere all negative for signs of infection.\\n\\n5. Hyperglycemia:  Patient was placed on insulin-sliding\\nscale due to hyperglycemia, which was steroid induced.  This\\nworked quite well and her glucose came back to normal levels\\nonce the steroids were tapered to off.\\n\\n6. Leukocytosis:  Patient did have a profound leukocytosis of\\n20 to 22 during much of her hospital course.  As the steroids\\nwere tapered to off, her white blood cell count on [**2118-6-14**]\\nwas 15,000.  It was felt that the leukocytosis was secondary\\nto both steroids as well as question of a left lower lobe\\npneumonia.\\n\\n7. For the left lower lobe pneumonia, the patient had\\ninitially received a course of levofloxacin 500 p.o. q.d.\\nfrom [**2118-6-4**] to [**2118-6-10**].  This was restarted on [**2118-6-12**]\\nfor an additional seven day course given the fact that she\\nstill had the leukocytosis and still had marked rales at the\\nleft lower lobe.\\n\\n8. Hypothyroidism:  The patient was continued on outpatient\\nmedical regimen.\\n\\n9. Depression:  The patient was continued on Lexapro per\\noutpatient regimen.  It is recommended that she follow up\\nwith a therapist as an outpatient due to the fact that she\\ndid have a blunted affect throughout much of the hospital\\ncourse, and did appear clinically to be depressed.\\n\\n10. Prophylaxis:  She was maintained on proton-pump inhibitor\\nwith subQ Heparin.\\n\\n11. Sore throat:  The patient did have a sore throat for much\\nof the hospital course post extubation.  This was treated\\nwith Cepacol lozenges as well as KBL liquid (a solution\\ncontaining Kaopectate, Bismuth, and lidocaine) at bedtime.\\n\\n12. Communication/code status:  The patient was full code\\nthroughout her hospital course, and communication was\\nmaintained with the patient and her husband.\\n\\n13. Muscle weakness:  The patient did have profound muscle\\nweakness and was evaluated by Physical Therapy, and was found\\nto have impaired functional mobility, impaired\\nmusculoskeletal performance, impaired gas exchange, impaired\\nendurance, impaired ventilation, and needed help with supine\\nto sit.  However, she was able to tolerate sitting in a chair\\nfor approximately one hour.\\n\\nOn motor exam, her flexors and extensors of the lower\\nextremities were [**4-8**] at the knee, [**4-8**] at the ankle, [**4-8**] at\\nthe elbows, and [**4-8**] hips.  It was felt that this weakness was\\nmost likely due to a combination of steroid myopathy as well\\nas muscle atrophy secondary to deconditioning after a\\nprolonged hospital course.\\n\\n14. Speech/swallow:  The patient had a Speech and Swallow\\nevaluation showing no evidence of dysphagia, no evidence of\\nvocal cord damage status post tracheal stent placement.\\n\\nDISCHARGE CONDITION:  The patient was able to oxygenate on\\nroom air at 93% at the time of discharge.  She was profoundly\\nweak, but was no longer tachycardic and had a normal blood\\npressure.  Her respirations were much improved albeit with\\ntransmitted upper airway sounds.\\n\\nDISCHARGE STATUS:  The patient will be discharged to [**Hospital1 **]\\nfor both pulmonary and physical rehabilitation.\\n\\nDISCHARGE MEDICATIONS:\\n1. Levothyroxine 75 mcg p.o. q.d.\\n2. Citalopram 10 mg p.o. q.d.\\n3. Aspirin 81 mg p.o. q.d.\\n4. Fluticasone 110 mcg two puffs inhaled b.i.d.\\n5. Salmeterol Diskus one inhalation b.i.d.\\n6. Acetaminophen 325-650 mg p.o. q.4-6h. prn.\\n7. Ipratropium bromide MDI two puffs inhaled q.2h. prn.\\n8. Albuterol 1-2 puffs inhaled q.2h. prn.\\n9. Zolpidem tartrate 5 mg p.o. q.h.s. prn.\\n10. Isosorbide dinitrate 10 mg p.o. t.i.d.\\n11. Diltiazem 60 mg p.o. q.i.d.\\n12. Pantoprazole 40 mg p.o. q.24h.\\n13. Trazodone 25 mg p.o. q.h.s. prn.\\n14. SubQ Heparin 5000 units subcutaneous b.i.d. until such\\ntime that the patient is able to get out of bed twice a day.\\n15. Cepacol lozenges q.2h. prn.\\n16. Levofloxacin 500 mg p.o. q.d. for a seven day course to\\nbe completed on [**2118-6-21**].\\n17. Kaopectate/Benadryl/lidocaine 5 mL p.o. b.i.d. prn, not\\nto be given around mealtimes for concern of dysphagia induced\\nby lidocaine.\\n18. Lorazepam 0.5-2 mg IV q.6h. prn.\\n\\nFOLLOW-UP PLANS:  The patient is recommended to followup with\\nDr. [**First Name4 (NamePattern1) **] [**Last Name (NamePattern1) 1407**], [**Telephone/Fax (1) 1408**] within two weeks of leaving\\nof the hospital.  She is also recommended to followup with\\nthe Interventional Pulmonary service for followup status post\\nstent placement.  She is also recommended to followup with a\\nneurologist if her muscle weakness does not improve within\\none week on physical therapy with concern for steroid-induced\\nmyopathy.\\n\\nFINAL DIAGNOSES:\\n1. Tracheomalacia status post tracheal and left main stem\\nbronchial stent placement.\\n2. Hypertension.\\n3. Hypothyroidism.\\n4. Restrictive lung defect.\\n5. Depression.\\n\\n\\n                     DR.[**Last Name (STitle) **],[**First Name3 (LF) **] 12-207\\n\\n\\nDictated By:[**Last Name (NamePattern1) 1811**]\\nMEDQUIST36\\n\\nD:  [**2118-6-14**]  11:30\\nT:  [**2118-6-14**]  11:33\\nJOB#:  [**Job Number 1812**]\\n',\n",
              "       'Admission Date:  [**2119-5-4**]              Discharge Date:   [**2119-5-25**]\\n\\n\\nService: CARDIOTHORACIC\\n\\nAllergies:\\nAmlodipine\\n\\nAttending:[**Last Name (NamePattern1) 1561**]\\nChief Complaint:\\n81 yo F smoker w/ COPD, severe TBM, s/p tracheobronchoplasty [**5-5**]\\ns/p perc trach [**5-13**]\\n\\nMajor Surgical or Invasive Procedure:\\nbronchoscopy 3/31,4/2,3,[**6-12**], [**5-17**], [**5-19**]\\ns/p trachealplasty [**5-5**]\\npercutaneous tracheostomy [**5-13**] after failed extubation\\ndown size trach on [**5-25**] to size 6 cuffless\\n\\n\\nHistory of Present Illness:\\nThis 81 year old woman has a history of COPD. Over the past five\\n\\nyears she has had progressive difficulties with her breathing.\\nIn\\n[**2118-6-4**] she was admitted to [**Hospital1 18**] for respiratory failure\\ndue\\nto a COPD exacerbation. Due to persistent hypoxemia, she\\nrequired\\nintubation and a eventual bronchoscopy on [**2118-6-9**] revealed marked\\n\\nnarrowing of the airways on expiration consistent with\\ntracheomalacia.\\nShe subsequently underwent placement of two\\nsilicone stents, one in the left main stem and one in the\\ntrachea. During the admission the patient had complaints of\\nchest\\npain and ruled out for an MI. She was subsequently discharged to\\n\\n[**Hospital1 **] for physical and pulmonary rehab. Repeat bronchoscopy\\non\\n[**2118-8-1**] revealed granulation tissue at the distal right lateral\\nwall of the tracheal stent. There was significant malacia of the\\n\\nperipheral and central airways with complete collapse of the\\nairways on coughing and forced expiration. Small nodules were\\nalso noted on the vocal cords. She has noticed improvement in\\nher\\nrespiratory status, but most recently has been in discussion\\nwith Dr. [**First Name4 (NamePattern1) 951**] [**Last Name (NamePattern1) 952**] regarding possible tracheobronchial plasty\\n\\nwith mesh. Tracheal stents d/c [**2119-4-19**] in anticipation of\\nsurgery.\\nIn terms of symptoms, she describes many years of intermittent\\nchest pain that she describes as left sided and occurring at any\\n\\ntime. Currently, she notices it about three times a week, and\\nstates that it seems to resolve after three nitroglycerin.\\nShe currently is dependent on oxygen and wears 1.5-2 liters\\naround the clock. She has frequent coughing and brings up \"dark\\nsputum\".\\n\\n\\n\\nPast Medical History:\\nCOPD flare [**6-7**] s/p intubation, s/p distal tracheal to Left Main\\nStem stents placed [**2118-6-9**]. Stents d/c\\'d [**2119-4-19**], CAD w/ atypical\\nangina (LAD 30%, RCA 30%, EF 63%), ^chol, hypothyroidism, htn,\\nhiatal hernia, lacunar CVA, s/p ped struck -> head injury & rib\\nfx, depression\\nPMH:\\nCOPD, s/p admit [**6-7**] for exacerbation requiring intubation\\ntracheobronchomalacia, s/p bronchial stenting\\nLarge hiatal hernia\\nLacunar CVA\\nHypothyroidism by records in CCC, although patient denies and is\\n\\nnot taking any medication\\nDepression\\nMVA, s/p head injury approximately 10 years ago\\nHypertension\\nHysterectomy\\n\\n\\nSocial History:\\nSocial History: The patient is married and worked as a clinical\\npsychologist. Her husband is a pediatric neurologist at\\n[**Hospital3 **]. They have several children, one of which is\\n\\na nurse.\\n\\n\\nFamily History:\\nFamily History: (+) FHx CAD; Father with an MI in his 40\\'s, died\\n\\nof a CVA at age 59\\n\\n\\nPhysical Exam:\\nAdmit H+P\\nGeneral-lovely 81 yr old feamle in NAD.\\nNeuro- intermittently anxious, MAE, PERRLA, L eye ptosis,\\nsymetrical smile, gossly intact.\\nHEENT-PERRLA, sclera anicteric, pharynx- no exud or erythema\\nResp-clear upper, diffuse ronchi, intermit exp wheezes\\nCor- RRR, No M, R, G\\nAbd- soft, NT, ND, no masses. Slight protrusion at area of\\nhiatal hernia\\nExt- no edema or clubbing\\n\\nBrief Hospital Course:\\n82 y/o female admitted [**2119-5-4**] for consideration of\\ntracheoplasty.\\nBronchoscopy done [**5-4**] confirming severe TBM. Underwent\\ntracheoplasty [**5-5**], complicated by resp failure d/t mucous\\nplugging, hypoxia requiring re-intubation resulting in prolonged\\nICU and hospital course. Also developed right upper extrem DVT\\nfrom mid line.\\n\\nPain- Epidural accidently d/c\\'d POD#1, pt briefly used dilaudid\\nPCA intermittently w/ fair pain control. Pt required\\nre-intubation for resp failure d/t secretions and PCA d/c at\\nthat time. Propofol for sedation while intubated. Sedation d/c\\'d\\n[**5-12**] for weaning trial w/ ETT- failed trial. Trach [**5-13**]-weaning\\nefforts as below. Minimal c/o pain since [**5-13**]. Presently pain\\nfree.\\n\\nNeuro- Initially intact- post op aggitation, inhibiting weaning\\nefforts [**5-16**]. Psych eval [**5-18**]-Started on zyprexa and ativan w/\\nimprovement in anxiety. Presently A+Ox3- cooperative and lovely.\\n\\nResp- Extubated POD#2 then required re-intub  [**5-7**] for hypoxia\\nd/t poor cough and mucous plugging. SIMV/PS alt w/CMV at night\\nx4-5d, with CPAP attempts during day.\\nBronchoscopy qd [**Date range (1) 1813**] for secretion management. Bronch [**5-9**]\\nrevealed swollen epiglottis, bronch [**5-10**] - good leak w/ ETT cuff\\ndeflated. Bronch [**5-13**] for eval/trach placement. Last bronch [**5-19**]\\nw/ min secretions present, sputum sent.\\n[**5-13**] perc trach done(#8 Portex- cuffed low pressure maintained to\\npreserve tracheoplasty site). [**5-13**] CPAP15/peep5 initiated post\\ntrach placement. Weaning ongoing.  [**Date range (1) 1814**]- Aggressive weaning\\nw/ increasing episodes of CPAP, progressing to Trach Mask.\\n[**2033-5-20**]-Trach mask overnight w/ no episodes of SOB, or\\nhemodynamic instability. Trach changed to #6 portex- capped and\\n[**Last Name (un) 1815**] well x48hrs on 2LNP. productive cough. Aggressive PT as\\nwell w/ OOB > chair [**Hospital1 **]-tid to total 4-6hr qd. Ambulation\\n~100-120 ft [**5-22**] w/ PT assist.\\n\\nID- Vancomycin started post-op for graft prophylaxis. Fever\\nspike [**2119-5-8**] w/ BAl & sputum sent> + MRSA. Vanco cont to [**4-7**]\\nweeks post trachealplasty. Fever low grade [**5-12**], [**5-15**]> cultured-\\nno new results. [**5-19**]- WBC 20.8 .\\n\\nCardiac-Hypertension controlled w/ hydralazine IV, then d/c and\\ncont controlled. HR 65-75 NSR. Avoiding B Blockers. Lasix 20mg\\nIV qd.\\n[**5-15**]- RUE redness and swelling at site of midline, RUE DVT by\\nultrasound, midline d/c; heparin gtt started and therapeutic\\nrange monitored. [**5-22**]  changed to Lovenox sq [**Hospital1 **]. Coags in good\\ncontrol [**5-23**] (48.2/13.8/1.2)\\nAccess- R midline placed [**2119-5-9**] for access- clotted [**2119-5-15**] and\\nd/c\\'d.  RUE redness and swelling and DVT via ultrasound. [**5-15**]- L\\nbrachial PICC line placed- TPN resumed.\\n\\nGI-Large hiatal hernia- unable to place enteral feeding tube at\\nbedside or underfluoro. Re-attempt [**5-17**] by EGD doboff tube\\nplaced distal esophagus, dislodged in 12hours and removed.\\n\\nNutrition- PPN/TPN initiated [**2119-5-8**]- [**2119-5-25**]. PICC placed\\n[**2119-5-15**]. Speech and Swallow eval [**5-22**]- rec change trach form #8\\nto #6 Portex to allow improved epiglotis and oropharyngeal\\nmovement to assist w/ swallowing. Then re-eval.  Trach changed\\n[**5-23**] to #6 cuffless portex trach. Passed repeat swallow eval and\\n[**Last Name (un) 1815**] diet of regular solids w/ thin liquids- CHIN TUCK to\\nswallow thin liquids. Give meds whole w/ apple sauce. WOULD\\nRECOMMEND repeat video swallow eval in [**8-17**] days to possibly\\neliminate chin tuck- see page 3 referral.\\n\\nEndo- Hypothyroid, maintained on levoxyl.\\n\\nMuscu/Skel- OOB> chair 4-6hours/day, PT consulting.\\n\\n\\nMedications on Admission:\\nadvair 250/50\", atrovent, imdur 60\\', lasix 40\\', lexapro 20\\',\\nlipitor 10\\', prilosec 20\\', mucinex 600\", synthroid 75\\', detrol\\nLA 4\\', ambien 5\\', trazadone 75\\', melatonin prn\\n\\nDischarge Medications:\\n1. Albuterol Sulfate 0.083 % Solution Sig: One (1)  Inhalation\\nQ6H (every 6 hours) as needed for wheezing.\\n2. Ipratropium Bromide 0.02 % Solution Sig: One (1)  Inhalation\\nQ6H (every 6 hours) as needed for wheezing.\\n3. Fluticasone-Salmeterol 250-50 mcg/Dose Disk with Device Sig:\\nOne (1) Disk with Device Inhalation [**Hospital1 **] (2 times a day).\\n4. Albuterol 90 mcg/Actuation Aerosol Sig: 1-2 Puffs Inhalation\\nQ6H (every 6 hours) as needed.\\n5. Ipratropium Bromide 18 mcg/Actuation Aerosol Sig: Two (2)\\nPuff Inhalation QID (4 times a day).\\n6. Acetaminophen 325 mg Tablet Sig: 1-2 Tablets PO Q4-6H (every\\n4 to 6 hours) as needed.\\n7. Sodium Chloride 0.65 % Aerosol, Spray Sig: [**2-5**] Sprays Nasal\\nQID (4 times a day) as needed.\\n8. Camphor-Menthol 0.5-0.5 % Lotion Sig: One (1) Appl Topical\\nTID (3 times a day) as needed.\\n9. Enoxaparin Sodium 60 mg/0.6mL Syringe Sig: One (1)\\nSubcutaneous Q12H (every 12 hours).\\n10. Trazodone HCl 50 mg Tablet Sig: 1.5 Tablets PO HS (at\\nbedtime) as needed.\\n11. Escitalopram Oxalate 10 mg Tablet Sig: Two (2) Tablet PO\\nDAILY (Daily).\\n12. Nystatin 100,000 unit/g Cream Sig: One (1) Appl Topical  [**Hospital1 **]\\n(2 times a day).\\n13. Pantoprazole Sodium 40 mg Tablet, Delayed Release (E.C.)\\nSig: One (1) Tablet, Delayed Release (E.C.) PO Q24H (every 24\\nhours).\\n14. Tolterodine Tartrate 2 mg Tablet Sig: One (1) Tablet PO BID\\n(2 times a day).\\n15. Levothyroxine Sodium 75 mcg Tablet Sig: One (1) Tablet PO\\nDAILY (Daily).\\n16. Heparin Lock Flush (Porcine) 100 unit/mL Syringe Sig: One\\n(1) ML Intravenous  DAILY (Daily) as needed.\\n\\n\\nDischarge Disposition:\\nExtended Care\\n\\nFacility:\\n[**Hospital3 7**] & Rehab Center - [**Hospital1 8**]\\n\\nDischarge Diagnosis:\\nCOPD, Coronary Artery Disease/atypical angina (LAD 30%, RCA 30%,\\nEF 63%), hypercholesterolemia, hypothyroidism, Hypertension,\\nhiatal hernia, Cerebral Vascular Accident,s/p Motor Vehicle\\nColision-> head injury & rib fracture.\\nTBM- s/p tracheoplasty.\\n\\n\\nDischarge Condition:\\ngood\\n\\nDischarge Instructions:\\nplease update Dr.[**Name (NI) 1816**] [**Telephone/Fax (1) 170**] office for:  fever,\\nshortness of breath, chest pain , productive cough or if you\\nhave any questions or concerns.\\n\\n\\nCompleted by:[**2119-5-25**]',\n",
              "       ...,\n",
              "       'repeat hct 38.7...dr [**Last Name (STitle) 3789**] notified and no new orders at this time.\\n',\n",
              "       \"Respiratory Care:\\nPatient remains on ventilatory support (CPAP/PSV) with no changes made in parameters throughout the night.  No ABG's at this time.\\n\\nRSBI = 87.8 on 0-PEEP, 0-PSV, and ATC on 100%.\\n\",\n",
              "       \"NURSING ADDENDUM-\\nAT APPROX 0615 PT'S VENT ALARMED AND PT FOUND TO HAVE SELF EXTUBATED. PLACED ON 35% COOL NEB MASK WITH SATS MAINTAINING 100%. PT WITH WEAK COUGH AND IMPAIRED GAG, SPEECH INTACT. RESP AND DR [**Last Name (STitle) **] NOTIFIED. ABG SENT [**11-27**] H LATER PENDING. PT'S DAUGHTER CALLED FOR UPDATE SHORTLY AFTER AND WAS INFORMED.\\n CONINTUE TO MONITOR RESP STATUS\\n\"],\n",
              "      dtype=object)"
            ]
          },
          "execution_count": 39,
          "metadata": {},
          "output_type": "execute_result"
        }
      ],
      "source": [
        "Textcropped"
      ]
    },
    {
      "cell_type": "code",
      "execution_count": null,
      "metadata": {
        "id": "nqrGZXDuurTT"
      },
      "outputs": [],
      "source": [
        "a = np.zeros(2500)\n",
        "b = np.ones(2500)"
      ]
    },
    {
      "cell_type": "code",
      "execution_count": null,
      "metadata": {
        "colab": {
          "base_uri": "https://localhost:8080/"
        },
        "id": "JiZi2jyOvWD6",
        "outputId": "d099840f-1b14-478b-f1ac-29b2095c8a65"
      },
      "outputs": [
        {
          "data": {
            "text/plain": [
              "array([0., 0., 0., ..., 0., 0., 0.])"
            ]
          },
          "execution_count": 41,
          "metadata": {},
          "output_type": "execute_result"
        }
      ],
      "source": [
        "a"
      ]
    },
    {
      "cell_type": "code",
      "execution_count": null,
      "metadata": {
        "id": "-kaAKDuruy1Z"
      },
      "outputs": [],
      "source": [
        "import numpy as np\n",
        "\n",
        "c = np.full(2500, 2)\n",
        "d = np.full(2500, 3)\n",
        "e = np.full(2500, 4)\n",
        "f = np.full(2500, 5)\n",
        "g = np.full(967, 6)\n",
        "h = np.full(2500, 7)\n",
        "ii = np.full(2500, 8)\n",
        "jj = np.full(2500, 9)\n",
        "k = np.full(2500, 10)\n",
        "l = np.full(103, 11)\n",
        "m = np.full(98, 12)\n",
        "n = np.full(2500, 13)\n",
        "o = np.full(2500, 14)\n"
      ]
    },
    {
      "cell_type": "code",
      "execution_count": null,
      "metadata": {
        "id": "izvPPqcruwj3"
      },
      "outputs": [],
      "source": [
        "labelcropped = np.concatenate([a, b, c,d,e,f,g,h,ii,jj,k,l,m,n,o])"
      ]
    },
    {
      "cell_type": "code",
      "execution_count": null,
      "metadata": {
        "colab": {
          "base_uri": "https://localhost:8080/"
        },
        "id": "XkgJIwY8q-KT",
        "outputId": "c6b41398-6c06-4a8e-9b1f-0b5744b96504"
      },
      "outputs": [
        {
          "data": {
            "text/plain": [
              "(31168,)"
            ]
          },
          "execution_count": 66,
          "metadata": {},
          "output_type": "execute_result"
        }
      ],
      "source": [
        "Textcropped.shape"
      ]
    },
    {
      "cell_type": "code",
      "execution_count": null,
      "metadata": {
        "colab": {
          "base_uri": "https://localhost:8080/"
        },
        "id": "xVBMqMG6GxYk",
        "outputId": "2cc82867-8f4a-4d9a-991a-115b7576cea5"
      },
      "outputs": [
        {
          "name": "stdout",
          "output_type": "stream",
          "text": [
            "[ 0.  0.  0. ... 14. 14. 14.]\n"
          ]
        }
      ],
      "source": [
        "print(labelcropped)"
      ]
    },
    {
      "cell_type": "code",
      "execution_count": null,
      "metadata": {
        "colab": {
          "base_uri": "https://localhost:8080/",
          "height": 447
        },
        "id": "etEVfLwCyUFB",
        "outputId": "59c44bc9-2df5-48bb-dcd7-a51947e7723f"
      },
      "outputs": [
        {
          "data": {
            "text/plain": [
              "<Axes: ylabel='count'>"
            ]
          },
          "execution_count": 68,
          "metadata": {},
          "output_type": "execute_result"
        },
        {
          "data": {
            "image/png": "[encoded data removed]",
            "text/plain": [
              "<Figure size 640x480 with 1 Axes>"
            ]
          },
          "metadata": {},
          "output_type": "display_data"
        }
      ],
      "source": [
        "sus.countplot(x = labelcropped)"
      ]
    },
    {
      "cell_type": "code",
      "execution_count": null,
      "metadata": {
        "colab": {
          "base_uri": "https://localhost:8080/"
        },
        "id": "GCnFF9ffyG2Z",
        "outputId": "d9d64a40-696b-4f36-e9ae-f0c23e8019c2"
      },
      "outputs": [
        {
          "data": {
            "text/plain": [
              "(31168,)"
            ]
          },
          "execution_count": 69,
          "metadata": {},
          "output_type": "execute_result"
        }
      ],
      "source": [
        "labelcropped.shape"
      ]
    },
    {
      "cell_type": "code",
      "execution_count": null,
      "metadata": {
        "id": "ClEjU4aOzPl-"
      },
      "outputs": [],
      "source": [
        "from keras.utils.np_utils import to_categorical\n",
        "yOHE = tf.keras.utils.to_categorical(labelcropped,15)"
      ]
    },
    {
      "cell_type": "code",
      "execution_count": null,
      "metadata": {
        "id": "rfz5QLvdjb3U"
      },
      "outputs": [],
      "source": [
        "for x in cat_label :\n",
        "\n",
        "  arr[ x ] += 1"
      ]
    },
    {
      "cell_type": "code",
      "execution_count": null,
      "metadata": {
        "colab": {
          "base_uri": "https://localhost:8080/"
        },
        "id": "FrOBym4ajmnx",
        "outputId": "3a64b3b5-aef0-49bb-a79e-0a48af435e74"
      },
      "outputs": [
        {
          "data": {
            "text/plain": [
              "[119304,\n",
              " 91588,\n",
              " 418102,\n",
              " 447112,\n",
              " 283248,\n",
              " 10862,\n",
              " 1934,\n",
              " 63478,\n",
              " 18836,\n",
              " 16602,\n",
              " 5340,\n",
              " 206,\n",
              " 196,\n",
              " 1044558,\n",
              " 1644994]"
            ]
          },
          "execution_count": 72,
          "metadata": {},
          "output_type": "execute_result"
        }
      ],
      "source": [
        "arr"
      ]
    },
    {
      "cell_type": "code",
      "execution_count": null,
      "metadata": {
        "colab": {
          "base_uri": "https://localhost:8080/"
        },
        "id": "eY_sVs8LI5eU",
        "outputId": "4c2afbbe-9a44-43b3-d51b-09cc6d5387dc"
      },
      "outputs": [
        {
          "data": {
            "text/plain": [
              "(31168, 15)"
            ]
          },
          "execution_count": 73,
          "metadata": {},
          "output_type": "execute_result"
        }
      ],
      "source": [
        "yOHE.shape"
      ]
    },
    {
      "cell_type": "code",
      "execution_count": null,
      "metadata": {
        "colab": {
          "base_uri": "https://localhost:8080/"
        },
        "id": "QU8koYfHF9zH",
        "outputId": "8546758e-9108-431e-ef27-0be5f159caa0"
      },
      "outputs": [
        {
          "name": "stderr",
          "output_type": "stream",
          "text": [
            "UserWarning: `get_dummies` on non-DataFrame is not currently supported by PandasOnRay, defaulting to pandas implementation.\n",
            "UserWarning: Distributing <class 'pandas.core.frame.DataFrame'> object. This may take some time.\n"
          ]
        }
      ],
      "source": [
        "ohe_data = pd.get_dummies(\n",
        "    labelcropped\n",
        ")"
      ]
    },
    {
      "cell_type": "code",
      "execution_count": null,
      "metadata": {
        "colab": {
          "base_uri": "https://localhost:8080/",
          "height": 424
        },
        "id": "WRtVkfW1BCW9",
        "outputId": "7916a869-24df-47a2-9bd4-e23b8384a923"
      },
      "outputs": [
        {
          "data": {
            "text/html": [
              "<div>\n",
              "<style scoped>\n",
              "    .dataframe tbody tr th:only-of-type {\n",
              "        vertical-align: middle;\n",
              "    }\n",
              "\n",
              "    .dataframe tbody tr th {\n",
              "        vertical-align: top;\n",
              "    }\n",
              "\n",
              "    .dataframe thead th {\n",
              "        text-align: right;\n",
              "    }\n",
              "</style>\n",
              "<table border=\"1\" class=\"dataframe\">\n",
              "  <thead>\n",
              "    <tr style=\"text-align: right;\">\n",
              "      <th></th>\n",
              "      <th>0.0</th>\n",
              "      <th>1.0</th>\n",
              "      <th>2.0</th>\n",
              "      <th>3.0</th>\n",
              "      <th>4.0</th>\n",
              "      <th>5.0</th>\n",
              "      <th>6.0</th>\n",
              "      <th>7.0</th>\n",
              "      <th>8.0</th>\n",
              "      <th>9.0</th>\n",
              "      <th>10.0</th>\n",
              "      <th>11.0</th>\n",
              "      <th>12.0</th>\n",
              "      <th>13.0</th>\n",
              "      <th>14.0</th>\n",
              "    </tr>\n",
              "  </thead>\n",
              "  <tbody>\n",
              "    <tr>\n",
              "      <th>0</th>\n",
              "      <td>1</td>\n",
              "      <td>0</td>\n",
              "      <td>0</td>\n",
              "      <td>0</td>\n",
              "      <td>0</td>\n",
              "      <td>0</td>\n",
              "      <td>0</td>\n",
              "      <td>0</td>\n",
              "      <td>0</td>\n",
              "      <td>0</td>\n",
              "      <td>0</td>\n",
              "      <td>0</td>\n",
              "      <td>0</td>\n",
              "      <td>0</td>\n",
              "      <td>0</td>\n",
              "    </tr>\n",
              "    <tr>\n",
              "      <th>1</th>\n",
              "      <td>1</td>\n",
              "      <td>0</td>\n",
              "      <td>0</td>\n",
              "      <td>0</td>\n",
              "      <td>0</td>\n",
              "      <td>0</td>\n",
              "      <td>0</td>\n",
              "      <td>0</td>\n",
              "      <td>0</td>\n",
              "      <td>0</td>\n",
              "      <td>0</td>\n",
              "      <td>0</td>\n",
              "      <td>0</td>\n",
              "      <td>0</td>\n",
              "      <td>0</td>\n",
              "    </tr>\n",
              "    <tr>\n",
              "      <th>2</th>\n",
              "      <td>1</td>\n",
              "      <td>0</td>\n",
              "      <td>0</td>\n",
              "      <td>0</td>\n",
              "      <td>0</td>\n",
              "      <td>0</td>\n",
              "      <td>0</td>\n",
              "      <td>0</td>\n",
              "      <td>0</td>\n",
              "      <td>0</td>\n",
              "      <td>0</td>\n",
              "      <td>0</td>\n",
              "      <td>0</td>\n",
              "      <td>0</td>\n",
              "      <td>0</td>\n",
              "    </tr>\n",
              "    <tr>\n",
              "      <th>3</th>\n",
              "      <td>1</td>\n",
              "      <td>0</td>\n",
              "      <td>0</td>\n",
              "      <td>0</td>\n",
              "      <td>0</td>\n",
              "      <td>0</td>\n",
              "      <td>0</td>\n",
              "      <td>0</td>\n",
              "      <td>0</td>\n",
              "      <td>0</td>\n",
              "      <td>0</td>\n",
              "      <td>0</td>\n",
              "      <td>0</td>\n",
              "      <td>0</td>\n",
              "      <td>0</td>\n",
              "    </tr>\n",
              "    <tr>\n",
              "      <th>4</th>\n",
              "      <td>1</td>\n",
              "      <td>0</td>\n",
              "      <td>0</td>\n",
              "      <td>0</td>\n",
              "      <td>0</td>\n",
              "      <td>0</td>\n",
              "      <td>0</td>\n",
              "      <td>0</td>\n",
              "      <td>0</td>\n",
              "      <td>0</td>\n",
              "      <td>0</td>\n",
              "      <td>0</td>\n",
              "      <td>0</td>\n",
              "      <td>0</td>\n",
              "      <td>0</td>\n",
              "    </tr>\n",
              "    <tr>\n",
              "      <th>...</th>\n",
              "      <td>...</td>\n",
              "      <td>...</td>\n",
              "      <td>...</td>\n",
              "      <td>...</td>\n",
              "      <td>...</td>\n",
              "      <td>...</td>\n",
              "      <td>...</td>\n",
              "      <td>...</td>\n",
              "      <td>...</td>\n",
              "      <td>...</td>\n",
              "      <td>...</td>\n",
              "      <td>...</td>\n",
              "      <td>...</td>\n",
              "      <td>...</td>\n",
              "      <td>...</td>\n",
              "    </tr>\n",
              "    <tr>\n",
              "      <th>31163</th>\n",
              "      <td>0</td>\n",
              "      <td>0</td>\n",
              "      <td>0</td>\n",
              "      <td>0</td>\n",
              "      <td>0</td>\n",
              "      <td>0</td>\n",
              "      <td>0</td>\n",
              "      <td>0</td>\n",
              "      <td>0</td>\n",
              "      <td>0</td>\n",
              "      <td>0</td>\n",
              "      <td>0</td>\n",
              "      <td>0</td>\n",
              "      <td>0</td>\n",
              "      <td>1</td>\n",
              "    </tr>\n",
              "    <tr>\n",
              "      <th>31164</th>\n",
              "      <td>0</td>\n",
              "      <td>0</td>\n",
              "      <td>0</td>\n",
              "      <td>0</td>\n",
              "      <td>0</td>\n",
              "      <td>0</td>\n",
              "      <td>0</td>\n",
              "      <td>0</td>\n",
              "      <td>0</td>\n",
              "      <td>0</td>\n",
              "      <td>0</td>\n",
              "      <td>0</td>\n",
              "      <td>0</td>\n",
              "      <td>0</td>\n",
              "      <td>1</td>\n",
              "    </tr>\n",
              "    <tr>\n",
              "      <th>31165</th>\n",
              "      <td>0</td>\n",
              "      <td>0</td>\n",
              "      <td>0</td>\n",
              "      <td>0</td>\n",
              "      <td>0</td>\n",
              "      <td>0</td>\n",
              "      <td>0</td>\n",
              "      <td>0</td>\n",
              "      <td>0</td>\n",
              "      <td>0</td>\n",
              "      <td>0</td>\n",
              "      <td>0</td>\n",
              "      <td>0</td>\n",
              "      <td>0</td>\n",
              "      <td>1</td>\n",
              "    </tr>\n",
              "    <tr>\n",
              "      <th>31166</th>\n",
              "      <td>0</td>\n",
              "      <td>0</td>\n",
              "      <td>0</td>\n",
              "      <td>0</td>\n",
              "      <td>0</td>\n",
              "      <td>0</td>\n",
              "      <td>0</td>\n",
              "      <td>0</td>\n",
              "      <td>0</td>\n",
              "      <td>0</td>\n",
              "      <td>0</td>\n",
              "      <td>0</td>\n",
              "      <td>0</td>\n",
              "      <td>0</td>\n",
              "      <td>1</td>\n",
              "    </tr>\n",
              "    <tr>\n",
              "      <th>31167</th>\n",
              "      <td>0</td>\n",
              "      <td>0</td>\n",
              "      <td>0</td>\n",
              "      <td>0</td>\n",
              "      <td>0</td>\n",
              "      <td>0</td>\n",
              "      <td>0</td>\n",
              "      <td>0</td>\n",
              "      <td>0</td>\n",
              "      <td>0</td>\n",
              "      <td>0</td>\n",
              "      <td>0</td>\n",
              "      <td>0</td>\n",
              "      <td>0</td>\n",
              "      <td>1</td>\n",
              "    </tr>\n",
              "  </tbody>\n",
              "</table>\n",
              "<p>31168 rows x 15 columns</p>\n",
              "</div>"
            ],
            "text/plain": [
              "       0.0   1.0   2.0   3.0   4.0   5.0   6.0   7.0   8.0   9.0   10.0  11.0  \\\n",
              "0         1     0     0     0     0     0     0     0     0     0     0     0   \n",
              "1         1     0     0     0     0     0     0     0     0     0     0     0   \n",
              "2         1     0     0     0     0     0     0     0     0     0     0     0   \n",
              "3         1     0     0     0     0     0     0     0     0     0     0     0   \n",
              "4         1     0     0     0     0     0     0     0     0     0     0     0   \n",
              "...     ...   ...   ...   ...   ...   ...   ...   ...   ...   ...   ...   ...   \n",
              "31163     0     0     0     0     0     0     0     0     0     0     0     0   \n",
              "31164     0     0     0     0     0     0     0     0     0     0     0     0   \n",
              "31165     0     0     0     0     0     0     0     0     0     0     0     0   \n",
              "31166     0     0     0     0     0     0     0     0     0     0     0     0   \n",
              "31167     0     0     0     0     0     0     0     0     0     0     0     0   \n",
              "\n",
              "       12.0  13.0  14.0  \n",
              "0         0     0     0  \n",
              "1         0     0     0  \n",
              "2         0     0     0  \n",
              "3         0     0     0  \n",
              "4         0     0     0  \n",
              "...     ...   ...   ...  \n",
              "31163     0     0     1  \n",
              "31164     0     0     1  \n",
              "31165     0     0     1  \n",
              "31166     0     0     1  \n",
              "31167     0     0     1  \n",
              "\n",
              "[31168 rows x 15 columns]"
            ]
          },
          "execution_count": 75,
          "metadata": {},
          "output_type": "execute_result"
        }
      ],
      "source": [
        "ohe_data"
      ]
    },
    {
      "cell_type": "code",
      "execution_count": null,
      "metadata": {
        "id": "Gi2z5meZW0Nj"
      },
      "outputs": [],
      "source": [
        "import numpy as np"
      ]
    },
    {
      "cell_type": "code",
      "execution_count": null,
      "metadata": {
        "id": "y3WujgfxtHnU"
      },
      "outputs": [],
      "source": [
        "ohe_np = np.array(ohe_data)"
      ]
    },
    {
      "cell_type": "code",
      "execution_count": null,
      "metadata": {
        "colab": {
          "base_uri": "https://localhost:8080/"
        },
        "id": "5_iWBTMytMOl",
        "outputId": "d92725c8-bd03-484c-9728-17d15daf853b"
      },
      "outputs": [
        {
          "data": {
            "text/plain": [
              "numpy.ndarray"
            ]
          },
          "execution_count": 78,
          "metadata": {},
          "output_type": "execute_result"
        }
      ],
      "source": [
        "type(ohe_np)"
      ]
    },
    {
      "cell_type": "code",
      "execution_count": null,
      "metadata": {
        "colab": {
          "base_uri": "https://localhost:8080/"
        },
        "id": "ZA7q58OhtOoa",
        "outputId": "9d6b2409-0160-4a16-fa53-96c4a51f711a"
      },
      "outputs": [
        {
          "data": {
            "text/plain": [
              "array([[1, 0, 0, ..., 0, 0, 0],\n",
              "       [1, 0, 0, ..., 0, 0, 0],\n",
              "       [1, 0, 0, ..., 0, 0, 0],\n",
              "       ...,\n",
              "       [0, 0, 0, ..., 0, 0, 1],\n",
              "       [0, 0, 0, ..., 0, 0, 1],\n",
              "       [0, 0, 0, ..., 0, 0, 1]], dtype=uint8)"
            ]
          },
          "execution_count": 79,
          "metadata": {},
          "output_type": "execute_result"
        }
      ],
      "source": [
        "ohe_np"
      ]
    },
    {
      "cell_type": "code",
      "execution_count": null,
      "metadata": {
        "id": "O3U2cxmqQmWT"
      },
      "outputs": [],
      "source": [
        "del np_y\n",
        "del np_x"
      ]
    },
    {
      "cell_type": "code",
      "execution_count": null,
      "metadata": {
        "colab": {
          "base_uri": "https://localhost:8080/"
        },
        "id": "nvQsWaawQuqD",
        "outputId": "bef53994-1cb2-4324-bc30-9e518a30ce30"
      },
      "outputs": [
        {
          "data": {
            "text/plain": [
              "204"
            ]
          },
          "execution_count": 84,
          "metadata": {},
          "output_type": "execute_result"
        }
      ],
      "source": [
        "gc.collect()"
      ]
    },
    {
      "cell_type": "code",
      "execution_count": null,
      "metadata": {
        "colab": {
          "base_uri": "https://localhost:8080/"
        },
        "id": "4_GBYBkZuXN4",
        "outputId": "7d35dfba-843f-49eb-a0d0-38964ea3743d"
      },
      "outputs": [
        {
          "name": "stderr",
          "output_type": "stream",
          "text": [
            "\u001b[2m\u001b[33m(raylet)\u001b[0m [2023-05-20 13:07:51,701 E 3218 3218] (raylet) node_manager.cc:3071: 1 Workers (tasks / actors) killed due to memory pressure (OOM), 0 Workers crashed due to other reasons at node (ID: 8a33baf4afb28bd6789b0a4a00a1875063d124a20bb41ae65af5f3e7, IP: 172.28.0.12) over the last time period. To see more information about the Workers killed on this node, use `ray logs raylet.out -ip 172.28.0.12`\n",
            "\u001b[2m\u001b[33m(raylet)\u001b[0m \n",
            "\u001b[2m\u001b[33m(raylet)\u001b[0m Refer to the documentation on how to address the out of memory issue: https://docs.ray.io/en/latest/ray-core/scheduling/ray-oom-prevention.html. Consider provisioning more memory on this node or reducing task parallelism by requesting more CPUs per task. To adjust the kill threshold, set the environment variable `RAY_memory_usage_threshold` when starting Ray. To disable worker killing, set the environment variable `RAY_memory_monitor_refresh_ms` to zero.\n",
            "2023-05-20 13:08:03,696\tWARNING worker.py:1986 -- A worker died or was killed while executing a task by an unexpected system error. To troubleshoot the problem, check the logs for the dead worker. RayTask ID: b760a27e26f1ea3914759aa36309c3a829c3857401000000 Worker ID: 08b8860d916e2bdf14c9b76d966063b9854d4c273eb772e6d2f5536f Node ID: 8a33baf4afb28bd6789b0a4a00a1875063d124a20bb41ae65af5f3e7 Worker IP address: 172.28.0.12 Worker port: 34305 Worker PID: 18465 Worker exit type: SYSTEM_ERROR Worker exit detail: Worker unexpectedly exits with a connection error code 2. End of file. There are some potential root causes. (1) The process is killed by SIGKILL by OOM killer due to high memory usage. (2) ray stop --force is called. (3) The worker is crashed unexpectedly due to SIGSEGV or other unexpected errors.\n",
            "\u001b[2m\u001b[36m(raylet)\u001b[0m Spilled 16578 MiB, 122 objects, write throughput 30 MiB/s.\n"
          ]
        }
      ],
      "source": [
        "np_x = np.array(df['TEXT'])\n",
        "np_y = np.array( ohe_data )"
      ]
    },
    {
      "cell_type": "code",
      "execution_count": null,
      "metadata": {
        "id": "QJIADpanug75"
      },
      "outputs": [],
      "source": [
        "#np_y"
      ]
    },
    {
      "cell_type": "code",
      "execution_count": null,
      "metadata": {
        "colab": {
          "base_uri": "https://localhost:8080/"
        },
        "id": "7o3UFAieHkny",
        "outputId": "1a6ccba4-d312-4fcb-bae3-437032276bca"
      },
      "outputs": [
        {
          "data": {
            "text/plain": [
              "(31168,)"
            ]
          },
          "execution_count": 86,
          "metadata": {},
          "output_type": "execute_result"
        }
      ],
      "source": [
        "Textcropped.shape"
      ]
    },
    {
      "cell_type": "code",
      "execution_count": null,
      "metadata": {
        "id": "kcQYF65SWlaD"
      },
      "outputs": [],
      "source": []
    },
    {
      "cell_type": "code",
      "execution_count": null,
      "metadata": {
        "colab": {
          "base_uri": "https://localhost:8080/"
        },
        "id": "d_P5TmOxHo47",
        "outputId": "cd1cc892-fb83-4235-ef9e-5888ad8da08a"
      },
      "outputs": [
        {
          "data": {
            "text/plain": [
              "(31168, 15)"
            ]
          },
          "execution_count": 88,
          "metadata": {},
          "output_type": "execute_result"
        }
      ],
      "source": [
        "ohe_data.shape"
      ]
    },
    {
      "cell_type": "code",
      "execution_count": null,
      "metadata": {
        "id": "8PT9IudWzt8v"
      },
      "outputs": [],
      "source": [
        "from sklearn.model_selection import train_test_split\n",
        "X_train, X_test, y_train, y_test = train_test_split(Textcropped, ohe_data,test_size=0.30)"
      ]
    },
    {
      "cell_type": "code",
      "execution_count": null,
      "metadata": {
        "id": "P1wcM3gAErJo"
      },
      "outputs": [],
      "source": [
        "export_df = ogpd.DataFrame( columns = [Textcropped, ohe_data]  )"
      ]
    },
    {
      "cell_type": "code",
      "execution_count": null,
      "metadata": {
        "id": "p7Hy2vGxSjXL"
      },
      "outputs": [],
      "source": [
        "exp_df = ogpd.DataFrame()"
      ]
    },
    {
      "cell_type": "code",
      "execution_count": null,
      "metadata": {
        "id": "RnuBa5KaTjgj"
      },
      "outputs": [],
      "source": [
        "exp_df[\"TEXT\"] = Textcropped"
      ]
    },
    {
      "cell_type": "code",
      "execution_count": null,
      "metadata": {
        "colab": {
          "base_uri": "https://localhost:8080/",
          "height": 424
        },
        "id": "q8o7A8WWXESp",
        "outputId": "b0ff0a48-6def-4102-e014-65326ee0c191"
      },
      "outputs": [
        {
          "data": {
            "text/html": [
              "\n",
              "  <div id=\"df-d72f41c3-430d-477c-a3fe-e3efbc09466d\">\n",
              "    <div class=\"colab-df-container\">\n",
              "      <div>\n",
              "<style scoped>\n",
              "    .dataframe tbody tr th:only-of-type {\n",
              "        vertical-align: middle;\n",
              "    }\n",
              "\n",
              "    .dataframe tbody tr th {\n",
              "        vertical-align: top;\n",
              "    }\n",
              "\n",
              "    .dataframe thead th {\n",
              "        text-align: right;\n",
              "    }\n",
              "</style>\n",
              "<table border=\"1\" class=\"dataframe\">\n",
              "  <thead>\n",
              "    <tr style=\"text-align: right;\">\n",
              "      <th></th>\n",
              "      <th>TEXT</th>\n",
              "    </tr>\n",
              "  </thead>\n",
              "  <tbody>\n",
              "    <tr>\n",
              "      <th>0</th>\n",
              "      <td>Admission Date:  [**2151-7-16**]       Dischar...</td>\n",
              "    </tr>\n",
              "    <tr>\n",
              "      <th>1</th>\n",
              "      <td>Admission Date:  [**2118-6-2**]       Discharg...</td>\n",
              "    </tr>\n",
              "    <tr>\n",
              "      <th>2</th>\n",
              "      <td>Admission Date:  [**2119-5-4**]              D...</td>\n",
              "    </tr>\n",
              "    <tr>\n",
              "      <th>3</th>\n",
              "      <td>Admission Date:  [**2124-7-21**]              ...</td>\n",
              "    </tr>\n",
              "    <tr>\n",
              "      <th>4</th>\n",
              "      <td>Admission Date:  [**2162-3-3**]              D...</td>\n",
              "    </tr>\n",
              "    <tr>\n",
              "      <th>...</th>\n",
              "      <td>...</td>\n",
              "    </tr>\n",
              "    <tr>\n",
              "      <th>31163</th>\n",
              "      <td>Addendum - K 3.4. Phos 1.8 - pt being repleted...</td>\n",
              "    </tr>\n",
              "    <tr>\n",
              "      <th>31164</th>\n",
              "      <td>the pt remains stable on cmv 700x18x50%x21.bs:...</td>\n",
              "    </tr>\n",
              "    <tr>\n",
              "      <th>31165</th>\n",
              "      <td>repeat hct 38.7...dr [**Last Name (STitle) 378...</td>\n",
              "    </tr>\n",
              "    <tr>\n",
              "      <th>31166</th>\n",
              "      <td>Respiratory Care:\\nPatient remains on ventilat...</td>\n",
              "    </tr>\n",
              "    <tr>\n",
              "      <th>31167</th>\n",
              "      <td>NURSING ADDENDUM-\\nAT APPROX 0615 PT'S VENT AL...</td>\n",
              "    </tr>\n",
              "  </tbody>\n",
              "</table>\n",
              "<p>31168 rows × 1 columns</p>\n",
              "</div>\n",
              "      <button class=\"colab-df-convert\" onclick=\"convertToInteractive('df-d72f41c3-430d-477c-a3fe-e3efbc09466d')\"\n",
              "              title=\"Convert this dataframe to an interactive table.\"\n",
              "              style=\"display:none;\">\n",
              "        \n",
              "  <svg xmlns=\"http://www.w3.org/2000/svg\" height=\"24px\"viewBox=\"0 0 24 24\"\n",
              "       width=\"24px\">\n",
              "    <path d=\"M0 0h24v24H0V0z\" fill=\"none\"/>\n",
              "    <path d=\"M18.56 5.44l.94 2.06.94-2.06 2.06-.94-2.06-.94-.94-2.06-.94 2.06-2.06.94zm-11 1L8.5 8.5l.94-2.06 2.06-.94-2.06-.94L8.5 2.5l-.94 2.06-2.06.94zm10 10l.94 2.06.94-2.06 2.06-.94-2.06-.94-.94-2.06-.94 2.06-2.06.94z\"/><path d=\"M17.41 7.96l-1.37-1.37c-.4-.4-.92-.59-1.43-.59-.52 0-1.04.2-1.43.59L10.3 9.45l-7.72 7.72c-.78.78-.78 2.05 0 2.83L4 21.41c.39.39.9.59 1.41.59.51 0 1.02-.2 1.41-.59l7.78-7.78 2.81-2.81c.8-.78.8-2.07 0-2.86zM5.41 20L4 18.59l7.72-7.72 1.47 1.35L5.41 20z\"/>\n",
              "  </svg>\n",
              "      </button>\n",
              "      \n",
              "  <style>\n",
              "    .colab-df-container {\n",
              "      display:flex;\n",
              "      flex-wrap:wrap;\n",
              "      gap: 12px;\n",
              "    }\n",
              "\n",
              "    .colab-df-convert {\n",
              "      background-color: #E8F0FE;\n",
              "      border: none;\n",
              "      border-radius: 50%;\n",
              "      cursor: pointer;\n",
              "      display: none;\n",
              "      fill: #1967D2;\n",
              "      height: 32px;\n",
              "      padding: 0 0 0 0;\n",
              "      width: 32px;\n",
              "    }\n",
              "\n",
              "    .colab-df-convert:hover {\n",
              "      background-color: #E2EBFA;\n",
              "      box-shadow: 0px 1px 2px rgba(60, 64, 67, 0.3), 0px 1px 3px 1px rgba(60, 64, 67, 0.15);\n",
              "      fill: #174EA6;\n",
              "    }\n",
              "\n",
              "    [theme=dark] .colab-df-convert {\n",
              "      background-color: #3B4455;\n",
              "      fill: #D2E3FC;\n",
              "    }\n",
              "\n",
              "    [theme=dark] .colab-df-convert:hover {\n",
              "      background-color: #434B5C;\n",
              "      box-shadow: 0px 1px 3px 1px rgba(0, 0, 0, 0.15);\n",
              "      filter: drop-shadow(0px 1px 2px rgba(0, 0, 0, 0.3));\n",
              "      fill: #FFFFFF;\n",
              "    }\n",
              "  </style>\n",
              "\n",
              "      <script>\n",
              "        const buttonEl =\n",
              "          document.querySelector('#df-d72f41c3-430d-477c-a3fe-e3efbc09466d button.colab-df-convert');\n",
              "        buttonEl.style.display =\n",
              "          google.colab.kernel.accessAllowed ? 'block' : 'none';\n",
              "\n",
              "        async function convertToInteractive(key) {\n",
              "          const element = document.querySelector('#df-d72f41c3-430d-477c-a3fe-e3efbc09466d');\n",
              "          const dataTable =\n",
              "            await google.colab.kernel.invokeFunction('convertToInteractive',\n",
              "                                                     [key], {});\n",
              "          if (!dataTable) return;\n",
              "\n",
              "          const docLinkHtml = 'Like what you see? Visit the ' +\n",
              "            '<a target=\"_blank\" href=https://colab.research.google.com/notebooks/data_table.ipynb>data table notebook</a>'\n",
              "            + ' to learn more about interactive tables.';\n",
              "          element.innerHTML = '';\n",
              "          dataTable['output_type'] = 'display_data';\n",
              "          await google.colab.output.renderOutput(dataTable, element);\n",
              "          const docLink = document.createElement('div');\n",
              "          docLink.innerHTML = docLinkHtml;\n",
              "          element.appendChild(docLink);\n",
              "        }\n",
              "      </script>\n",
              "    </div>\n",
              "  </div>\n",
              "  "
            ],
            "text/plain": [
              "                                                    TEXT\n",
              "0      Admission Date:  [**2151-7-16**]       Dischar...\n",
              "1      Admission Date:  [**2118-6-2**]       Discharg...\n",
              "2      Admission Date:  [**2119-5-4**]              D...\n",
              "3      Admission Date:  [**2124-7-21**]              ...\n",
              "4      Admission Date:  [**2162-3-3**]              D...\n",
              "...                                                  ...\n",
              "31163  Addendum - K 3.4. Phos 1.8 - pt being repleted...\n",
              "31164  the pt remains stable on cmv 700x18x50%x21.bs:...\n",
              "31165  repeat hct 38.7...dr [**Last Name (STitle) 378...\n",
              "31166  Respiratory Care:\\nPatient remains on ventilat...\n",
              "31167  NURSING ADDENDUM-\\nAT APPROX 0615 PT'S VENT AL...\n",
              "\n",
              "[31168 rows x 1 columns]"
            ]
          },
          "execution_count": 134,
          "metadata": {},
          "output_type": "execute_result"
        }
      ],
      "source": [
        "exp_df"
      ]
    },
    {
      "cell_type": "code",
      "execution_count": null,
      "metadata": {
        "id": "31pE1BuUWz0P"
      },
      "outputs": [],
      "source": [
        "new_df = ogpd.concat( [exp_df, ogpd.DataFrame(np_y)], axis = 1 )"
      ]
    },
    {
      "cell_type": "code",
      "execution_count": null,
      "metadata": {
        "colab": {
          "base_uri": "https://localhost:8080/",
          "height": 424
        },
        "id": "vb75aONlXRvX",
        "outputId": "bc0eca42-67a2-4dca-cdcc-a0885cc6bd1c"
      },
      "outputs": [
        {
          "data": {
            "text/html": [
              "\n",
              "  <div id=\"df-97e3d44f-e8fc-451e-b438-b31aab91f70a\">\n",
              "    <div class=\"colab-df-container\">\n",
              "      <div>\n",
              "<style scoped>\n",
              "    .dataframe tbody tr th:only-of-type {\n",
              "        vertical-align: middle;\n",
              "    }\n",
              "\n",
              "    .dataframe tbody tr th {\n",
              "        vertical-align: top;\n",
              "    }\n",
              "\n",
              "    .dataframe thead th {\n",
              "        text-align: right;\n",
              "    }\n",
              "</style>\n",
              "<table border=\"1\" class=\"dataframe\">\n",
              "  <thead>\n",
              "    <tr style=\"text-align: right;\">\n",
              "      <th></th>\n",
              "      <th>TEXT</th>\n",
              "      <th>0</th>\n",
              "      <th>1</th>\n",
              "      <th>2</th>\n",
              "      <th>3</th>\n",
              "      <th>4</th>\n",
              "      <th>5</th>\n",
              "      <th>6</th>\n",
              "      <th>7</th>\n",
              "      <th>8</th>\n",
              "      <th>9</th>\n",
              "      <th>10</th>\n",
              "      <th>11</th>\n",
              "      <th>12</th>\n",
              "      <th>13</th>\n",
              "      <th>14</th>\n",
              "    </tr>\n",
              "  </thead>\n",
              "  <tbody>\n",
              "    <tr>\n",
              "      <th>0</th>\n",
              "      <td>Admission Date:  [**2151-7-16**]       Dischar...</td>\n",
              "      <td>1</td>\n",
              "      <td>0</td>\n",
              "      <td>0</td>\n",
              "      <td>0</td>\n",
              "      <td>0</td>\n",
              "      <td>0</td>\n",
              "      <td>0</td>\n",
              "      <td>0</td>\n",
              "      <td>0</td>\n",
              "      <td>0</td>\n",
              "      <td>0</td>\n",
              "      <td>0</td>\n",
              "      <td>0</td>\n",
              "      <td>0</td>\n",
              "      <td>0</td>\n",
              "    </tr>\n",
              "    <tr>\n",
              "      <th>1</th>\n",
              "      <td>Admission Date:  [**2118-6-2**]       Discharg...</td>\n",
              "      <td>1</td>\n",
              "      <td>0</td>\n",
              "      <td>0</td>\n",
              "      <td>0</td>\n",
              "      <td>0</td>\n",
              "      <td>0</td>\n",
              "      <td>0</td>\n",
              "      <td>0</td>\n",
              "      <td>0</td>\n",
              "      <td>0</td>\n",
              "      <td>0</td>\n",
              "      <td>0</td>\n",
              "      <td>0</td>\n",
              "      <td>0</td>\n",
              "      <td>0</td>\n",
              "    </tr>\n",
              "    <tr>\n",
              "      <th>2</th>\n",
              "      <td>Admission Date:  [**2119-5-4**]              D...</td>\n",
              "      <td>1</td>\n",
              "      <td>0</td>\n",
              "      <td>0</td>\n",
              "      <td>0</td>\n",
              "      <td>0</td>\n",
              "      <td>0</td>\n",
              "      <td>0</td>\n",
              "      <td>0</td>\n",
              "      <td>0</td>\n",
              "      <td>0</td>\n",
              "      <td>0</td>\n",
              "      <td>0</td>\n",
              "      <td>0</td>\n",
              "      <td>0</td>\n",
              "      <td>0</td>\n",
              "    </tr>\n",
              "    <tr>\n",
              "      <th>3</th>\n",
              "      <td>Admission Date:  [**2124-7-21**]              ...</td>\n",
              "      <td>1</td>\n",
              "      <td>0</td>\n",
              "      <td>0</td>\n",
              "      <td>0</td>\n",
              "      <td>0</td>\n",
              "      <td>0</td>\n",
              "      <td>0</td>\n",
              "      <td>0</td>\n",
              "      <td>0</td>\n",
              "      <td>0</td>\n",
              "      <td>0</td>\n",
              "      <td>0</td>\n",
              "      <td>0</td>\n",
              "      <td>0</td>\n",
              "      <td>0</td>\n",
              "    </tr>\n",
              "    <tr>\n",
              "      <th>4</th>\n",
              "      <td>Admission Date:  [**2162-3-3**]              D...</td>\n",
              "      <td>1</td>\n",
              "      <td>0</td>\n",
              "      <td>0</td>\n",
              "      <td>0</td>\n",
              "      <td>0</td>\n",
              "      <td>0</td>\n",
              "      <td>0</td>\n",
              "      <td>0</td>\n",
              "      <td>0</td>\n",
              "      <td>0</td>\n",
              "      <td>0</td>\n",
              "      <td>0</td>\n",
              "      <td>0</td>\n",
              "      <td>0</td>\n",
              "      <td>0</td>\n",
              "    </tr>\n",
              "    <tr>\n",
              "      <th>...</th>\n",
              "      <td>...</td>\n",
              "      <td>...</td>\n",
              "      <td>...</td>\n",
              "      <td>...</td>\n",
              "      <td>...</td>\n",
              "      <td>...</td>\n",
              "      <td>...</td>\n",
              "      <td>...</td>\n",
              "      <td>...</td>\n",
              "      <td>...</td>\n",
              "      <td>...</td>\n",
              "      <td>...</td>\n",
              "      <td>...</td>\n",
              "      <td>...</td>\n",
              "      <td>...</td>\n",
              "      <td>...</td>\n",
              "    </tr>\n",
              "    <tr>\n",
              "      <th>31163</th>\n",
              "      <td>Addendum - K 3.4. Phos 1.8 - pt being repleted...</td>\n",
              "      <td>0</td>\n",
              "      <td>0</td>\n",
              "      <td>0</td>\n",
              "      <td>0</td>\n",
              "      <td>0</td>\n",
              "      <td>0</td>\n",
              "      <td>0</td>\n",
              "      <td>0</td>\n",
              "      <td>0</td>\n",
              "      <td>0</td>\n",
              "      <td>0</td>\n",
              "      <td>0</td>\n",
              "      <td>0</td>\n",
              "      <td>0</td>\n",
              "      <td>1</td>\n",
              "    </tr>\n",
              "    <tr>\n",
              "      <th>31164</th>\n",
              "      <td>the pt remains stable on cmv 700x18x50%x21.bs:...</td>\n",
              "      <td>0</td>\n",
              "      <td>0</td>\n",
              "      <td>0</td>\n",
              "      <td>0</td>\n",
              "      <td>0</td>\n",
              "      <td>0</td>\n",
              "      <td>0</td>\n",
              "      <td>0</td>\n",
              "      <td>0</td>\n",
              "      <td>0</td>\n",
              "      <td>0</td>\n",
              "      <td>0</td>\n",
              "      <td>0</td>\n",
              "      <td>0</td>\n",
              "      <td>1</td>\n",
              "    </tr>\n",
              "    <tr>\n",
              "      <th>31165</th>\n",
              "      <td>repeat hct 38.7...dr [**Last Name (STitle) 378...</td>\n",
              "      <td>0</td>\n",
              "      <td>0</td>\n",
              "      <td>0</td>\n",
              "      <td>0</td>\n",
              "      <td>0</td>\n",
              "      <td>0</td>\n",
              "      <td>0</td>\n",
              "      <td>0</td>\n",
              "      <td>0</td>\n",
              "      <td>0</td>\n",
              "      <td>0</td>\n",
              "      <td>0</td>\n",
              "      <td>0</td>\n",
              "      <td>0</td>\n",
              "      <td>1</td>\n",
              "    </tr>\n",
              "    <tr>\n",
              "      <th>31166</th>\n",
              "      <td>Respiratory Care:\\nPatient remains on ventilat...</td>\n",
              "      <td>0</td>\n",
              "      <td>0</td>\n",
              "      <td>0</td>\n",
              "      <td>0</td>\n",
              "      <td>0</td>\n",
              "      <td>0</td>\n",
              "      <td>0</td>\n",
              "      <td>0</td>\n",
              "      <td>0</td>\n",
              "      <td>0</td>\n",
              "      <td>0</td>\n",
              "      <td>0</td>\n",
              "      <td>0</td>\n",
              "      <td>0</td>\n",
              "      <td>1</td>\n",
              "    </tr>\n",
              "    <tr>\n",
              "      <th>31167</th>\n",
              "      <td>NURSING ADDENDUM-\\nAT APPROX 0615 PT'S VENT AL...</td>\n",
              "      <td>0</td>\n",
              "      <td>0</td>\n",
              "      <td>0</td>\n",
              "      <td>0</td>\n",
              "      <td>0</td>\n",
              "      <td>0</td>\n",
              "      <td>0</td>\n",
              "      <td>0</td>\n",
              "      <td>0</td>\n",
              "      <td>0</td>\n",
              "      <td>0</td>\n",
              "      <td>0</td>\n",
              "      <td>0</td>\n",
              "      <td>0</td>\n",
              "      <td>1</td>\n",
              "    </tr>\n",
              "  </tbody>\n",
              "</table>\n",
              "<p>31168 rows × 16 columns</p>\n",
              "</div>\n",
              "      <button class=\"colab-df-convert\" onclick=\"convertToInteractive('df-97e3d44f-e8fc-451e-b438-b31aab91f70a')\"\n",
              "              title=\"Convert this dataframe to an interactive table.\"\n",
              "              style=\"display:none;\">\n",
              "        \n",
              "  <svg xmlns=\"http://www.w3.org/2000/svg\" height=\"24px\"viewBox=\"0 0 24 24\"\n",
              "       width=\"24px\">\n",
              "    <path d=\"M0 0h24v24H0V0z\" fill=\"none\"/>\n",
              "    <path d=\"M18.56 5.44l.94 2.06.94-2.06 2.06-.94-2.06-.94-.94-2.06-.94 2.06-2.06.94zm-11 1L8.5 8.5l.94-2.06 2.06-.94-2.06-.94L8.5 2.5l-.94 2.06-2.06.94zm10 10l.94 2.06.94-2.06 2.06-.94-2.06-.94-.94-2.06-.94 2.06-2.06.94z\"/><path d=\"M17.41 7.96l-1.37-1.37c-.4-.4-.92-.59-1.43-.59-.52 0-1.04.2-1.43.59L10.3 9.45l-7.72 7.72c-.78.78-.78 2.05 0 2.83L4 21.41c.39.39.9.59 1.41.59.51 0 1.02-.2 1.41-.59l7.78-7.78 2.81-2.81c.8-.78.8-2.07 0-2.86zM5.41 20L4 18.59l7.72-7.72 1.47 1.35L5.41 20z\"/>\n",
              "  </svg>\n",
              "      </button>\n",
              "      \n",
              "  <style>\n",
              "    .colab-df-container {\n",
              "      display:flex;\n",
              "      flex-wrap:wrap;\n",
              "      gap: 12px;\n",
              "    }\n",
              "\n",
              "    .colab-df-convert {\n",
              "      background-color: #E8F0FE;\n",
              "      border: none;\n",
              "      border-radius: 50%;\n",
              "      cursor: pointer;\n",
              "      display: none;\n",
              "      fill: #1967D2;\n",
              "      height: 32px;\n",
              "      padding: 0 0 0 0;\n",
              "      width: 32px;\n",
              "    }\n",
              "\n",
              "    .colab-df-convert:hover {\n",
              "      background-color: #E2EBFA;\n",
              "      box-shadow: 0px 1px 2px rgba(60, 64, 67, 0.3), 0px 1px 3px 1px rgba(60, 64, 67, 0.15);\n",
              "      fill: #174EA6;\n",
              "    }\n",
              "\n",
              "    [theme=dark] .colab-df-convert {\n",
              "      background-color: #3B4455;\n",
              "      fill: #D2E3FC;\n",
              "    }\n",
              "\n",
              "    [theme=dark] .colab-df-convert:hover {\n",
              "      background-color: #434B5C;\n",
              "      box-shadow: 0px 1px 3px 1px rgba(0, 0, 0, 0.15);\n",
              "      filter: drop-shadow(0px 1px 2px rgba(0, 0, 0, 0.3));\n",
              "      fill: #FFFFFF;\n",
              "    }\n",
              "  </style>\n",
              "\n",
              "      <script>\n",
              "        const buttonEl =\n",
              "          document.querySelector('#df-97e3d44f-e8fc-451e-b438-b31aab91f70a button.colab-df-convert');\n",
              "        buttonEl.style.display =\n",
              "          google.colab.kernel.accessAllowed ? 'block' : 'none';\n",
              "\n",
              "        async function convertToInteractive(key) {\n",
              "          const element = document.querySelector('#df-97e3d44f-e8fc-451e-b438-b31aab91f70a');\n",
              "          const dataTable =\n",
              "            await google.colab.kernel.invokeFunction('convertToInteractive',\n",
              "                                                     [key], {});\n",
              "          if (!dataTable) return;\n",
              "\n",
              "          const docLinkHtml = 'Like what you see? Visit the ' +\n",
              "            '<a target=\"_blank\" href=https://colab.research.google.com/notebooks/data_table.ipynb>data table notebook</a>'\n",
              "            + ' to learn more about interactive tables.';\n",
              "          element.innerHTML = '';\n",
              "          dataTable['output_type'] = 'display_data';\n",
              "          await google.colab.output.renderOutput(dataTable, element);\n",
              "          const docLink = document.createElement('div');\n",
              "          docLink.innerHTML = docLinkHtml;\n",
              "          element.appendChild(docLink);\n",
              "        }\n",
              "      </script>\n",
              "    </div>\n",
              "  </div>\n",
              "  "
            ],
            "text/plain": [
              "                                                    TEXT  0  1  2  3  4  5  6  \\\n",
              "0      Admission Date:  [**2151-7-16**]       Dischar...  1  0  0  0  0  0  0   \n",
              "1      Admission Date:  [**2118-6-2**]       Discharg...  1  0  0  0  0  0  0   \n",
              "2      Admission Date:  [**2119-5-4**]              D...  1  0  0  0  0  0  0   \n",
              "3      Admission Date:  [**2124-7-21**]              ...  1  0  0  0  0  0  0   \n",
              "4      Admission Date:  [**2162-3-3**]              D...  1  0  0  0  0  0  0   \n",
              "...                                                  ... .. .. .. .. .. .. ..   \n",
              "31163  Addendum - K 3.4. Phos 1.8 - pt being repleted...  0  0  0  0  0  0  0   \n",
              "31164  the pt remains stable on cmv 700x18x50%x21.bs:...  0  0  0  0  0  0  0   \n",
              "31165  repeat hct 38.7...dr [**Last Name (STitle) 378...  0  0  0  0  0  0  0   \n",
              "31166  Respiratory Care:\\nPatient remains on ventilat...  0  0  0  0  0  0  0   \n",
              "31167  NURSING ADDENDUM-\\nAT APPROX 0615 PT'S VENT AL...  0  0  0  0  0  0  0   \n",
              "\n",
              "       7  8  9  10  11  12  13  14  \n",
              "0      0  0  0   0   0   0   0   0  \n",
              "1      0  0  0   0   0   0   0   0  \n",
              "2      0  0  0   0   0   0   0   0  \n",
              "3      0  0  0   0   0   0   0   0  \n",
              "4      0  0  0   0   0   0   0   0  \n",
              "...   .. .. ..  ..  ..  ..  ..  ..  \n",
              "31163  0  0  0   0   0   0   0   1  \n",
              "31164  0  0  0   0   0   0   0   1  \n",
              "31165  0  0  0   0   0   0   0   1  \n",
              "31166  0  0  0   0   0   0   0   1  \n",
              "31167  0  0  0   0   0   0   0   1  \n",
              "\n",
              "[31168 rows x 16 columns]"
            ]
          },
          "execution_count": 141,
          "metadata": {},
          "output_type": "execute_result"
        }
      ],
      "source": [
        "new_df"
      ]
    },
    {
      "cell_type": "code",
      "execution_count": null,
      "metadata": {
        "id": "kaFwVOeyXRKk"
      },
      "outputs": [],
      "source": [
        "new_df.to_csv( \"/content/gdrive/MyDrive/MIMIC_weights/data.csv\" )"
      ]
    },
    {
      "cell_type": "code",
      "execution_count": null,
      "metadata": {
        "id": "ibLgllJgXyOk"
      },
      "outputs": [],
      "source": [
        "import pandas as pd"
      ]
    },
    {
      "cell_type": "code",
      "execution_count": null,
      "metadata": {
        "id": "T7WSNn6lX2Y2"
      },
      "outputs": [],
      "source": [
        "df2 = pd.read_csv( \"/content/gdrive/MyDrive/MIMIC_weights/data.csv\" )"
      ]
    },
    {
      "cell_type": "code",
      "execution_count": null,
      "metadata": {
        "colab": {
          "base_uri": "https://localhost:8080/",
          "height": 424
        },
        "id": "VCKb59lYbMWO",
        "outputId": "b957d4ea-571e-4ce4-a621-c25dc121317a"
      },
      "outputs": [
        {
          "data": {
            "text/html": [
              "\n",
              "  <div id=\"df-bd42155b-b8a3-4124-8260-1c29a841716a\">\n",
              "    <div class=\"colab-df-container\">\n",
              "      <div>\n",
              "<style scoped>\n",
              "    .dataframe tbody tr th:only-of-type {\n",
              "        vertical-align: middle;\n",
              "    }\n",
              "\n",
              "    .dataframe tbody tr th {\n",
              "        vertical-align: top;\n",
              "    }\n",
              "\n",
              "    .dataframe thead th {\n",
              "        text-align: right;\n",
              "    }\n",
              "</style>\n",
              "<table border=\"1\" class=\"dataframe\">\n",
              "  <thead>\n",
              "    <tr style=\"text-align: right;\">\n",
              "      <th></th>\n",
              "      <th>Unnamed: 0</th>\n",
              "      <th>TEXT</th>\n",
              "      <th>0</th>\n",
              "      <th>1</th>\n",
              "      <th>2</th>\n",
              "      <th>3</th>\n",
              "      <th>4</th>\n",
              "      <th>5</th>\n",
              "      <th>6</th>\n",
              "      <th>7</th>\n",
              "      <th>8</th>\n",
              "      <th>9</th>\n",
              "      <th>10</th>\n",
              "      <th>11</th>\n",
              "      <th>12</th>\n",
              "      <th>13</th>\n",
              "      <th>14</th>\n",
              "    </tr>\n",
              "  </thead>\n",
              "  <tbody>\n",
              "    <tr>\n",
              "      <th>0</th>\n",
              "      <td>0</td>\n",
              "      <td>Admission Date:  [**2151-7-16**]       Dischar...</td>\n",
              "      <td>1</td>\n",
              "      <td>0</td>\n",
              "      <td>0</td>\n",
              "      <td>0</td>\n",
              "      <td>0</td>\n",
              "      <td>0</td>\n",
              "      <td>0</td>\n",
              "      <td>0</td>\n",
              "      <td>0</td>\n",
              "      <td>0</td>\n",
              "      <td>0</td>\n",
              "      <td>0</td>\n",
              "      <td>0</td>\n",
              "      <td>0</td>\n",
              "      <td>0</td>\n",
              "    </tr>\n",
              "    <tr>\n",
              "      <th>1</th>\n",
              "      <td>1</td>\n",
              "      <td>Admission Date:  [**2118-6-2**]       Discharg...</td>\n",
              "      <td>1</td>\n",
              "      <td>0</td>\n",
              "      <td>0</td>\n",
              "      <td>0</td>\n",
              "      <td>0</td>\n",
              "      <td>0</td>\n",
              "      <td>0</td>\n",
              "      <td>0</td>\n",
              "      <td>0</td>\n",
              "      <td>0</td>\n",
              "      <td>0</td>\n",
              "      <td>0</td>\n",
              "      <td>0</td>\n",
              "      <td>0</td>\n",
              "      <td>0</td>\n",
              "    </tr>\n",
              "    <tr>\n",
              "      <th>2</th>\n",
              "      <td>2</td>\n",
              "      <td>Admission Date:  [**2119-5-4**]              D...</td>\n",
              "      <td>1</td>\n",
              "      <td>0</td>\n",
              "      <td>0</td>\n",
              "      <td>0</td>\n",
              "      <td>0</td>\n",
              "      <td>0</td>\n",
              "      <td>0</td>\n",
              "      <td>0</td>\n",
              "      <td>0</td>\n",
              "      <td>0</td>\n",
              "      <td>0</td>\n",
              "      <td>0</td>\n",
              "      <td>0</td>\n",
              "      <td>0</td>\n",
              "      <td>0</td>\n",
              "    </tr>\n",
              "    <tr>\n",
              "      <th>3</th>\n",
              "      <td>3</td>\n",
              "      <td>Admission Date:  [**2124-7-21**]              ...</td>\n",
              "      <td>1</td>\n",
              "      <td>0</td>\n",
              "      <td>0</td>\n",
              "      <td>0</td>\n",
              "      <td>0</td>\n",
              "      <td>0</td>\n",
              "      <td>0</td>\n",
              "      <td>0</td>\n",
              "      <td>0</td>\n",
              "      <td>0</td>\n",
              "      <td>0</td>\n",
              "      <td>0</td>\n",
              "      <td>0</td>\n",
              "      <td>0</td>\n",
              "      <td>0</td>\n",
              "    </tr>\n",
              "    <tr>\n",
              "      <th>4</th>\n",
              "      <td>4</td>\n",
              "      <td>Admission Date:  [**2162-3-3**]              D...</td>\n",
              "      <td>1</td>\n",
              "      <td>0</td>\n",
              "      <td>0</td>\n",
              "      <td>0</td>\n",
              "      <td>0</td>\n",
              "      <td>0</td>\n",
              "      <td>0</td>\n",
              "      <td>0</td>\n",
              "      <td>0</td>\n",
              "      <td>0</td>\n",
              "      <td>0</td>\n",
              "      <td>0</td>\n",
              "      <td>0</td>\n",
              "      <td>0</td>\n",
              "      <td>0</td>\n",
              "    </tr>\n",
              "    <tr>\n",
              "      <th>...</th>\n",
              "      <td>...</td>\n",
              "      <td>...</td>\n",
              "      <td>...</td>\n",
              "      <td>...</td>\n",
              "      <td>...</td>\n",
              "      <td>...</td>\n",
              "      <td>...</td>\n",
              "      <td>...</td>\n",
              "      <td>...</td>\n",
              "      <td>...</td>\n",
              "      <td>...</td>\n",
              "      <td>...</td>\n",
              "      <td>...</td>\n",
              "      <td>...</td>\n",
              "      <td>...</td>\n",
              "      <td>...</td>\n",
              "      <td>...</td>\n",
              "    </tr>\n",
              "    <tr>\n",
              "      <th>31163</th>\n",
              "      <td>31163</td>\n",
              "      <td>Addendum - K 3.4. Phos 1.8 - pt being repleted...</td>\n",
              "      <td>0</td>\n",
              "      <td>0</td>\n",
              "      <td>0</td>\n",
              "      <td>0</td>\n",
              "      <td>0</td>\n",
              "      <td>0</td>\n",
              "      <td>0</td>\n",
              "      <td>0</td>\n",
              "      <td>0</td>\n",
              "      <td>0</td>\n",
              "      <td>0</td>\n",
              "      <td>0</td>\n",
              "      <td>0</td>\n",
              "      <td>0</td>\n",
              "      <td>1</td>\n",
              "    </tr>\n",
              "    <tr>\n",
              "      <th>31164</th>\n",
              "      <td>31164</td>\n",
              "      <td>the pt remains stable on cmv 700x18x50%x21.bs:...</td>\n",
              "      <td>0</td>\n",
              "      <td>0</td>\n",
              "      <td>0</td>\n",
              "      <td>0</td>\n",
              "      <td>0</td>\n",
              "      <td>0</td>\n",
              "      <td>0</td>\n",
              "      <td>0</td>\n",
              "      <td>0</td>\n",
              "      <td>0</td>\n",
              "      <td>0</td>\n",
              "      <td>0</td>\n",
              "      <td>0</td>\n",
              "      <td>0</td>\n",
              "      <td>1</td>\n",
              "    </tr>\n",
              "    <tr>\n",
              "      <th>31165</th>\n",
              "      <td>31165</td>\n",
              "      <td>repeat hct 38.7...dr [**Last Name (STitle) 378...</td>\n",
              "      <td>0</td>\n",
              "      <td>0</td>\n",
              "      <td>0</td>\n",
              "      <td>0</td>\n",
              "      <td>0</td>\n",
              "      <td>0</td>\n",
              "      <td>0</td>\n",
              "      <td>0</td>\n",
              "      <td>0</td>\n",
              "      <td>0</td>\n",
              "      <td>0</td>\n",
              "      <td>0</td>\n",
              "      <td>0</td>\n",
              "      <td>0</td>\n",
              "      <td>1</td>\n",
              "    </tr>\n",
              "    <tr>\n",
              "      <th>31166</th>\n",
              "      <td>31166</td>\n",
              "      <td>Respiratory Care:\\nPatient remains on ventilat...</td>\n",
              "      <td>0</td>\n",
              "      <td>0</td>\n",
              "      <td>0</td>\n",
              "      <td>0</td>\n",
              "      <td>0</td>\n",
              "      <td>0</td>\n",
              "      <td>0</td>\n",
              "      <td>0</td>\n",
              "      <td>0</td>\n",
              "      <td>0</td>\n",
              "      <td>0</td>\n",
              "      <td>0</td>\n",
              "      <td>0</td>\n",
              "      <td>0</td>\n",
              "      <td>1</td>\n",
              "    </tr>\n",
              "    <tr>\n",
              "      <th>31167</th>\n",
              "      <td>31167</td>\n",
              "      <td>NURSING ADDENDUM-\\nAT APPROX 0615 PT'S VENT AL...</td>\n",
              "      <td>0</td>\n",
              "      <td>0</td>\n",
              "      <td>0</td>\n",
              "      <td>0</td>\n",
              "      <td>0</td>\n",
              "      <td>0</td>\n",
              "      <td>0</td>\n",
              "      <td>0</td>\n",
              "      <td>0</td>\n",
              "      <td>0</td>\n",
              "      <td>0</td>\n",
              "      <td>0</td>\n",
              "      <td>0</td>\n",
              "      <td>0</td>\n",
              "      <td>1</td>\n",
              "    </tr>\n",
              "  </tbody>\n",
              "</table>\n",
              "<p>31168 rows × 17 columns</p>\n",
              "</div>\n",
              "      <button class=\"colab-df-convert\" onclick=\"convertToInteractive('df-bd42155b-b8a3-4124-8260-1c29a841716a')\"\n",
              "              title=\"Convert this dataframe to an interactive table.\"\n",
              "              style=\"display:none;\">\n",
              "        \n",
              "  <svg xmlns=\"http://www.w3.org/2000/svg\" height=\"24px\"viewBox=\"0 0 24 24\"\n",
              "       width=\"24px\">\n",
              "    <path d=\"M0 0h24v24H0V0z\" fill=\"none\"/>\n",
              "    <path d=\"M18.56 5.44l.94 2.06.94-2.06 2.06-.94-2.06-.94-.94-2.06-.94 2.06-2.06.94zm-11 1L8.5 8.5l.94-2.06 2.06-.94-2.06-.94L8.5 2.5l-.94 2.06-2.06.94zm10 10l.94 2.06.94-2.06 2.06-.94-2.06-.94-.94-2.06-.94 2.06-2.06.94z\"/><path d=\"M17.41 7.96l-1.37-1.37c-.4-.4-.92-.59-1.43-.59-.52 0-1.04.2-1.43.59L10.3 9.45l-7.72 7.72c-.78.78-.78 2.05 0 2.83L4 21.41c.39.39.9.59 1.41.59.51 0 1.02-.2 1.41-.59l7.78-7.78 2.81-2.81c.8-.78.8-2.07 0-2.86zM5.41 20L4 18.59l7.72-7.72 1.47 1.35L5.41 20z\"/>\n",
              "  </svg>\n",
              "      </button>\n",
              "      \n",
              "  <style>\n",
              "    .colab-df-container {\n",
              "      display:flex;\n",
              "      flex-wrap:wrap;\n",
              "      gap: 12px;\n",
              "    }\n",
              "\n",
              "    .colab-df-convert {\n",
              "      background-color: #E8F0FE;\n",
              "      border: none;\n",
              "      border-radius: 50%;\n",
              "      cursor: pointer;\n",
              "      display: none;\n",
              "      fill: #1967D2;\n",
              "      height: 32px;\n",
              "      padding: 0 0 0 0;\n",
              "      width: 32px;\n",
              "    }\n",
              "\n",
              "    .colab-df-convert:hover {\n",
              "      background-color: #E2EBFA;\n",
              "      box-shadow: 0px 1px 2px rgba(60, 64, 67, 0.3), 0px 1px 3px 1px rgba(60, 64, 67, 0.15);\n",
              "      fill: #174EA6;\n",
              "    }\n",
              "\n",
              "    [theme=dark] .colab-df-convert {\n",
              "      background-color: #3B4455;\n",
              "      fill: #D2E3FC;\n",
              "    }\n",
              "\n",
              "    [theme=dark] .colab-df-convert:hover {\n",
              "      background-color: #434B5C;\n",
              "      box-shadow: 0px 1px 3px 1px rgba(0, 0, 0, 0.15);\n",
              "      filter: drop-shadow(0px 1px 2px rgba(0, 0, 0, 0.3));\n",
              "      fill: #FFFFFF;\n",
              "    }\n",
              "  </style>\n",
              "\n",
              "      <script>\n",
              "        const buttonEl =\n",
              "          document.querySelector('#df-bd42155b-b8a3-4124-8260-1c29a841716a button.colab-df-convert');\n",
              "        buttonEl.style.display =\n",
              "          google.colab.kernel.accessAllowed ? 'block' : 'none';\n",
              "\n",
              "        async function convertToInteractive(key) {\n",
              "          const element = document.querySelector('#df-bd42155b-b8a3-4124-8260-1c29a841716a');\n",
              "          const dataTable =\n",
              "            await google.colab.kernel.invokeFunction('convertToInteractive',\n",
              "                                                     [key], {});\n",
              "          if (!dataTable) return;\n",
              "\n",
              "          const docLinkHtml = 'Like what you see? Visit the ' +\n",
              "            '<a target=\"_blank\" href=https://colab.research.google.com/notebooks/data_table.ipynb>data table notebook</a>'\n",
              "            + ' to learn more about interactive tables.';\n",
              "          element.innerHTML = '';\n",
              "          dataTable['output_type'] = 'display_data';\n",
              "          await google.colab.output.renderOutput(dataTable, element);\n",
              "          const docLink = document.createElement('div');\n",
              "          docLink.innerHTML = docLinkHtml;\n",
              "          element.appendChild(docLink);\n",
              "        }\n",
              "      </script>\n",
              "    </div>\n",
              "  </div>\n",
              "  "
            ],
            "text/plain": [
              "       Unnamed: 0                                               TEXT  0  1  2  \\\n",
              "0               0  Admission Date:  [**2151-7-16**]       Dischar...  1  0  0   \n",
              "1               1  Admission Date:  [**2118-6-2**]       Discharg...  1  0  0   \n",
              "2               2  Admission Date:  [**2119-5-4**]              D...  1  0  0   \n",
              "3               3  Admission Date:  [**2124-7-21**]              ...  1  0  0   \n",
              "4               4  Admission Date:  [**2162-3-3**]              D...  1  0  0   \n",
              "...           ...                                                ... .. .. ..   \n",
              "31163       31163  Addendum - K 3.4. Phos 1.8 - pt being repleted...  0  0  0   \n",
              "31164       31164  the pt remains stable on cmv 700x18x50%x21.bs:...  0  0  0   \n",
              "31165       31165  repeat hct 38.7...dr [**Last Name (STitle) 378...  0  0  0   \n",
              "31166       31166  Respiratory Care:\\nPatient remains on ventilat...  0  0  0   \n",
              "31167       31167  NURSING ADDENDUM-\\nAT APPROX 0615 PT'S VENT AL...  0  0  0   \n",
              "\n",
              "       3  4  5  6  7  8  9  10  11  12  13  14  \n",
              "0      0  0  0  0  0  0  0   0   0   0   0   0  \n",
              "1      0  0  0  0  0  0  0   0   0   0   0   0  \n",
              "2      0  0  0  0  0  0  0   0   0   0   0   0  \n",
              "3      0  0  0  0  0  0  0   0   0   0   0   0  \n",
              "4      0  0  0  0  0  0  0   0   0   0   0   0  \n",
              "...   .. .. .. .. .. .. ..  ..  ..  ..  ..  ..  \n",
              "31163  0  0  0  0  0  0  0   0   0   0   0   1  \n",
              "31164  0  0  0  0  0  0  0   0   0   0   0   1  \n",
              "31165  0  0  0  0  0  0  0   0   0   0   0   1  \n",
              "31166  0  0  0  0  0  0  0   0   0   0   0   1  \n",
              "31167  0  0  0  0  0  0  0   0   0   0   0   1  \n",
              "\n",
              "[31168 rows x 17 columns]"
            ]
          },
          "execution_count": 19,
          "metadata": {},
          "output_type": "execute_result"
        }
      ],
      "source": [
        "df2"
      ]
    },
    {
      "cell_type": "code",
      "execution_count": null,
      "metadata": {
        "id": "7N7q5WKLTOJ9"
      },
      "outputs": [],
      "source": [
        "exp_df.rename(\n",
        "    columns = {\n",
        "\n",
        "    }\n",
        ")"
      ]
    },
    {
      "cell_type": "code",
      "execution_count": null,
      "metadata": {
        "colab": {
          "base_uri": "https://localhost:8080/"
        },
        "id": "PRdZca9ItXY4",
        "outputId": "1808e544-5f5f-48bc-daaa-5b82deb97072"
      },
      "outputs": [
        {
          "data": {
            "text/plain": [
              "(9351, 15)"
            ]
          },
          "execution_count": 107,
          "metadata": {},
          "output_type": "execute_result"
        }
      ],
      "source": [
        "y_test.shape"
      ]
    },
    {
      "cell_type": "code",
      "execution_count": null,
      "metadata": {
        "colab": {
          "base_uri": "https://localhost:8080/"
        },
        "id": "B0NiemVmE7xR",
        "outputId": "7a31a8e5-1beb-42d3-8392-533d5a31e6b8"
      },
      "outputs": [
        {
          "data": {
            "text/plain": [
              "(21817, 15)"
            ]
          },
          "execution_count": 108,
          "metadata": {},
          "output_type": "execute_result"
        }
      ],
      "source": [
        "y_train.shape"
      ]
    },
    {
      "cell_type": "code",
      "execution_count": null,
      "metadata": {
        "id": "0yRzVHFDnM4Q"
      },
      "outputs": [],
      "source": [
        "bert_preprocess = hub.KerasLayer(\"https://tfhub.dev/tensorflow/bert_en_uncased_preprocess/3\")\n",
        "bert_encoder = hub.KerasLayer(\"https://tfhub.dev/tensorflow/bert_en_uncased_L-12_H-768_A-12/4\")"
      ]
    },
    {
      "cell_type": "code",
      "execution_count": null,
      "metadata": {
        "id": "LeftDjGEneSQ"
      },
      "outputs": [],
      "source": [
        "text_input = tf.keras.layers.Input(shape=(), dtype=tf.string, name='text')\n",
        "preprocessed_text = bert_preprocess(text_input)\n",
        "outputs = bert_encoder(preprocessed_text)"
      ]
    },
    {
      "cell_type": "code",
      "execution_count": null,
      "metadata": {
        "id": "pxuXAipoDV-t"
      },
      "outputs": [],
      "source": [
        "from keras.regularizers import l2\n",
        "from tensorflow.keras import layers\n",
        "from tensorflow.keras import regularizers"
      ]
    },
    {
      "cell_type": "code",
      "execution_count": null,
      "metadata": {
        "id": "doa5wyEMF_xT"
      },
      "outputs": [],
      "source": [
        "import tensorflow as tf\n",
        "\n",
        "#l = tf.keras.layers.Dense(512, activation='relu', name='dense-1', kernel_regularizer=tf.keras.regularizers.L1L2(l1=0.01, l2=0.01))(outputs[\"pooled_output\"])\n",
        "#l = tf.keras.layers.Dense(512, activation='relu', name='dense-1', kernel_regularizer=tf.keras.regularizers.L1(l1=0.1))(outputs[\"pooled_output\"])\n",
        "l = tf.keras.layers.Dense(512, activation='relu', name='dense-1', kernel_regularizer=tf.keras.regularizers.L2(l2=0.01))(outputs[\"pooled_output\"])\n",
        "l = tf.keras.layers.Dropout(0.20, name=\"drop-1\")(l)\n",
        "l = tf.keras.layers.Dense(512, activation='relu', name='dense-2')(l)\n",
        "l = tf.keras.layers.Dropout(0.2, name = \"drop-2\")(l)\n",
        "l = tf.keras.layers.Dense(15, activation='softmax', name=\"output\")(l)"
      ]
    },
    {
      "cell_type": "code",
      "execution_count": null,
      "metadata": {
        "id": "z6laiXugnrEY"
      },
      "outputs": [],
      "source": [
        "model = tf.keras.Model(inputs=[text_input], outputs = [l])"
      ]
    },
    {
      "cell_type": "code",
      "execution_count": null,
      "metadata": {
        "id": "DzNxPzVMnyPW"
      },
      "outputs": [],
      "source": [
        "METRICS = [\n",
        "      tf.keras.metrics.CategoricalAccuracy(name='accuracy'),\n",
        "      tf.keras.metrics.Precision(name='precision'),\n",
        "      tf.keras.metrics.Recall(name='recall'),\n",
        "      tf.keras.losses.MeanSquaredError(\n",
        "           name = 'mean_squared_error'\n",
        "      )\n",
        "]\n",
        "\n",
        "model.compile(\n",
        "    optimizer='adam',\n",
        "    loss='categorical_crossentropy', #loss = 'mean_squared_error',# tf.keras.losses.MeanSquaredError(),\n",
        "    metrics=METRICS\n",
        "  )"
      ]
    },
    {
      "cell_type": "code",
      "execution_count": null,
      "metadata": {
        "colab": {
          "base_uri": "https://localhost:8080/",
          "height": 616
        },
        "id": "jyLiifKRS8Ca",
        "outputId": "07cc8fbe-8c5f-4fc4-ef9f-6abff610b6f0"
      },
      "outputs": [
        {
          "data": {
            "image/png": "[encoded data removed]",
            "text/plain": [
              "<IPython.core.display.Image object>"
            ]
          },
          "execution_count": 16,
          "metadata": {},
          "output_type": "execute_result"
        }
      ],
      "source": [
        "tf.keras.utils.plot_model(\n",
        "    model,\n",
        "    show_shapes = True,\n",
        "    show_dtype = True,\n",
        "    show_layer_activations = True\n",
        ")"
      ]
    },
    {
      "cell_type": "code",
      "execution_count": null,
      "metadata": {
        "colab": {
          "base_uri": "https://localhost:8080/"
        },
        "id": "fbzmZNJdnv3f",
        "outputId": "f4957c66-4bb4-4efb-8a7d-13dd911bc12a"
      },
      "outputs": [
        {
          "name": "stdout",
          "output_type": "stream",
          "text": [
            "Model: \"model\"\n",
            "__________________________________________________________________________________________________\n",
            " Layer (type)                   Output Shape         Param #     Connected to                     \n",
            "==================================================================================================\n",
            " text (InputLayer)              [(None,)]            0           []                               \n",
            "                                                                                                  \n",
            " keras_layer (KerasLayer)       {'input_type_ids':   0           ['text[0][0]']                   \n",
            "                                (None, 128),                                                      \n",
            "                                 'input_mask': (Non                                               \n",
            "                                e, 128),                                                          \n",
            "                                 'input_word_ids':                                                \n",
            "                                (None, 128)}                                                      \n",
            "                                                                                                  \n",
            " keras_layer_1 (KerasLayer)     {'sequence_output':  109482241   ['keras_layer[0][0]',            \n",
            "                                 (None, 128, 768),                'keras_layer[0][1]',            \n",
            "                                 'default': (None,                'keras_layer[0][2]']            \n",
            "                                768),                                                             \n",
            "                                 'encoder_outputs':                                               \n",
            "                                 [(None, 128, 768),                                               \n",
            "                                 (None, 128, 768),                                                \n",
            "                                 (None, 128, 768),                                                \n",
            "                                 (None, 128, 768),                                                \n",
            "                                 (None, 128, 768),                                                \n",
            "                                 (None, 128, 768),                                                \n",
            "                                 (None, 128, 768),                                                \n",
            "                                 (None, 128, 768),                                                \n",
            "                                 (None, 128, 768),                                                \n",
            "                                 (None, 128, 768),                                                \n",
            "                                 (None, 128, 768),                                                \n",
            "                                 (None, 128, 768)],                                               \n",
            "                                 'pooled_output': (                                               \n",
            "                                None, 768)}                                                       \n",
            "                                                                                                  \n",
            " dense-1 (Dense)                (None, 512)          393728      ['keras_layer_1[0][13]']         \n",
            "                                                                                                  \n",
            " drop-1 (Dropout)               (None, 512)          0           ['dense-1[0][0]']                \n",
            "                                                                                                  \n",
            " dense-2 (Dense)                (None, 512)          262656      ['drop-1[0][0]']                 \n",
            "                                                                                                  \n",
            " drop-2 (Dropout)               (None, 512)          0           ['dense-2[0][0]']                \n",
            "                                                                                                  \n",
            " output (Dense)                 (None, 15)           7695        ['drop-2[0][0]']                 \n",
            "                                                                                                  \n",
            "==================================================================================================\n",
            "Total params: 110,146,320\n",
            "Trainable params: 664,079\n",
            "Non-trainable params: 109,482,241\n",
            "__________________________________________________________________________________________________\n"
          ]
        }
      ],
      "source": [
        "model.summary()"
      ]
    },
    {
      "cell_type": "code",
      "execution_count": null,
      "metadata": {
        "id": "M9prwcOx4hVw"
      },
      "outputs": [],
      "source": [
        "y_train.shape"
      ]
    },
    {
      "cell_type": "code",
      "execution_count": null,
      "metadata": {
        "id": "un3AlwcAbBgV"
      },
      "outputs": [],
      "source": [
        "from sklearn.model_selection import train_test_split"
      ]
    },
    {
      "cell_type": "code",
      "execution_count": null,
      "metadata": {
        "id": "1Xgi8PAuEmPe"
      },
      "outputs": [],
      "source": [
        "x_train, x_test, y_train, y_test = train_test_split( df2[\"TEXT\"], df2.drop( columns = [\"TEXT\"] ), test_size = 0.3)"
      ]
    },
    {
      "cell_type": "code",
      "execution_count": null,
      "metadata": {
        "colab": {
          "base_uri": "https://localhost:8080/",
          "height": 471
        },
        "id": "_P8o8BqMdyfI",
        "outputId": "87b364b8-6174-47bd-cc88-38fe6926d93c"
      },
      "outputs": [
        {
          "name": "stdout",
          "output_type": "stream",
          "text": [
            "Epoch 1/10\n",
            "478/478 [==============================] - 349s 717ms/step - loss: 0.9808 - accuracy: 0.7016 - precision: 0.8456 - recall: 0.5986 - mean_squared_error: 0.0247 - val_loss: 0.7329 - val_accuracy: 0.8168 - val_precision: 0.9285 - val_recall: 0.7123 - val_mean_squared_error: 0.0174\n",
            "Epoch 2/10\n",
            "366/478 [=====================>........] - ETA: 45s - loss: 1.0713 - accuracy: 0.6916 - precision: 0.8443 - recall: 0.5709 - mean_squared_error: 0.0273"
          ]
        },
        {
          "ename": "KeyboardInterrupt",
          "evalue": "ignored",
          "output_type": "error",
          "traceback": [
            "\u001b[0;31m---------------------------------------------------------------------------\u001b[0m",
            "\u001b[0;31mKeyboardInterrupt\u001b[0m                         Traceback (most recent call last)",
            "\u001b[0;32m<ipython-input-83-46b081e00254>\u001b[0m in \u001b[0;36m<cell line: 1>\u001b[0;34m()\u001b[0m\n\u001b[0;32m----> 1\u001b[0;31m history = model1.fit(\n\u001b[0m\u001b[1;32m      2\u001b[0m     \u001b[0mtf\u001b[0m\u001b[0;34m.\u001b[0m\u001b[0mconvert_to_tensor\u001b[0m\u001b[0;34m(\u001b[0m\u001b[0mX_train\u001b[0m\u001b[0;34m)\u001b[0m \u001b[0;34m,\u001b[0m\u001b[0;34m\u001b[0m\u001b[0;34m\u001b[0m\u001b[0m\n\u001b[1;32m      3\u001b[0m     \u001b[0mtf\u001b[0m\u001b[0;34m.\u001b[0m\u001b[0mconvert_to_tensor\u001b[0m\u001b[0;34m(\u001b[0m\u001b[0my_train\u001b[0m\u001b[0;34m)\u001b[0m \u001b[0;34m,\u001b[0m\u001b[0;34m\u001b[0m\u001b[0;34m\u001b[0m\u001b[0m\n\u001b[1;32m      4\u001b[0m     \u001b[0mepochs\u001b[0m\u001b[0;34m=\u001b[0m\u001b[0;36m10\u001b[0m\u001b[0;34m,\u001b[0m\u001b[0;34m\u001b[0m\u001b[0;34m\u001b[0m\u001b[0m\n\u001b[1;32m      5\u001b[0m     \u001b[0mvalidation_split\u001b[0m\u001b[0;34m=\u001b[0m\u001b[0;36m0.3\u001b[0m \u001b[0;31m#,\u001b[0m\u001b[0;34m\u001b[0m\u001b[0;34m\u001b[0m\u001b[0m\n",
            "\u001b[0;32m/usr/local/lib/python3.10/dist-packages/keras/utils/traceback_utils.py\u001b[0m in \u001b[0;36merror_handler\u001b[0;34m(*args, **kwargs)\u001b[0m\n\u001b[1;32m     63\u001b[0m         \u001b[0mfiltered_tb\u001b[0m \u001b[0;34m=\u001b[0m \u001b[0;32mNone\u001b[0m\u001b[0;34m\u001b[0m\u001b[0;34m\u001b[0m\u001b[0m\n\u001b[1;32m     64\u001b[0m         \u001b[0;32mtry\u001b[0m\u001b[0;34m:\u001b[0m\u001b[0;34m\u001b[0m\u001b[0;34m\u001b[0m\u001b[0m\n\u001b[0;32m---> 65\u001b[0;31m             \u001b[0;32mreturn\u001b[0m \u001b[0mfn\u001b[0m\u001b[0;34m(\u001b[0m\u001b[0;34m*\u001b[0m\u001b[0margs\u001b[0m\u001b[0;34m,\u001b[0m \u001b[0;34m**\u001b[0m\u001b[0mkwargs\u001b[0m\u001b[0;34m)\u001b[0m\u001b[0;34m\u001b[0m\u001b[0;34m\u001b[0m\u001b[0m\n\u001b[0m\u001b[1;32m     66\u001b[0m         \u001b[0;32mexcept\u001b[0m \u001b[0mException\u001b[0m \u001b[0;32mas\u001b[0m \u001b[0me\u001b[0m\u001b[0;34m:\u001b[0m\u001b[0;34m\u001b[0m\u001b[0;34m\u001b[0m\u001b[0m\n\u001b[1;32m     67\u001b[0m             \u001b[0mfiltered_tb\u001b[0m \u001b[0;34m=\u001b[0m \u001b[0m_process_traceback_frames\u001b[0m\u001b[0;34m(\u001b[0m\u001b[0me\u001b[0m\u001b[0;34m.\u001b[0m\u001b[0m__traceback__\u001b[0m\u001b[0;34m)\u001b[0m\u001b[0;34m\u001b[0m\u001b[0;34m\u001b[0m\u001b[0m\n",
            "\u001b[0;32m/usr/local/lib/python3.10/dist-packages/keras/engine/training.py\u001b[0m in \u001b[0;36mfit\u001b[0;34m(self, x, y, batch_size, epochs, verbose, callbacks, validation_split, validation_data, shuffle, class_weight, sample_weight, initial_epoch, steps_per_epoch, validation_steps, validation_batch_size, validation_freq, max_queue_size, workers, use_multiprocessing)\u001b[0m\n\u001b[1;32m   1683\u001b[0m                         ):\n\u001b[1;32m   1684\u001b[0m                             \u001b[0mcallbacks\u001b[0m\u001b[0;34m.\u001b[0m\u001b[0mon_train_batch_begin\u001b[0m\u001b[0;34m(\u001b[0m\u001b[0mstep\u001b[0m\u001b[0;34m)\u001b[0m\u001b[0;34m\u001b[0m\u001b[0;34m\u001b[0m\u001b[0m\n\u001b[0;32m-> 1685\u001b[0;31m                             \u001b[0mtmp_logs\u001b[0m \u001b[0;34m=\u001b[0m \u001b[0mself\u001b[0m\u001b[0;34m.\u001b[0m\u001b[0mtrain_function\u001b[0m\u001b[0;34m(\u001b[0m\u001b[0miterator\u001b[0m\u001b[0;34m)\u001b[0m\u001b[0;34m\u001b[0m\u001b[0;34m\u001b[0m\u001b[0m\n\u001b[0m\u001b[1;32m   1686\u001b[0m                             \u001b[0;32mif\u001b[0m \u001b[0mdata_handler\u001b[0m\u001b[0;34m.\u001b[0m\u001b[0mshould_sync\u001b[0m\u001b[0;34m:\u001b[0m\u001b[0;34m\u001b[0m\u001b[0;34m\u001b[0m\u001b[0m\n\u001b[1;32m   1687\u001b[0m                                 \u001b[0mcontext\u001b[0m\u001b[0;34m.\u001b[0m\u001b[0masync_wait\u001b[0m\u001b[0;34m(\u001b[0m\u001b[0;34m)\u001b[0m\u001b[0;34m\u001b[0m\u001b[0;34m\u001b[0m\u001b[0m\n",
            "\u001b[0;32m/usr/local/lib/python3.10/dist-packages/tensorflow/python/util/traceback_utils.py\u001b[0m in \u001b[0;36merror_handler\u001b[0;34m(*args, **kwargs)\u001b[0m\n\u001b[1;32m    148\u001b[0m     \u001b[0mfiltered_tb\u001b[0m \u001b[0;34m=\u001b[0m \u001b[0;32mNone\u001b[0m\u001b[0;34m\u001b[0m\u001b[0;34m\u001b[0m\u001b[0m\n\u001b[1;32m    149\u001b[0m     \u001b[0;32mtry\u001b[0m\u001b[0;34m:\u001b[0m\u001b[0;34m\u001b[0m\u001b[0;34m\u001b[0m\u001b[0m\n\u001b[0;32m--> 150\u001b[0;31m       \u001b[0;32mreturn\u001b[0m \u001b[0mfn\u001b[0m\u001b[0;34m(\u001b[0m\u001b[0;34m*\u001b[0m\u001b[0margs\u001b[0m\u001b[0;34m,\u001b[0m \u001b[0;34m**\u001b[0m\u001b[0mkwargs\u001b[0m\u001b[0;34m)\u001b[0m\u001b[0;34m\u001b[0m\u001b[0;34m\u001b[0m\u001b[0m\n\u001b[0m\u001b[1;32m    151\u001b[0m     \u001b[0;32mexcept\u001b[0m \u001b[0mException\u001b[0m \u001b[0;32mas\u001b[0m \u001b[0me\u001b[0m\u001b[0;34m:\u001b[0m\u001b[0;34m\u001b[0m\u001b[0;34m\u001b[0m\u001b[0m\n\u001b[1;32m    152\u001b[0m       \u001b[0mfiltered_tb\u001b[0m \u001b[0;34m=\u001b[0m \u001b[0m_process_traceback_frames\u001b[0m\u001b[0;34m(\u001b[0m\u001b[0me\u001b[0m\u001b[0;34m.\u001b[0m\u001b[0m__traceback__\u001b[0m\u001b[0;34m)\u001b[0m\u001b[0;34m\u001b[0m\u001b[0;34m\u001b[0m\u001b[0m\n",
            "\u001b[0;32m/usr/local/lib/python3.10/dist-packages/tensorflow/python/eager/polymorphic_function/polymorphic_function.py\u001b[0m in \u001b[0;36m__call__\u001b[0;34m(self, *args, **kwds)\u001b[0m\n\u001b[1;32m    892\u001b[0m \u001b[0;34m\u001b[0m\u001b[0m\n\u001b[1;32m    893\u001b[0m       \u001b[0;32mwith\u001b[0m \u001b[0mOptionalXlaContext\u001b[0m\u001b[0;34m(\u001b[0m\u001b[0mself\u001b[0m\u001b[0;34m.\u001b[0m\u001b[0m_jit_compile\u001b[0m\u001b[0;34m)\u001b[0m\u001b[0;34m:\u001b[0m\u001b[0;34m\u001b[0m\u001b[0;34m\u001b[0m\u001b[0m\n\u001b[0;32m--> 894\u001b[0;31m         \u001b[0mresult\u001b[0m \u001b[0;34m=\u001b[0m \u001b[0mself\u001b[0m\u001b[0;34m.\u001b[0m\u001b[0m_call\u001b[0m\u001b[0;34m(\u001b[0m\u001b[0;34m*\u001b[0m\u001b[0margs\u001b[0m\u001b[0;34m,\u001b[0m \u001b[0;34m**\u001b[0m\u001b[0mkwds\u001b[0m\u001b[0;34m)\u001b[0m\u001b[0;34m\u001b[0m\u001b[0;34m\u001b[0m\u001b[0m\n\u001b[0m\u001b[1;32m    895\u001b[0m \u001b[0;34m\u001b[0m\u001b[0m\n\u001b[1;32m    896\u001b[0m       \u001b[0mnew_tracing_count\u001b[0m \u001b[0;34m=\u001b[0m \u001b[0mself\u001b[0m\u001b[0;34m.\u001b[0m\u001b[0mexperimental_get_tracing_count\u001b[0m\u001b[0;34m(\u001b[0m\u001b[0;34m)\u001b[0m\u001b[0;34m\u001b[0m\u001b[0;34m\u001b[0m\u001b[0m\n",
            "\u001b[0;32m/usr/local/lib/python3.10/dist-packages/tensorflow/python/eager/polymorphic_function/polymorphic_function.py\u001b[0m in \u001b[0;36m_call\u001b[0;34m(self, *args, **kwds)\u001b[0m\n\u001b[1;32m    924\u001b[0m       \u001b[0;31m# In this case we have created variables on the first call, so we run the\u001b[0m\u001b[0;34m\u001b[0m\u001b[0;34m\u001b[0m\u001b[0m\n\u001b[1;32m    925\u001b[0m       \u001b[0;31m# defunned version which is guaranteed to never create variables.\u001b[0m\u001b[0;34m\u001b[0m\u001b[0;34m\u001b[0m\u001b[0m\n\u001b[0;32m--> 926\u001b[0;31m       \u001b[0;32mreturn\u001b[0m \u001b[0mself\u001b[0m\u001b[0;34m.\u001b[0m\u001b[0m_no_variable_creation_fn\u001b[0m\u001b[0;34m(\u001b[0m\u001b[0;34m*\u001b[0m\u001b[0margs\u001b[0m\u001b[0;34m,\u001b[0m \u001b[0;34m**\u001b[0m\u001b[0mkwds\u001b[0m\u001b[0;34m)\u001b[0m  \u001b[0;31m# pylint: disable=not-callable\u001b[0m\u001b[0;34m\u001b[0m\u001b[0;34m\u001b[0m\u001b[0m\n\u001b[0m\u001b[1;32m    927\u001b[0m     \u001b[0;32melif\u001b[0m \u001b[0mself\u001b[0m\u001b[0;34m.\u001b[0m\u001b[0m_variable_creation_fn\u001b[0m \u001b[0;32mis\u001b[0m \u001b[0;32mnot\u001b[0m \u001b[0;32mNone\u001b[0m\u001b[0;34m:\u001b[0m\u001b[0;34m\u001b[0m\u001b[0;34m\u001b[0m\u001b[0m\n\u001b[1;32m    928\u001b[0m       \u001b[0;31m# Release the lock early so that multiple threads can perform the call\u001b[0m\u001b[0;34m\u001b[0m\u001b[0;34m\u001b[0m\u001b[0m\n",
            "\u001b[0;32m/usr/local/lib/python3.10/dist-packages/tensorflow/python/eager/polymorphic_function/tracing_compiler.py\u001b[0m in \u001b[0;36m__call__\u001b[0;34m(self, *args, **kwargs)\u001b[0m\n\u001b[1;32m    141\u001b[0m       (concrete_function,\n\u001b[1;32m    142\u001b[0m        filtered_flat_args) = self._maybe_define_function(args, kwargs)\n\u001b[0;32m--> 143\u001b[0;31m     return concrete_function._call_flat(\n\u001b[0m\u001b[1;32m    144\u001b[0m         filtered_flat_args, captured_inputs=concrete_function.captured_inputs)  # pylint: disable=protected-access\n\u001b[1;32m    145\u001b[0m \u001b[0;34m\u001b[0m\u001b[0m\n",
            "\u001b[0;32m/usr/local/lib/python3.10/dist-packages/tensorflow/python/eager/polymorphic_function/monomorphic_function.py\u001b[0m in \u001b[0;36m_call_flat\u001b[0;34m(self, args, captured_inputs, cancellation_manager)\u001b[0m\n\u001b[1;32m   1755\u001b[0m         and executing_eagerly):\n\u001b[1;32m   1756\u001b[0m       \u001b[0;31m# No tape is watching; skip to running the function.\u001b[0m\u001b[0;34m\u001b[0m\u001b[0;34m\u001b[0m\u001b[0m\n\u001b[0;32m-> 1757\u001b[0;31m       return self._build_call_outputs(self._inference_function.call(\n\u001b[0m\u001b[1;32m   1758\u001b[0m           ctx, args, cancellation_manager=cancellation_manager))\n\u001b[1;32m   1759\u001b[0m     forward_backward = self._select_forward_and_backward_functions(\n",
            "\u001b[0;32m/usr/local/lib/python3.10/dist-packages/tensorflow/python/eager/polymorphic_function/monomorphic_function.py\u001b[0m in \u001b[0;36mcall\u001b[0;34m(self, ctx, args, cancellation_manager)\u001b[0m\n\u001b[1;32m    379\u001b[0m       \u001b[0;32mwith\u001b[0m \u001b[0m_InterpolateFunctionError\u001b[0m\u001b[0;34m(\u001b[0m\u001b[0mself\u001b[0m\u001b[0;34m)\u001b[0m\u001b[0;34m:\u001b[0m\u001b[0;34m\u001b[0m\u001b[0;34m\u001b[0m\u001b[0m\n\u001b[1;32m    380\u001b[0m         \u001b[0;32mif\u001b[0m \u001b[0mcancellation_manager\u001b[0m \u001b[0;32mis\u001b[0m \u001b[0;32mNone\u001b[0m\u001b[0;34m:\u001b[0m\u001b[0;34m\u001b[0m\u001b[0;34m\u001b[0m\u001b[0m\n\u001b[0;32m--> 381\u001b[0;31m           outputs = execute.execute(\n\u001b[0m\u001b[1;32m    382\u001b[0m               \u001b[0mstr\u001b[0m\u001b[0;34m(\u001b[0m\u001b[0mself\u001b[0m\u001b[0;34m.\u001b[0m\u001b[0msignature\u001b[0m\u001b[0;34m.\u001b[0m\u001b[0mname\u001b[0m\u001b[0;34m)\u001b[0m\u001b[0;34m,\u001b[0m\u001b[0;34m\u001b[0m\u001b[0;34m\u001b[0m\u001b[0m\n\u001b[1;32m    383\u001b[0m               \u001b[0mnum_outputs\u001b[0m\u001b[0;34m=\u001b[0m\u001b[0mself\u001b[0m\u001b[0;34m.\u001b[0m\u001b[0m_num_outputs\u001b[0m\u001b[0;34m,\u001b[0m\u001b[0;34m\u001b[0m\u001b[0;34m\u001b[0m\u001b[0m\n",
            "\u001b[0;32m/usr/local/lib/python3.10/dist-packages/tensorflow/python/eager/execute.py\u001b[0m in \u001b[0;36mquick_execute\u001b[0;34m(op_name, num_outputs, inputs, attrs, ctx, name)\u001b[0m\n\u001b[1;32m     50\u001b[0m   \u001b[0;32mtry\u001b[0m\u001b[0;34m:\u001b[0m\u001b[0;34m\u001b[0m\u001b[0;34m\u001b[0m\u001b[0m\n\u001b[1;32m     51\u001b[0m     \u001b[0mctx\u001b[0m\u001b[0;34m.\u001b[0m\u001b[0mensure_initialized\u001b[0m\u001b[0;34m(\u001b[0m\u001b[0;34m)\u001b[0m\u001b[0;34m\u001b[0m\u001b[0;34m\u001b[0m\u001b[0m\n\u001b[0;32m---> 52\u001b[0;31m     tensors = pywrap_tfe.TFE_Py_Execute(ctx._handle, device_name, op_name,\n\u001b[0m\u001b[1;32m     53\u001b[0m                                         inputs, attrs, num_outputs)\n\u001b[1;32m     54\u001b[0m   \u001b[0;32mexcept\u001b[0m \u001b[0mcore\u001b[0m\u001b[0;34m.\u001b[0m\u001b[0m_NotOkStatusException\u001b[0m \u001b[0;32mas\u001b[0m \u001b[0me\u001b[0m\u001b[0;34m:\u001b[0m\u001b[0;34m\u001b[0m\u001b[0;34m\u001b[0m\u001b[0m\n",
            "\u001b[0;31mKeyboardInterrupt\u001b[0m: "
          ]
        }
      ],
      "source": [
        "history = model1.fit(\n",
        "    tf.convert_to_tensor(X_train) ,\n",
        "    tf.convert_to_tensor(y_train) ,\n",
        "    epochs=10,\n",
        "    validation_split=0.3 #,\n",
        "    #validation_data = (X_val, y_val)\n",
        ")"
      ]
    },
    {
      "cell_type": "code",
      "execution_count": null,
      "metadata": {
        "id": "ww3SSKpRCIU8"
      },
      "outputs": [],
      "source": [
        "model.save_weights( \"/content/gdrive/MyDrive/MIMIC_weights/19052023/weights.h5\" )"
      ]
    },
    {
      "cell_type": "code",
      "execution_count": null,
      "metadata": {
        "id": "D6gBgl_MEH9l"
      },
      "outputs": [],
      "source": [
        "model1 = model"
      ]
    },
    {
      "cell_type": "code",
      "execution_count": null,
      "metadata": {
        "id": "Bs0FW2nQDPTb"
      },
      "outputs": [],
      "source": [
        "model1.compile(\n",
        "    optimizer='adam',\n",
        "    loss='categorical_crossentropy', #loss = 'mean_squared_error',# tf.keras.losses.MeanSquaredError(),\n",
        "    metrics=METRICS\n",
        ")"
      ]
    },
    {
      "cell_type": "code",
      "execution_count": null,
      "metadata": {
        "id": "mphnZhVODMFe"
      },
      "outputs": [],
      "source": [
        "model1.load_weights( \"/content/gdrive/MyDrive/MIMIC_weights/19052023/weights.h5\" )"
      ]
    },
    {
      "cell_type": "code",
      "execution_count": null,
      "metadata": {
        "colab": {
          "base_uri": "https://localhost:8080/"
        },
        "id": "nifmkTPznqXe",
        "outputId": "bb8c3402-a9ab-4c75-998d-5fc6c38394be"
      },
      "outputs": [
        {
          "name": "stdout",
          "output_type": "stream",
          "text": [
            "293/293 [==============================] - 120s 401ms/step\n"
          ]
        }
      ],
      "source": [
        "yhat = model1.predict( X_test )"
      ]
    },
    {
      "cell_type": "code",
      "execution_count": null,
      "metadata": {
        "colab": {
          "base_uri": "https://localhost:8080/"
        },
        "id": "_hQGNP0-tqZK",
        "outputId": "5b418e8f-e088-469b-8af2-2874e4ab25c1"
      },
      "outputs": [
        {
          "name": "stdout",
          "output_type": "stream",
          "text": [
            "Looking in indexes: https://pypi.org/simple, https://us-python.pkg.dev/colab-wheels/public/simple/\n",
            "Collecting sklearn\n",
            "  Downloading sklearn-0.0.post5.tar.gz (3.7 kB)\n",
            "  Preparing metadata (setup.py) ... \u001b[?25l\u001b[?25hdone\n",
            "Building wheels for collected packages: sklearn\n",
            "  Building wheel for sklearn (setup.py) ... \u001b[?25l\u001b[?25hdone\n",
            "  Created wheel for sklearn: filename=sklearn-0.0.post5-py3-none-any.whl size=2950 sha256=09441a82204d6a8f372e7be615f2aa0205fc2f8febdd61a55876c7102fdc18f6\n",
            "  Stored in directory: /root/.cache/pip/wheels/38/1f/8d/4f812c590e074c1e928f5cec67bf5053b71f38e2648739403a\n",
            "Successfully built sklearn\n",
            "Installing collected packages: sklearn\n",
            "Successfully installed sklearn-0.0.post5\n"
          ]
        }
      ],
      "source": [
        "!pip install sklearn"
      ]
    },
    {
      "cell_type": "code",
      "execution_count": null,
      "metadata": {
        "id": "YTm5-F-Ptd9i"
      },
      "outputs": [],
      "source": [
        "from sklearn.metrics import accuracy_score"
      ]
    },
    {
      "cell_type": "code",
      "execution_count": null,
      "metadata": {
        "colab": {
          "base_uri": "https://localhost:8080/"
        },
        "id": "uW0bH8HJtzLi",
        "outputId": "ffbe5a85-ef4a-4e45-8835-2b46a1b7d827"
      },
      "outputs": [
        {
          "data": {
            "text/plain": [
              "0.7576729761522831"
            ]
          },
          "execution_count": 105,
          "metadata": {},
          "output_type": "execute_result"
        }
      ],
      "source": [
        "accuracy_score(\n",
        "    np.argmax( np.array(y_test) , axis=1 ),\n",
        "    np.argmax( np.array(yhat), axis=1 )\n",
        ")"
      ]
    },
    {
      "cell_type": "code",
      "execution_count": null,
      "metadata": {
        "colab": {
          "base_uri": "https://localhost:8080/"
        },
        "id": "gIArzN9bt-p-",
        "outputId": "4a0dc64a-ba47-495e-d123-da7ce38c1b1a"
      },
      "outputs": [
        {
          "data": {
            "text/plain": [
              "(9351, 15)"
            ]
          },
          "execution_count": 102,
          "metadata": {},
          "output_type": "execute_result"
        }
      ],
      "source": [
        "y_test.shape"
      ]
    },
    {
      "cell_type": "code",
      "execution_count": null,
      "metadata": {
        "colab": {
          "base_uri": "https://localhost:8080/"
        },
        "id": "cjwc86ahuEhe",
        "outputId": "ec9caa2f-144a-498e-a2b1-d50eb40b9e7c"
      },
      "outputs": [
        {
          "data": {
            "text/plain": [
              "(9351, 15)"
            ]
          },
          "execution_count": 103,
          "metadata": {},
          "output_type": "execute_result"
        }
      ],
      "source": [
        "yhat.shape"
      ]
    },
    {
      "cell_type": "code",
      "execution_count": null,
      "metadata": {
        "colab": {
          "base_uri": "https://localhost:8080/"
        },
        "id": "PkhDEp4PFmpY",
        "outputId": "840cfb3c-bc46-4b6d-9548-4e3105f07757"
      },
      "outputs": [
        {
          "data": {
            "text/plain": [
              "dict"
            ]
          },
          "execution_count": 85,
          "metadata": {},
          "output_type": "execute_result"
        }
      ],
      "source": [
        "type(history.history)"
      ]
    },
    {
      "cell_type": "code",
      "execution_count": null,
      "metadata": {
        "id": "E-f8jbiVEkY9"
      },
      "outputs": [],
      "source": [
        "import json\n",
        "\n",
        "with open( \"/content/gdrive/MyDrive/MIMIC_weights/19052023/TST.json\", 'w' ) as jsonfile :\n",
        "\n",
        "  jsn = json.dumps( history.history, indent = 4 )\n",
        "  jsonfile.write( jsn )"
      ]
    },
    {
      "cell_type": "code",
      "execution_count": null,
      "metadata": {
        "colab": {
          "background_save": true
        },
        "id": "6wxWbmtEAVA8",
        "outputId": "ae81ef5d-904e-4727-eac6-e44d97739fd8"
      },
      "outputs": [
        {
          "data": {
            "text/plain": [
              "dict_keys(['loss', 'accuracy', 'precision', 'recall', 'mean_squared_error', 'val_loss', 'val_accuracy', 'val_precision', 'val_recall', 'val_mean_squared_error'])"
            ]
          },
          "execution_count": 75,
          "metadata": {},
          "output_type": "execute_result"
        }
      ],
      "source": [
        "history.history.keys()"
      ]
    },
    {
      "cell_type": "code",
      "execution_count": null,
      "metadata": {
        "colab": {
          "background_save": true
        },
        "id": "fcbtywqcDixE",
        "outputId": "98278408-a92d-4a68-f981-f0634a4cece7"
      },
      "outputs": [
        {
          "data": {
            "text/plain": [
              "(21817,)"
            ]
          },
          "execution_count": 76,
          "metadata": {},
          "output_type": "execute_result"
        }
      ],
      "source": [
        "X_train.shape"
      ]
    },
    {
      "cell_type": "code",
      "execution_count": null,
      "metadata": {
        "id": "V2L0qgCUehZ7"
      },
      "outputs": [],
      "source": [
        "history = {}"
      ]
    },
    {
      "cell_type": "code",
      "execution_count": null,
      "metadata": {
        "id": "lmw-G_P1edfd"
      },
      "outputs": [],
      "source": [
        "import json\n",
        "\n",
        "\n",
        "history = json.load( open(\"/content/gdrive/MyDrive/MIMIC_weights/19052023/TST.json\", \"r\") )"
      ]
    },
    {
      "cell_type": "code",
      "execution_count": null,
      "metadata": {
        "colab": {
          "base_uri": "https://localhost:8080/"
        },
        "id": "DgYwS9eUhRpq",
        "outputId": "3e42d650-e20e-48ee-c785-f16bca91e2fa"
      },
      "outputs": [
        {
          "data": {
            "text/plain": [
              "{'loss': [2.413938283920288,\n",
              "  1.3101613521575928,\n",
              "  1.221872329711914,\n",
              "  1.1381537914276123,\n",
              "  1.1407721042633057,\n",
              "  1.103739619255066,\n",
              "  1.1111626625061035,\n",
              "  1.0973941087722778,\n",
              "  1.0718134641647339,\n",
              "  1.029241919517517],\n",
              " 'accuracy': [0.5325781106948853,\n",
              "  0.6643965840339661,\n",
              "  0.6795887351036072,\n",
              "  0.6992338299751282,\n",
              "  0.6858751773834229,\n",
              "  0.6996267437934875,\n",
              "  0.6873813271522522,\n",
              "  0.6957632303237915,\n",
              "  0.7016567587852478,\n",
              "  0.7104970216751099],\n",
              " 'precision': [0.8390227556228638,\n",
              "  0.8478971719741821,\n",
              "  0.8476396799087524,\n",
              "  0.8531001210212708,\n",
              "  0.8541014790534973,\n",
              "  0.8580069541931152,\n",
              "  0.8525647521018982,\n",
              "  0.8551388382911682,\n",
              "  0.8497661352157593,\n",
              "  0.8538829684257507],\n",
              " 'recall': [0.3283347487449646,\n",
              "  0.5095933675765991,\n",
              "  0.5373584032058716,\n",
              "  0.5685285925865173,\n",
              "  0.5543186664581299,\n",
              "  0.5666295886039734,\n",
              "  0.5627005696296692,\n",
              "  0.574815034866333,\n",
              "  0.5830004811286926,\n",
              "  0.5954423546791077],\n",
              " 'mean_squared_error': [0.03892453387379646,\n",
              "  0.02968158945441246,\n",
              "  0.02841474674642086,\n",
              "  0.0270631555467844,\n",
              "  0.027460305020213127,\n",
              "  0.026754699647426605,\n",
              "  0.027262693271040916,\n",
              "  0.02684924378991127,\n",
              "  0.026563480496406555,\n",
              "  0.0258045457303524],\n",
              " 'val_loss': [1.3612875938415527,\n",
              "  1.0957928895950317,\n",
              "  1.0099986791610718,\n",
              "  0.9187617301940918,\n",
              "  0.9498948454856873,\n",
              "  0.8656730651855469,\n",
              "  0.9680392146110535,\n",
              "  0.9478482007980347,\n",
              "  0.8548967242240906,\n",
              "  0.810339629650116],\n",
              " 'val_accuracy': [0.6567369103431702,\n",
              "  0.7430492043495178,\n",
              "  0.7511457204818726,\n",
              "  0.7856706380844116,\n",
              "  0.7687137126922607,\n",
              "  0.775740921497345,\n",
              "  0.7425909042358398,\n",
              "  0.7409104704856873,\n",
              "  0.788573145866394,\n",
              "  0.7960586547851562],\n",
              " 'val_precision': [0.8495370149612427,\n",
              "  0.8714568018913269,\n",
              "  0.9099037051200867,\n",
              "  0.9244454503059387,\n",
              "  0.9362860918045044,\n",
              "  0.9189304709434509,\n",
              "  0.9136789441108704,\n",
              "  0.8413698077201843,\n",
              "  0.9348206520080566,\n",
              "  0.9082531929016113],\n",
              " 'val_recall': [0.504582941532135,\n",
              "  0.6058661937713623,\n",
              "  0.6063244938850403,\n",
              "  0.6429880857467651,\n",
              "  0.6038802266120911,\n",
              "  0.656278669834137,\n",
              "  0.611212968826294,\n",
              "  0.6530705690383911,\n",
              "  0.6529178023338318,\n",
              "  0.6926367282867432],\n",
              " 'val_mean_squared_error': [0.02993011102080345,\n",
              "  0.024610480293631554,\n",
              "  0.023026010021567345,\n",
              "  0.0209237989038229,\n",
              "  0.021910693496465683,\n",
              "  0.02010170742869377,\n",
              "  0.02288922481238842,\n",
              "  0.023522010073065758,\n",
              "  0.020371397957205772,\n",
              "  0.019362743943929672]}"
            ]
          },
          "execution_count": 108,
          "metadata": {},
          "output_type": "execute_result"
        }
      ],
      "source": [
        "history"
      ]
    },
    {
      "cell_type": "code",
      "execution_count": null,
      "metadata": {
        "id": "dZsmuyxjeHdf"
      },
      "outputs": [],
      "source": [
        "result1000= [\n",
        "\n",
        "    history['accuracy'],\n",
        "    history['val_accuracy'],\n",
        "    history['loss'],\n",
        "    history['val_loss']\n",
        "]"
      ]
    },
    {
      "cell_type": "code",
      "execution_count": null,
      "metadata": {
        "colab": {
          "base_uri": "https://localhost:8080/",
          "height": 449
        },
        "id": "wgzFUju06mEv",
        "outputId": "544a6886-0e31-4fef-f8bc-90b9fee857a3"
      },
      "outputs": [
        {
          "data": {
            "image/png": "[encoded data removed]",
            "text/plain": [
              "<Figure size 640x480 with 1 Axes>"
            ]
          },
          "metadata": {},
          "output_type": "display_data"
        }
      ],
      "source": [
        "import keras\n",
        "from matplotlib import pyplot as plt\n",
        "\n",
        "plt.plot(result1000[0],'g',linewidth=2)\n",
        "plt.plot(result1000[1],'g--',linewidth=2)\n",
        "plt.grid(True)\n",
        "# plt.title('model accuracy')\n",
        "plt.ylabel('Accuracy')\n",
        "plt.xlabel('Epochs')\n",
        "plt.legend(['Training acc for 2500 samples','Testing acc for 2500 samples'], loc='best')\n",
        "plt.savefig(\"acc for 10 epochs\",dpi=300)\n",
        "plt.show()"
      ]
    },
    {
      "cell_type": "code",
      "execution_count": null,
      "metadata": {
        "colab": {
          "base_uri": "https://localhost:8080/",
          "height": 449
        },
        "id": "1wnm4dUo9xaI",
        "outputId": "abd24c13-55a2-4f95-cbdf-c4a30877735c"
      },
      "outputs": [
        {
          "data": {
            "image/png": "[encoded data removed]",
            "text/plain": [
              "<Figure size 640x480 with 1 Axes>"
            ]
          },
          "metadata": {},
          "output_type": "display_data"
        }
      ],
      "source": [
        "import keras\n",
        "from matplotlib import pyplot as plt\n",
        "\n",
        "plt.plot(result1000[2],'b',linewidth=2)\n",
        "plt.plot(result1000[3],'b--',linewidth=2)\n",
        "# plt.title('model accuracy')\n",
        "plt.ylabel('Loss')\n",
        "plt.xlabel('Epochs')\n",
        "plt.legend(['loss 2500 samples','Testloss 2500 samples'], loc='best')\n",
        "#plt.legend(['loss 350 samples','loss 1000 samples','loss 2000 samples'], loc='best')\n",
        "plt.savefig(\"loss for 10 epochs\",dpi=300)\n",
        "plt.show()"
      ]
    },
    {
      "cell_type": "code",
      "execution_count": null,
      "metadata": {
        "id": "fgtrYPndOuxT"
      },
      "outputs": [],
      "source": [
        "from tensorflow.keras.models import Model"
      ]
    },
    {
      "cell_type": "code",
      "execution_count": null,
      "metadata": {
        "colab": {
          "base_uri": "https://localhost:8080/"
        },
        "id": "9KDKY9nGI0b2",
        "outputId": "dc56f08e-71b7-423e-ab60-260b643c9d0c"
      },
      "outputs": [
        {
          "name": "stdout",
          "output_type": "stream",
          "text": [
            "Model: \"model\"\n",
            "__________________________________________________________________________________________________\n",
            " Layer (type)                   Output Shape         Param #     Connected to                     \n",
            "==================================================================================================\n",
            " text (InputLayer)              [(None,)]            0           []                               \n",
            "                                                                                                  \n",
            " keras_layer (KerasLayer)       {'input_type_ids':   0           ['text[0][0]']                   \n",
            "                                (None, 128),                                                      \n",
            "                                 'input_mask': (Non                                               \n",
            "                                e, 128),                                                          \n",
            "                                 'input_word_ids':                                                \n",
            "                                (None, 128)}                                                      \n",
            "                                                                                                  \n",
            " keras_layer_1 (KerasLayer)     {'sequence_output':  109482241   ['keras_layer[0][0]',            \n",
            "                                 (None, 128, 768),                'keras_layer[0][1]',            \n",
            "                                 'default': (None,                'keras_layer[0][2]']            \n",
            "                                768),                                                             \n",
            "                                 'encoder_outputs':                                               \n",
            "                                 [(None, 128, 768),                                               \n",
            "                                 (None, 128, 768),                                                \n",
            "                                 (None, 128, 768),                                                \n",
            "                                 (None, 128, 768),                                                \n",
            "                                 (None, 128, 768),                                                \n",
            "                                 (None, 128, 768),                                                \n",
            "                                 (None, 128, 768),                                                \n",
            "                                 (None, 128, 768),                                                \n",
            "                                 (None, 128, 768),                                                \n",
            "                                 (None, 128, 768),                                                \n",
            "                                 (None, 128, 768),                                                \n",
            "                                 (None, 128, 768)],                                               \n",
            "                                 'pooled_output': (                                               \n",
            "                                None, 768)}                                                       \n",
            "                                                                                                  \n",
            " dense-1 (Dense)                (None, 512)          393728      ['keras_layer_1[0][13]']         \n",
            "                                                                                                  \n",
            " drop-1 (Dropout)               (None, 512)          0           ['dense-1[0][0]']                \n",
            "                                                                                                  \n",
            " dense-2 (Dense)                (None, 512)          262656      ['drop-1[0][0]']                 \n",
            "                                                                                                  \n",
            " drop-2 (Dropout)               (None, 512)          0           ['dense-2[0][0]']                \n",
            "                                                                                                  \n",
            " output (Dense)                 (None, 15)           7695        ['drop-2[0][0]']                 \n",
            "                                                                                                  \n",
            "==================================================================================================\n",
            "Total params: 110,146,320\n",
            "Trainable params: 664,079\n",
            "Non-trainable params: 109,482,241\n",
            "__________________________________________________________________________________________________\n"
          ]
        }
      ],
      "source": [
        "model1.summary()"
      ]
    },
    {
      "cell_type": "code",
      "execution_count": null,
      "metadata": {
        "colab": {
          "base_uri": "https://localhost:8080/"
        },
        "id": "DsqFReZWSVeT",
        "outputId": "71fe3aa5-566f-486f-83bd-77ae616958ec"
      },
      "outputs": [
        {
          "data": {
            "text/plain": [
              "[<keras.engine.input_layer.InputLayer at 0x7f158c191150>,\n",
              " <tensorflow_hub.keras_layer.KerasLayer at 0x7f158d766980>,\n",
              " <tensorflow_hub.keras_layer.KerasLayer at 0x7f158c192140>,\n",
              " <keras.layers.core.dense.Dense at 0x7f157888fee0>,\n",
              " <keras.layers.regularization.dropout.Dropout at 0x7f15891d43d0>,\n",
              " <keras.layers.core.dense.Dense at 0x7f15888ed630>,\n",
              " <keras.layers.regularization.dropout.Dropout at 0x7f15888ed930>,\n",
              " <keras.layers.core.dense.Dense at 0x7f15888ed360>]"
            ]
          },
          "execution_count": 28,
          "metadata": {},
          "output_type": "execute_result"
        }
      ],
      "source": [
        "model1.layers"
      ]
    },
    {
      "cell_type": "code",
      "execution_count": null,
      "metadata": {
        "id": "D1Fckya9W_pP"
      },
      "outputs": [],
      "source": [
        "model_feat = Model(inputs=model1.input,outputs=model1.get_layer(\"dense-2\").output)"
      ]
    },
    {
      "cell_type": "code",
      "execution_count": null,
      "metadata": {
        "colab": {
          "base_uri": "https://localhost:8080/"
        },
        "id": "Xeu9LyXaXF3O",
        "outputId": "5c5e4391-87a9-4662-d807-d12f7f002f19"
      },
      "outputs": [
        {
          "data": {
            "text/plain": [
              "<keras.engine.functional.Functional at 0x7f15884479a0>"
            ]
          },
          "execution_count": 30,
          "metadata": {},
          "output_type": "execute_result"
        }
      ],
      "source": [
        "model_feat"
      ]
    },
    {
      "cell_type": "code",
      "execution_count": null,
      "metadata": {
        "colab": {
          "background_save": true,
          "base_uri": "https://localhost:8080/"
        },
        "id": "xFnXtTCGYJwH",
        "outputId": "6d75d5e1-a8fc-47a6-cd3a-39868870ed49"
      },
      "outputs": [
        {
          "name": "stdout",
          "output_type": "stream",
          "text": [
            "  2/682 [..............................] - ETA: 2:46:02"
          ]
        },
        {
          "ename": "KeyboardInterrupt",
          "evalue": "ignored",
          "output_type": "error",
          "traceback": [
            "\u001b[0;31m---------------------------------------------------------------------------\u001b[0m",
            "\u001b[0;31mKeyboardInterrupt\u001b[0m                         Traceback (most recent call last)",
            "\u001b[0;32m<ipython-input-32-4b400fa0c0f8>\u001b[0m in \u001b[0;36m<cell line: 1>\u001b[0;34m()\u001b[0m\n\u001b[0;32m----> 1\u001b[0;31m \u001b[0mfeat_train\u001b[0m \u001b[0;34m=\u001b[0m \u001b[0mmodel_feat\u001b[0m\u001b[0;34m.\u001b[0m\u001b[0mpredict\u001b[0m\u001b[0;34m(\u001b[0m\u001b[0mx_train\u001b[0m\u001b[0;34m)\u001b[0m\u001b[0;34m\u001b[0m\u001b[0;34m\u001b[0m\u001b[0m\n\u001b[0m\u001b[1;32m      2\u001b[0m \u001b[0mfeat_test\u001b[0m \u001b[0;34m=\u001b[0m \u001b[0mmodel_feat\u001b[0m\u001b[0;34m.\u001b[0m\u001b[0mpredict\u001b[0m\u001b[0;34m(\u001b[0m\u001b[0mx_test\u001b[0m\u001b[0;34m)\u001b[0m\u001b[0;34m\u001b[0m\u001b[0;34m\u001b[0m\u001b[0m\n\u001b[1;32m      3\u001b[0m \u001b[0mprint\u001b[0m\u001b[0;34m(\u001b[0m\u001b[0mfeat_train\u001b[0m\u001b[0;34m.\u001b[0m\u001b[0mshape\u001b[0m\u001b[0;34m)\u001b[0m\u001b[0;34m\u001b[0m\u001b[0;34m\u001b[0m\u001b[0m\n",
            "\u001b[0;32m/usr/local/lib/python3.10/dist-packages/keras/utils/traceback_utils.py\u001b[0m in \u001b[0;36merror_handler\u001b[0;34m(*args, **kwargs)\u001b[0m\n\u001b[1;32m     63\u001b[0m         \u001b[0mfiltered_tb\u001b[0m \u001b[0;34m=\u001b[0m \u001b[0;32mNone\u001b[0m\u001b[0;34m\u001b[0m\u001b[0;34m\u001b[0m\u001b[0m\n\u001b[1;32m     64\u001b[0m         \u001b[0;32mtry\u001b[0m\u001b[0;34m:\u001b[0m\u001b[0;34m\u001b[0m\u001b[0;34m\u001b[0m\u001b[0m\n\u001b[0;32m---> 65\u001b[0;31m             \u001b[0;32mreturn\u001b[0m \u001b[0mfn\u001b[0m\u001b[0;34m(\u001b[0m\u001b[0;34m*\u001b[0m\u001b[0margs\u001b[0m\u001b[0;34m,\u001b[0m \u001b[0;34m**\u001b[0m\u001b[0mkwargs\u001b[0m\u001b[0;34m)\u001b[0m\u001b[0;34m\u001b[0m\u001b[0;34m\u001b[0m\u001b[0m\n\u001b[0m\u001b[1;32m     66\u001b[0m         \u001b[0;32mexcept\u001b[0m \u001b[0mException\u001b[0m \u001b[0;32mas\u001b[0m \u001b[0me\u001b[0m\u001b[0;34m:\u001b[0m\u001b[0;34m\u001b[0m\u001b[0;34m\u001b[0m\u001b[0m\n\u001b[1;32m     67\u001b[0m             \u001b[0mfiltered_tb\u001b[0m \u001b[0;34m=\u001b[0m \u001b[0m_process_traceback_frames\u001b[0m\u001b[0;34m(\u001b[0m\u001b[0me\u001b[0m\u001b[0;34m.\u001b[0m\u001b[0m__traceback__\u001b[0m\u001b[0;34m)\u001b[0m\u001b[0;34m\u001b[0m\u001b[0;34m\u001b[0m\u001b[0m\n",
            "\u001b[0;32m/usr/local/lib/python3.10/dist-packages/keras/engine/training.py\u001b[0m in \u001b[0;36mpredict\u001b[0;34m(self, x, batch_size, verbose, steps, callbacks, max_queue_size, workers, use_multiprocessing)\u001b[0m\n\u001b[1;32m   2380\u001b[0m                     \u001b[0;32mfor\u001b[0m \u001b[0mstep\u001b[0m \u001b[0;32min\u001b[0m \u001b[0mdata_handler\u001b[0m\u001b[0;34m.\u001b[0m\u001b[0msteps\u001b[0m\u001b[0;34m(\u001b[0m\u001b[0;34m)\u001b[0m\u001b[0;34m:\u001b[0m\u001b[0;34m\u001b[0m\u001b[0;34m\u001b[0m\u001b[0m\n\u001b[1;32m   2381\u001b[0m                         \u001b[0mcallbacks\u001b[0m\u001b[0;34m.\u001b[0m\u001b[0mon_predict_batch_begin\u001b[0m\u001b[0;34m(\u001b[0m\u001b[0mstep\u001b[0m\u001b[0;34m)\u001b[0m\u001b[0;34m\u001b[0m\u001b[0;34m\u001b[0m\u001b[0m\n\u001b[0;32m-> 2382\u001b[0;31m                         \u001b[0mtmp_batch_outputs\u001b[0m \u001b[0;34m=\u001b[0m \u001b[0mself\u001b[0m\u001b[0;34m.\u001b[0m\u001b[0mpredict_function\u001b[0m\u001b[0;34m(\u001b[0m\u001b[0miterator\u001b[0m\u001b[0;34m)\u001b[0m\u001b[0;34m\u001b[0m\u001b[0;34m\u001b[0m\u001b[0m\n\u001b[0m\u001b[1;32m   2383\u001b[0m                         \u001b[0;32mif\u001b[0m \u001b[0mdata_handler\u001b[0m\u001b[0;34m.\u001b[0m\u001b[0mshould_sync\u001b[0m\u001b[0;34m:\u001b[0m\u001b[0;34m\u001b[0m\u001b[0;34m\u001b[0m\u001b[0m\n\u001b[1;32m   2384\u001b[0m                             \u001b[0mcontext\u001b[0m\u001b[0;34m.\u001b[0m\u001b[0masync_wait\u001b[0m\u001b[0;34m(\u001b[0m\u001b[0;34m)\u001b[0m\u001b[0;34m\u001b[0m\u001b[0;34m\u001b[0m\u001b[0m\n",
            "\u001b[0;32m/usr/local/lib/python3.10/dist-packages/tensorflow/python/util/traceback_utils.py\u001b[0m in \u001b[0;36merror_handler\u001b[0;34m(*args, **kwargs)\u001b[0m\n\u001b[1;32m    148\u001b[0m     \u001b[0mfiltered_tb\u001b[0m \u001b[0;34m=\u001b[0m \u001b[0;32mNone\u001b[0m\u001b[0;34m\u001b[0m\u001b[0;34m\u001b[0m\u001b[0m\n\u001b[1;32m    149\u001b[0m     \u001b[0;32mtry\u001b[0m\u001b[0;34m:\u001b[0m\u001b[0;34m\u001b[0m\u001b[0;34m\u001b[0m\u001b[0m\n\u001b[0;32m--> 150\u001b[0;31m       \u001b[0;32mreturn\u001b[0m \u001b[0mfn\u001b[0m\u001b[0;34m(\u001b[0m\u001b[0;34m*\u001b[0m\u001b[0margs\u001b[0m\u001b[0;34m,\u001b[0m \u001b[0;34m**\u001b[0m\u001b[0mkwargs\u001b[0m\u001b[0;34m)\u001b[0m\u001b[0;34m\u001b[0m\u001b[0;34m\u001b[0m\u001b[0m\n\u001b[0m\u001b[1;32m    151\u001b[0m     \u001b[0;32mexcept\u001b[0m \u001b[0mException\u001b[0m \u001b[0;32mas\u001b[0m \u001b[0me\u001b[0m\u001b[0;34m:\u001b[0m\u001b[0;34m\u001b[0m\u001b[0;34m\u001b[0m\u001b[0m\n\u001b[1;32m    152\u001b[0m       \u001b[0mfiltered_tb\u001b[0m \u001b[0;34m=\u001b[0m \u001b[0m_process_traceback_frames\u001b[0m\u001b[0;34m(\u001b[0m\u001b[0me\u001b[0m\u001b[0;34m.\u001b[0m\u001b[0m__traceback__\u001b[0m\u001b[0;34m)\u001b[0m\u001b[0;34m\u001b[0m\u001b[0;34m\u001b[0m\u001b[0m\n",
            "\u001b[0;32m/usr/local/lib/python3.10/dist-packages/tensorflow/python/eager/polymorphic_function/polymorphic_function.py\u001b[0m in \u001b[0;36m__call__\u001b[0;34m(self, *args, **kwds)\u001b[0m\n\u001b[1;32m    892\u001b[0m \u001b[0;34m\u001b[0m\u001b[0m\n\u001b[1;32m    893\u001b[0m       \u001b[0;32mwith\u001b[0m \u001b[0mOptionalXlaContext\u001b[0m\u001b[0;34m(\u001b[0m\u001b[0mself\u001b[0m\u001b[0;34m.\u001b[0m\u001b[0m_jit_compile\u001b[0m\u001b[0;34m)\u001b[0m\u001b[0;34m:\u001b[0m\u001b[0;34m\u001b[0m\u001b[0;34m\u001b[0m\u001b[0m\n\u001b[0;32m--> 894\u001b[0;31m         \u001b[0mresult\u001b[0m \u001b[0;34m=\u001b[0m \u001b[0mself\u001b[0m\u001b[0;34m.\u001b[0m\u001b[0m_call\u001b[0m\u001b[0;34m(\u001b[0m\u001b[0;34m*\u001b[0m\u001b[0margs\u001b[0m\u001b[0;34m,\u001b[0m \u001b[0;34m**\u001b[0m\u001b[0mkwds\u001b[0m\u001b[0;34m)\u001b[0m\u001b[0;34m\u001b[0m\u001b[0;34m\u001b[0m\u001b[0m\n\u001b[0m\u001b[1;32m    895\u001b[0m \u001b[0;34m\u001b[0m\u001b[0m\n\u001b[1;32m    896\u001b[0m       \u001b[0mnew_tracing_count\u001b[0m \u001b[0;34m=\u001b[0m \u001b[0mself\u001b[0m\u001b[0;34m.\u001b[0m\u001b[0mexperimental_get_tracing_count\u001b[0m\u001b[0;34m(\u001b[0m\u001b[0;34m)\u001b[0m\u001b[0;34m\u001b[0m\u001b[0;34m\u001b[0m\u001b[0m\n",
            "\u001b[0;32m/usr/local/lib/python3.10/dist-packages/tensorflow/python/eager/polymorphic_function/polymorphic_function.py\u001b[0m in \u001b[0;36m_call\u001b[0;34m(self, *args, **kwds)\u001b[0m\n\u001b[1;32m    931\u001b[0m       \u001b[0;31m# In this case we have not created variables on the first call. So we can\u001b[0m\u001b[0;34m\u001b[0m\u001b[0;34m\u001b[0m\u001b[0m\n\u001b[1;32m    932\u001b[0m       \u001b[0;31m# run the first trace but we should fail if variables are created.\u001b[0m\u001b[0;34m\u001b[0m\u001b[0;34m\u001b[0m\u001b[0m\n\u001b[0;32m--> 933\u001b[0;31m       \u001b[0mresults\u001b[0m \u001b[0;34m=\u001b[0m \u001b[0mself\u001b[0m\u001b[0;34m.\u001b[0m\u001b[0m_variable_creation_fn\u001b[0m\u001b[0;34m(\u001b[0m\u001b[0;34m*\u001b[0m\u001b[0margs\u001b[0m\u001b[0;34m,\u001b[0m \u001b[0;34m**\u001b[0m\u001b[0mkwds\u001b[0m\u001b[0;34m)\u001b[0m\u001b[0;34m\u001b[0m\u001b[0;34m\u001b[0m\u001b[0m\n\u001b[0m\u001b[1;32m    934\u001b[0m       \u001b[0;32mif\u001b[0m \u001b[0mself\u001b[0m\u001b[0;34m.\u001b[0m\u001b[0m_created_variables\u001b[0m \u001b[0;32mand\u001b[0m \u001b[0;32mnot\u001b[0m \u001b[0mALLOW_DYNAMIC_VARIABLE_CREATION\u001b[0m\u001b[0;34m:\u001b[0m\u001b[0;34m\u001b[0m\u001b[0;34m\u001b[0m\u001b[0m\n\u001b[1;32m    935\u001b[0m         raise ValueError(\"Creating variables on a non-first call to a function\"\n",
            "\u001b[0;32m/usr/local/lib/python3.10/dist-packages/tensorflow/python/eager/polymorphic_function/tracing_compiler.py\u001b[0m in \u001b[0;36m__call__\u001b[0;34m(self, *args, **kwargs)\u001b[0m\n\u001b[1;32m    141\u001b[0m       (concrete_function,\n\u001b[1;32m    142\u001b[0m        filtered_flat_args) = self._maybe_define_function(args, kwargs)\n\u001b[0;32m--> 143\u001b[0;31m     return concrete_function._call_flat(\n\u001b[0m\u001b[1;32m    144\u001b[0m         filtered_flat_args, captured_inputs=concrete_function.captured_inputs)  # pylint: disable=protected-access\n\u001b[1;32m    145\u001b[0m \u001b[0;34m\u001b[0m\u001b[0m\n",
            "\u001b[0;32m/usr/local/lib/python3.10/dist-packages/tensorflow/python/eager/polymorphic_function/monomorphic_function.py\u001b[0m in \u001b[0;36m_call_flat\u001b[0;34m(self, args, captured_inputs, cancellation_manager)\u001b[0m\n\u001b[1;32m   1755\u001b[0m         and executing_eagerly):\n\u001b[1;32m   1756\u001b[0m       \u001b[0;31m# No tape is watching; skip to running the function.\u001b[0m\u001b[0;34m\u001b[0m\u001b[0;34m\u001b[0m\u001b[0m\n\u001b[0;32m-> 1757\u001b[0;31m       return self._build_call_outputs(self._inference_function.call(\n\u001b[0m\u001b[1;32m   1758\u001b[0m           ctx, args, cancellation_manager=cancellation_manager))\n\u001b[1;32m   1759\u001b[0m     forward_backward = self._select_forward_and_backward_functions(\n",
            "\u001b[0;32m/usr/local/lib/python3.10/dist-packages/tensorflow/python/eager/polymorphic_function/monomorphic_function.py\u001b[0m in \u001b[0;36mcall\u001b[0;34m(self, ctx, args, cancellation_manager)\u001b[0m\n\u001b[1;32m    379\u001b[0m       \u001b[0;32mwith\u001b[0m \u001b[0m_InterpolateFunctionError\u001b[0m\u001b[0;34m(\u001b[0m\u001b[0mself\u001b[0m\u001b[0;34m)\u001b[0m\u001b[0;34m:\u001b[0m\u001b[0;34m\u001b[0m\u001b[0;34m\u001b[0m\u001b[0m\n\u001b[1;32m    380\u001b[0m         \u001b[0;32mif\u001b[0m \u001b[0mcancellation_manager\u001b[0m \u001b[0;32mis\u001b[0m \u001b[0;32mNone\u001b[0m\u001b[0;34m:\u001b[0m\u001b[0;34m\u001b[0m\u001b[0;34m\u001b[0m\u001b[0m\n\u001b[0;32m--> 381\u001b[0;31m           outputs = execute.execute(\n\u001b[0m\u001b[1;32m    382\u001b[0m               \u001b[0mstr\u001b[0m\u001b[0;34m(\u001b[0m\u001b[0mself\u001b[0m\u001b[0;34m.\u001b[0m\u001b[0msignature\u001b[0m\u001b[0;34m.\u001b[0m\u001b[0mname\u001b[0m\u001b[0;34m)\u001b[0m\u001b[0;34m,\u001b[0m\u001b[0;34m\u001b[0m\u001b[0;34m\u001b[0m\u001b[0m\n\u001b[1;32m    383\u001b[0m               \u001b[0mnum_outputs\u001b[0m\u001b[0;34m=\u001b[0m\u001b[0mself\u001b[0m\u001b[0;34m.\u001b[0m\u001b[0m_num_outputs\u001b[0m\u001b[0;34m,\u001b[0m\u001b[0;34m\u001b[0m\u001b[0;34m\u001b[0m\u001b[0m\n",
            "\u001b[0;32m/usr/local/lib/python3.10/dist-packages/tensorflow/python/eager/execute.py\u001b[0m in \u001b[0;36mquick_execute\u001b[0;34m(op_name, num_outputs, inputs, attrs, ctx, name)\u001b[0m\n\u001b[1;32m     50\u001b[0m   \u001b[0;32mtry\u001b[0m\u001b[0;34m:\u001b[0m\u001b[0;34m\u001b[0m\u001b[0;34m\u001b[0m\u001b[0m\n\u001b[1;32m     51\u001b[0m     \u001b[0mctx\u001b[0m\u001b[0;34m.\u001b[0m\u001b[0mensure_initialized\u001b[0m\u001b[0;34m(\u001b[0m\u001b[0;34m)\u001b[0m\u001b[0;34m\u001b[0m\u001b[0;34m\u001b[0m\u001b[0m\n\u001b[0;32m---> 52\u001b[0;31m     tensors = pywrap_tfe.TFE_Py_Execute(ctx._handle, device_name, op_name,\n\u001b[0m\u001b[1;32m     53\u001b[0m                                         inputs, attrs, num_outputs)\n\u001b[1;32m     54\u001b[0m   \u001b[0;32mexcept\u001b[0m \u001b[0mcore\u001b[0m\u001b[0;34m.\u001b[0m\u001b[0m_NotOkStatusException\u001b[0m \u001b[0;32mas\u001b[0m \u001b[0me\u001b[0m\u001b[0;34m:\u001b[0m\u001b[0;34m\u001b[0m\u001b[0;34m\u001b[0m\u001b[0m\n",
            "\u001b[0;31mKeyboardInterrupt\u001b[0m: "
          ]
        }
      ],
      "source": [
        "feat_train = model_feat.predict(x_train)\n",
        "feat_test = model_feat.predict(x_test)\n",
        "print(feat_train.shape)"
      ]
    },
    {
      "cell_type": "code",
      "execution_count": null,
      "metadata": {
        "colab": {
          "base_uri": "https://localhost:8080/"
        },
        "id": "WpsG1pckDzjk",
        "outputId": "bb256f12-71d6-4600-cd05-19f898e78e52"
      },
      "outputs": [
        {
          "data": {
            "text/plain": [
              "(9351, 512)"
            ]
          },
          "execution_count": 119,
          "metadata": {},
          "output_type": "execute_result"
        }
      ],
      "source": [
        "feat_test.shape"
      ]
    },
    {
      "cell_type": "code",
      "execution_count": null,
      "metadata": {
        "colab": {
          "base_uri": "https://localhost:8080/"
        },
        "id": "5G_fB_U1aarh",
        "outputId": "c7881a93-1f50-43e7-cf22-e1412318b673"
      },
      "outputs": [
        {
          "data": {
            "text/plain": [
              "(21817, 15)"
            ]
          },
          "execution_count": 120,
          "metadata": {},
          "output_type": "execute_result"
        }
      ],
      "source": [
        "y_train.shape"
      ]
    },
    {
      "cell_type": "code",
      "execution_count": null,
      "metadata": {
        "colab": {
          "base_uri": "https://localhost:8080/"
        },
        "id": "dhjcNU20alSi",
        "outputId": "e48336b3-e80a-4d9f-c3f6-dd2c6d2bfed0"
      },
      "outputs": [
        {
          "data": {
            "text/plain": [
              "(9351, 15)"
            ]
          },
          "execution_count": 121,
          "metadata": {},
          "output_type": "execute_result"
        }
      ],
      "source": [
        "y_test.shape"
      ]
    },
    {
      "cell_type": "code",
      "execution_count": null,
      "metadata": {
        "id": "RHCkxOdvYVDk"
      },
      "outputs": [],
      "source": [
        "from sklearn.svm import SVC"
      ]
    },
    {
      "cell_type": "code",
      "execution_count": null,
      "metadata": {
        "id": "HexngAtPZHE3"
      },
      "outputs": [],
      "source": [
        "import time"
      ]
    },
    {
      "cell_type": "code",
      "execution_count": null,
      "metadata": {
        "id": "xuny0tixEaPQ"
      },
      "outputs": [],
      "source": [
        "import numpy as np\n",
        "from sklearn import svm\n",
        "from sklearn.model_selection import train_test_split\n",
        "from sklearn.metrics import accuracy_score"
      ]
    },
    {
      "cell_type": "code",
      "execution_count": null,
      "metadata": {
        "colab": {
          "base_uri": "https://localhost:8080/"
        },
        "id": "TYjrarFNM1YP",
        "outputId": "b78e2b57-cc33-4f28-d133-4e7681ddc50c"
      },
      "outputs": [
        {
          "data": {
            "text/plain": [
              "(21817, 15)"
            ]
          },
          "execution_count": 155,
          "metadata": {},
          "output_type": "execute_result"
        }
      ],
      "source": [
        "y_train.shape"
      ]
    },
    {
      "cell_type": "code",
      "execution_count": null,
      "metadata": {
        "colab": {
          "base_uri": "https://localhost:8080/",
          "height": 206
        },
        "id": "E5WOwA_IRpG6",
        "outputId": "6aa659bf-9f16-4eb8-d2d2-877e9d844e43"
      },
      "outputs": [
        {
          "data": {
            "text/html": [
              "<div>\n",
              "<style scoped>\n",
              "    .dataframe tbody tr th:only-of-type {\n",
              "        vertical-align: middle;\n",
              "    }\n",
              "\n",
              "    .dataframe tbody tr th {\n",
              "        vertical-align: top;\n",
              "    }\n",
              "\n",
              "    .dataframe thead th {\n",
              "        text-align: right;\n",
              "    }\n",
              "</style>\n",
              "<table border=\"1\" class=\"dataframe\">\n",
              "  <thead>\n",
              "    <tr style=\"text-align: right;\">\n",
              "      <th></th>\n",
              "      <th>0.0</th>\n",
              "      <th>1.0</th>\n",
              "      <th>2.0</th>\n",
              "      <th>3.0</th>\n",
              "      <th>4.0</th>\n",
              "      <th>5.0</th>\n",
              "      <th>6.0</th>\n",
              "      <th>7.0</th>\n",
              "      <th>8.0</th>\n",
              "      <th>9.0</th>\n",
              "      <th>10.0</th>\n",
              "      <th>11.0</th>\n",
              "      <th>12.0</th>\n",
              "      <th>13.0</th>\n",
              "      <th>14.0</th>\n",
              "    </tr>\n",
              "  </thead>\n",
              "  <tbody>\n",
              "    <tr>\n",
              "      <th>20475</th>\n",
              "      <td>0</td>\n",
              "      <td>0</td>\n",
              "      <td>0</td>\n",
              "      <td>0</td>\n",
              "      <td>0</td>\n",
              "      <td>0</td>\n",
              "      <td>0</td>\n",
              "      <td>0</td>\n",
              "      <td>1</td>\n",
              "      <td>0</td>\n",
              "      <td>0</td>\n",
              "      <td>0</td>\n",
              "      <td>0</td>\n",
              "      <td>0</td>\n",
              "      <td>0</td>\n",
              "    </tr>\n",
              "    <tr>\n",
              "      <th>1194</th>\n",
              "      <td>1</td>\n",
              "      <td>0</td>\n",
              "      <td>0</td>\n",
              "      <td>0</td>\n",
              "      <td>0</td>\n",
              "      <td>0</td>\n",
              "      <td>0</td>\n",
              "      <td>0</td>\n",
              "      <td>0</td>\n",
              "      <td>0</td>\n",
              "      <td>0</td>\n",
              "      <td>0</td>\n",
              "      <td>0</td>\n",
              "      <td>0</td>\n",
              "      <td>0</td>\n",
              "    </tr>\n",
              "    <tr>\n",
              "      <th>28552</th>\n",
              "      <td>0</td>\n",
              "      <td>0</td>\n",
              "      <td>0</td>\n",
              "      <td>0</td>\n",
              "      <td>0</td>\n",
              "      <td>0</td>\n",
              "      <td>0</td>\n",
              "      <td>0</td>\n",
              "      <td>0</td>\n",
              "      <td>0</td>\n",
              "      <td>0</td>\n",
              "      <td>0</td>\n",
              "      <td>0</td>\n",
              "      <td>1</td>\n",
              "      <td>0</td>\n",
              "    </tr>\n",
              "    <tr>\n",
              "      <th>28471</th>\n",
              "      <td>0</td>\n",
              "      <td>0</td>\n",
              "      <td>0</td>\n",
              "      <td>0</td>\n",
              "      <td>0</td>\n",
              "      <td>0</td>\n",
              "      <td>0</td>\n",
              "      <td>0</td>\n",
              "      <td>0</td>\n",
              "      <td>0</td>\n",
              "      <td>0</td>\n",
              "      <td>0</td>\n",
              "      <td>0</td>\n",
              "      <td>1</td>\n",
              "      <td>0</td>\n",
              "    </tr>\n",
              "    <tr>\n",
              "      <th>744</th>\n",
              "      <td>1</td>\n",
              "      <td>0</td>\n",
              "      <td>0</td>\n",
              "      <td>0</td>\n",
              "      <td>0</td>\n",
              "      <td>0</td>\n",
              "      <td>0</td>\n",
              "      <td>0</td>\n",
              "      <td>0</td>\n",
              "      <td>0</td>\n",
              "      <td>0</td>\n",
              "      <td>0</td>\n",
              "      <td>0</td>\n",
              "      <td>0</td>\n",
              "      <td>0</td>\n",
              "    </tr>\n",
              "  </tbody>\n",
              "</table>\n",
              "</div>"
            ],
            "text/plain": [
              "       0.0   1.0   2.0   3.0   4.0   5.0   6.0   7.0   8.0   9.0   10.0  11.0  \\\n",
              "20475     0     0     0     0     0     0     0     0     1     0     0     0   \n",
              "1194      1     0     0     0     0     0     0     0     0     0     0     0   \n",
              "28552     0     0     0     0     0     0     0     0     0     0     0     0   \n",
              "28471     0     0     0     0     0     0     0     0     0     0     0     0   \n",
              "744       1     0     0     0     0     0     0     0     0     0     0     0   \n",
              "\n",
              "       12.0  13.0  14.0  \n",
              "20475     0     0     0  \n",
              "1194      0     0     0  \n",
              "28552     0     1     0  \n",
              "28471     0     1     0  \n",
              "744       0     0     0  "
            ]
          },
          "execution_count": 156,
          "metadata": {},
          "output_type": "execute_result"
        }
      ],
      "source": [
        "y_train.head()"
      ]
    },
    {
      "cell_type": "code",
      "execution_count": null,
      "metadata": {
        "id": "BoQLvLURMP3X"
      },
      "outputs": [],
      "source": [
        "y_nohot_tr = np.argmax(\n",
        "    np.array(y_train),\n",
        "    axis = 1\n",
        ")"
      ]
    },
    {
      "cell_type": "markdown",
      "metadata": {
        "id": "IQWgjCnyTxrW"
      },
      "source": [
        "## SVC linear"
      ]
    },
    {
      "cell_type": "code",
      "execution_count": null,
      "metadata": {
        "colab": {
          "base_uri": "https://localhost:8080/",
          "height": 75
        },
        "id": "-Bwm08qjCSVW",
        "outputId": "95d7d11d-372f-4089-992b-1e44b5175c85"
      },
      "outputs": [
        {
          "data": {
            "text/html": [
              "<style>#sk-container-id-1 {color: black;background-color: white;}#sk-container-id-1 pre{padding: 0;}#sk-container-id-1 div.sk-toggleable {background-color: white;}#sk-container-id-1 label.sk-toggleable__label {cursor: pointer;display: block;width: 100%;margin-bottom: 0;padding: 0.3em;box-sizing: border-box;text-align: center;}#sk-container-id-1 label.sk-toggleable__label-arrow:before {content: \"▸\";float: left;margin-right: 0.25em;color: #696969;}#sk-container-id-1 label.sk-toggleable__label-arrow:hover:before {color: black;}#sk-container-id-1 div.sk-estimator:hover label.sk-toggleable__label-arrow:before {color: black;}#sk-container-id-1 div.sk-toggleable__content {max-height: 0;max-width: 0;overflow: hidden;text-align: left;background-color: #f0f8ff;}#sk-container-id-1 div.sk-toggleable__content pre {margin: 0.2em;color: black;border-radius: 0.25em;background-color: #f0f8ff;}#sk-container-id-1 input.sk-toggleable__control:checked~div.sk-toggleable__content {max-height: 200px;max-width: 100%;overflow: auto;}#sk-container-id-1 input.sk-toggleable__control:checked~label.sk-toggleable__label-arrow:before {content: \"▾\";}#sk-container-id-1 div.sk-estimator input.sk-toggleable__control:checked~label.sk-toggleable__label {background-color: #d4ebff;}#sk-container-id-1 div.sk-label input.sk-toggleable__control:checked~label.sk-toggleable__label {background-color: #d4ebff;}#sk-container-id-1 input.sk-hidden--visually {border: 0;clip: rect(1px 1px 1px 1px);clip: rect(1px, 1px, 1px, 1px);height: 1px;margin: -1px;overflow: hidden;padding: 0;position: absolute;width: 1px;}#sk-container-id-1 div.sk-estimator {font-family: monospace;background-color: #f0f8ff;border: 1px dotted black;border-radius: 0.25em;box-sizing: border-box;margin-bottom: 0.5em;}#sk-container-id-1 div.sk-estimator:hover {background-color: #d4ebff;}#sk-container-id-1 div.sk-parallel-item::after {content: \"\";width: 100%;border-bottom: 1px solid gray;flex-grow: 1;}#sk-container-id-1 div.sk-label:hover label.sk-toggleable__label {background-color: #d4ebff;}#sk-container-id-1 div.sk-serial::before {content: \"\";position: absolute;border-left: 1px solid gray;box-sizing: border-box;top: 0;bottom: 0;left: 50%;z-index: 0;}#sk-container-id-1 div.sk-serial {display: flex;flex-direction: column;align-items: center;background-color: white;padding-right: 0.2em;padding-left: 0.2em;position: relative;}#sk-container-id-1 div.sk-item {position: relative;z-index: 1;}#sk-container-id-1 div.sk-parallel {display: flex;align-items: stretch;justify-content: center;background-color: white;position: relative;}#sk-container-id-1 div.sk-item::before, #sk-container-id-1 div.sk-parallel-item::before {content: \"\";position: absolute;border-left: 1px solid gray;box-sizing: border-box;top: 0;bottom: 0;left: 50%;z-index: -1;}#sk-container-id-1 div.sk-parallel-item {display: flex;flex-direction: column;z-index: 1;position: relative;background-color: white;}#sk-container-id-1 div.sk-parallel-item:first-child::after {align-self: flex-end;width: 50%;}#sk-container-id-1 div.sk-parallel-item:last-child::after {align-self: flex-start;width: 50%;}#sk-container-id-1 div.sk-parallel-item:only-child::after {width: 0;}#sk-container-id-1 div.sk-dashed-wrapped {border: 1px dashed gray;margin: 0 0.4em 0.5em 0.4em;box-sizing: border-box;padding-bottom: 0.4em;background-color: white;}#sk-container-id-1 div.sk-label label {font-family: monospace;font-weight: bold;display: inline-block;line-height: 1.2em;}#sk-container-id-1 div.sk-label-container {text-align: center;}#sk-container-id-1 div.sk-container {/* jupyter's `normalize.less` sets `[hidden] { display: none; }` but bootstrap.min.css set `[hidden] { display: none !important; }` so we also need the `!important` here to be able to override the default hidden behavior on the sphinx rendered scikit-learn.org. See: https://github.com/scikit-learn/scikit-learn/issues/21755 */display: inline-block !important;position: relative;}#sk-container-id-1 div.sk-text-repr-fallback {display: none;}</style><div id=\"sk-container-id-1\" class=\"sk-top-container\"><div class=\"sk-text-repr-fallback\"><pre>SVC(C=100, kernel=&#x27;linear&#x27;, random_state=42)</pre><b>In a Jupyter environment, please rerun this cell to show the HTML representation or trust the notebook. <br />On GitHub, the HTML representation is unable to render, please try loading this page with nbviewer.org.</b></div><div class=\"sk-container\" hidden><div class=\"sk-item\"><div class=\"sk-estimator sk-toggleable\"><input class=\"sk-toggleable__control sk-hidden--visually\" id=\"sk-estimator-id-1\" type=\"checkbox\" checked><label for=\"sk-estimator-id-1\" class=\"sk-toggleable__label sk-toggleable__label-arrow\">SVC</label><div class=\"sk-toggleable__content\"><pre>SVC(C=100, kernel=&#x27;linear&#x27;, random_state=42)</pre></div></div></div></div></div>"
            ],
            "text/plain": [
              "SVC(C=100, kernel='linear', random_state=42)"
            ]
          },
          "execution_count": 158,
          "metadata": {},
          "output_type": "execute_result"
        }
      ],
      "source": [
        "start_time=time.time()\n",
        "clf = SVC(kernel='linear', C=100, random_state=42)\n",
        "clf.fit(feat_train, y_nohot_tr)\n"
      ]
    },
    {
      "cell_type": "code",
      "execution_count": null,
      "metadata": {
        "colab": {
          "base_uri": "https://localhost:8080/",
          "height": 184
        },
        "id": "EJQC1ejMC0Wu",
        "outputId": "15ca872e-0e89-4be9-fe2c-4c81dd9124d9"
      },
      "outputs": [
        {
          "ename": "NameError",
          "evalue": "ignored",
          "output_type": "error",
          "traceback": [
            "\u001b[0;31m---------------------------------------------------------------------------\u001b[0m",
            "\u001b[0;31mNameError\u001b[0m                                 Traceback (most recent call last)",
            "\u001b[0;32m<ipython-input-150-f2e28882afbb>\u001b[0m in \u001b[0;36m<cell line: 1>\u001b[0;34m()\u001b[0m\n\u001b[0;32m----> 1\u001b[0;31m \u001b[0my_pred\u001b[0m \u001b[0;34m=\u001b[0m \u001b[0mclf\u001b[0m\u001b[0;34m.\u001b[0m\u001b[0mpredict\u001b[0m\u001b[0;34m(\u001b[0m\u001b[0mfeat_test\u001b[0m\u001b[0;34m)\u001b[0m\u001b[0;34m\u001b[0m\u001b[0;34m\u001b[0m\u001b[0m\n\u001b[0m\u001b[1;32m      2\u001b[0m \u001b[0my_predtr\u001b[0m \u001b[0;34m=\u001b[0m \u001b[0mclf\u001b[0m\u001b[0;34m.\u001b[0m\u001b[0mpredict\u001b[0m\u001b[0;34m(\u001b[0m\u001b[0mfeat_train\u001b[0m\u001b[0;34m)\u001b[0m\u001b[0;34m\u001b[0m\u001b[0;34m\u001b[0m\u001b[0m\n",
            "\u001b[0;31mNameError\u001b[0m: name 'clf' is not defined"
          ]
        }
      ],
      "source": [
        "y_pred = clf.predict(feat_test)\n",
        "y_predtr = clf.predict(feat_train)"
      ]
    },
    {
      "cell_type": "code",
      "execution_count": null,
      "metadata": {
        "id": "LaotkRjnckrc"
      },
      "outputs": [],
      "source": [
        "y_test_norm = np.argmax( np.array(y_test) )\n",
        "y_trainnorm = np.argmax( np.array(y_train) )"
      ]
    },
    {
      "cell_type": "code",
      "execution_count": null,
      "metadata": {
        "colab": {
          "base_uri": "https://localhost:8080/",
          "height": 218
        },
        "id": "1jR7L8YeE2lP",
        "outputId": "c68f6108-4e20-4c92-84c5-4682e27fa72b"
      },
      "outputs": [
        {
          "ename": "NameError",
          "evalue": "ignored",
          "output_type": "error",
          "traceback": [
            "\u001b[0;31m---------------------------------------------------------------------------\u001b[0m",
            "\u001b[0;31mNameError\u001b[0m                                 Traceback (most recent call last)",
            "\u001b[0;32m<ipython-input-149-b8dddea4e6c5>\u001b[0m in \u001b[0;36m<cell line: 1>\u001b[0;34m()\u001b[0m\n\u001b[0;32m----> 1\u001b[0;31m \u001b[0macc1\u001b[0m \u001b[0;34m=\u001b[0m \u001b[0maccuracy_score\u001b[0m\u001b[0;34m(\u001b[0m\u001b[0mnp\u001b[0m\u001b[0;34m.\u001b[0m\u001b[0margmax\u001b[0m\u001b[0;34m(\u001b[0m\u001b[0mnp\u001b[0m\u001b[0;34m.\u001b[0m\u001b[0marray\u001b[0m\u001b[0;34m(\u001b[0m\u001b[0my_test\u001b[0m\u001b[0;34m)\u001b[0m\u001b[0;34m,\u001b[0m \u001b[0maxis\u001b[0m\u001b[0;34m=\u001b[0m\u001b[0;36m1\u001b[0m\u001b[0;34m)\u001b[0m\u001b[0;34m,\u001b[0m \u001b[0my_pred\u001b[0m\u001b[0;34m)\u001b[0m\u001b[0;34m\u001b[0m\u001b[0;34m\u001b[0m\u001b[0m\n\u001b[0m\u001b[1;32m      2\u001b[0m \u001b[0mend_time\u001b[0m\u001b[0;34m=\u001b[0m\u001b[0mtime\u001b[0m\u001b[0;34m.\u001b[0m\u001b[0mtime\u001b[0m\u001b[0;34m(\u001b[0m\u001b[0;34m)\u001b[0m\u001b[0;34m\u001b[0m\u001b[0;34m\u001b[0m\u001b[0m\n\u001b[1;32m      3\u001b[0m \u001b[0mprint\u001b[0m\u001b[0;34m(\u001b[0m\u001b[0;34mf\"Execution time: {end_time - start_time:.5f} seconds\"\u001b[0m\u001b[0;34m)\u001b[0m\u001b[0;34m\u001b[0m\u001b[0;34m\u001b[0m\u001b[0m\n\u001b[1;32m      4\u001b[0m \u001b[0mfindMetrics\u001b[0m\u001b[0;34m(\u001b[0m \u001b[0;34m\"Linear SVM test\"\u001b[0m\u001b[0;34m,\u001b[0m \u001b[0my_testnorm\u001b[0m\u001b[0;34m,\u001b[0m \u001b[0my_predtr\u001b[0m \u001b[0;34m)\u001b[0m\u001b[0;34m\u001b[0m\u001b[0;34m\u001b[0m\u001b[0m\n",
            "\u001b[0;31mNameError\u001b[0m: name 'y_pred' is not defined"
          ]
        }
      ],
      "source": [
        "acc1 = accuracy_score(np.argmax(np.array(y_test), axis=1), y_pred)\n",
        "end_time=time.time()\n",
        "print(f\"Execution time: {end_time - start_time:.5f} seconds\")\n",
        "findMetrics( \"Linear SVM test\", y_testnorm, y_predtr )"
      ]
    },
    {
      "cell_type": "code",
      "execution_count": null,
      "metadata": {
        "colab": {
          "base_uri": "https://localhost:8080/"
        },
        "id": "kmZLkREYEX23",
        "outputId": "99ec694d-6283-4dc8-a1b0-4ec8203feb3e"
      },
      "outputs": [
        {
          "name": "stdout",
          "output_type": "stream",
          "text": [
            "Execution time: 109.26207 seconds\n",
            "Train Accuracy: 86.56552229912452\n"
          ]
        }
      ],
      "source": [
        "acc2 = accuracy_score(np.argmax(np.array(y_train), axis=1), y_predtr)\n",
        "end_time=time.time()\n",
        "print(f\"Execution time: {end_time - start_time:.5f} seconds\")\n",
        "print(\"Train Accuracy:\", acc2*100)"
      ]
    },
    {
      "cell_type": "markdown",
      "metadata": {
        "id": "oiF3uWcFTscM"
      },
      "source": [
        "## SVC rbf"
      ]
    },
    {
      "cell_type": "code",
      "execution_count": null,
      "metadata": {
        "colab": {
          "base_uri": "https://localhost:8080/",
          "height": 75
        },
        "id": "cZtPNymVCSYa",
        "outputId": "b77df1c9-a54c-4e84-f386-e512bb2277c3"
      },
      "outputs": [
        {
          "data": {
            "text/html": [
              "<style>#sk-container-id-2 {color: black;background-color: white;}#sk-container-id-2 pre{padding: 0;}#sk-container-id-2 div.sk-toggleable {background-color: white;}#sk-container-id-2 label.sk-toggleable__label {cursor: pointer;display: block;width: 100%;margin-bottom: 0;padding: 0.3em;box-sizing: border-box;text-align: center;}#sk-container-id-2 label.sk-toggleable__label-arrow:before {content: \"▸\";float: left;margin-right: 0.25em;color: #696969;}#sk-container-id-2 label.sk-toggleable__label-arrow:hover:before {color: black;}#sk-container-id-2 div.sk-estimator:hover label.sk-toggleable__label-arrow:before {color: black;}#sk-container-id-2 div.sk-toggleable__content {max-height: 0;max-width: 0;overflow: hidden;text-align: left;background-color: #f0f8ff;}#sk-container-id-2 div.sk-toggleable__content pre {margin: 0.2em;color: black;border-radius: 0.25em;background-color: #f0f8ff;}#sk-container-id-2 input.sk-toggleable__control:checked~div.sk-toggleable__content {max-height: 200px;max-width: 100%;overflow: auto;}#sk-container-id-2 input.sk-toggleable__control:checked~label.sk-toggleable__label-arrow:before {content: \"▾\";}#sk-container-id-2 div.sk-estimator input.sk-toggleable__control:checked~label.sk-toggleable__label {background-color: #d4ebff;}#sk-container-id-2 div.sk-label input.sk-toggleable__control:checked~label.sk-toggleable__label {background-color: #d4ebff;}#sk-container-id-2 input.sk-hidden--visually {border: 0;clip: rect(1px 1px 1px 1px);clip: rect(1px, 1px, 1px, 1px);height: 1px;margin: -1px;overflow: hidden;padding: 0;position: absolute;width: 1px;}#sk-container-id-2 div.sk-estimator {font-family: monospace;background-color: #f0f8ff;border: 1px dotted black;border-radius: 0.25em;box-sizing: border-box;margin-bottom: 0.5em;}#sk-container-id-2 div.sk-estimator:hover {background-color: #d4ebff;}#sk-container-id-2 div.sk-parallel-item::after {content: \"\";width: 100%;border-bottom: 1px solid gray;flex-grow: 1;}#sk-container-id-2 div.sk-label:hover label.sk-toggleable__label {background-color: #d4ebff;}#sk-container-id-2 div.sk-serial::before {content: \"\";position: absolute;border-left: 1px solid gray;box-sizing: border-box;top: 0;bottom: 0;left: 50%;z-index: 0;}#sk-container-id-2 div.sk-serial {display: flex;flex-direction: column;align-items: center;background-color: white;padding-right: 0.2em;padding-left: 0.2em;position: relative;}#sk-container-id-2 div.sk-item {position: relative;z-index: 1;}#sk-container-id-2 div.sk-parallel {display: flex;align-items: stretch;justify-content: center;background-color: white;position: relative;}#sk-container-id-2 div.sk-item::before, #sk-container-id-2 div.sk-parallel-item::before {content: \"\";position: absolute;border-left: 1px solid gray;box-sizing: border-box;top: 0;bottom: 0;left: 50%;z-index: -1;}#sk-container-id-2 div.sk-parallel-item {display: flex;flex-direction: column;z-index: 1;position: relative;background-color: white;}#sk-container-id-2 div.sk-parallel-item:first-child::after {align-self: flex-end;width: 50%;}#sk-container-id-2 div.sk-parallel-item:last-child::after {align-self: flex-start;width: 50%;}#sk-container-id-2 div.sk-parallel-item:only-child::after {width: 0;}#sk-container-id-2 div.sk-dashed-wrapped {border: 1px dashed gray;margin: 0 0.4em 0.5em 0.4em;box-sizing: border-box;padding-bottom: 0.4em;background-color: white;}#sk-container-id-2 div.sk-label label {font-family: monospace;font-weight: bold;display: inline-block;line-height: 1.2em;}#sk-container-id-2 div.sk-label-container {text-align: center;}#sk-container-id-2 div.sk-container {/* jupyter's `normalize.less` sets `[hidden] { display: none; }` but bootstrap.min.css set `[hidden] { display: none !important; }` so we also need the `!important` here to be able to override the default hidden behavior on the sphinx rendered scikit-learn.org. See: https://github.com/scikit-learn/scikit-learn/issues/21755 */display: inline-block !important;position: relative;}#sk-container-id-2 div.sk-text-repr-fallback {display: none;}</style><div id=\"sk-container-id-2\" class=\"sk-top-container\"><div class=\"sk-text-repr-fallback\"><pre>SVC(C=100, random_state=42)</pre><b>In a Jupyter environment, please rerun this cell to show the HTML representation or trust the notebook. <br />On GitHub, the HTML representation is unable to render, please try loading this page with nbviewer.org.</b></div><div class=\"sk-container\" hidden><div class=\"sk-item\"><div class=\"sk-estimator sk-toggleable\"><input class=\"sk-toggleable__control sk-hidden--visually\" id=\"sk-estimator-id-2\" type=\"checkbox\" checked><label for=\"sk-estimator-id-2\" class=\"sk-toggleable__label sk-toggleable__label-arrow\">SVC</label><div class=\"sk-toggleable__content\"><pre>SVC(C=100, random_state=42)</pre></div></div></div></div></div>"
            ],
            "text/plain": [
              "SVC(C=100, random_state=42)"
            ]
          },
          "execution_count": 132,
          "metadata": {},
          "output_type": "execute_result"
        }
      ],
      "source": [
        "start_time=time.time()\n",
        "clf = SVC(kernel='rbf', C=100, random_state=42)\n",
        "clf.fit(feat_train, np.argmax(np.array(y_train), axis=1))"
      ]
    },
    {
      "cell_type": "code",
      "execution_count": null,
      "metadata": {
        "id": "2Ph0DNTxNwYj"
      },
      "outputs": [],
      "source": [
        "y_pred = clf.predict(feat_test)\n",
        "y_predtr = clf.predict(feat_train)\n",
        "acc1 = accuracy_score(np.argmax(y_test, axis=1), y_pred )\n",
        "end_time=time.time()\n",
        "print(f\"Execution time: {end_time - start_time:.5f} seconds\")\n",
        "print(\"Test Accuracy:\", acc1*100)\n",
        "acc2 = accuracy_score(np.argmax(y_train, axis=1), y_predtr)\n",
        "end_time=time.time()\n",
        "print(f\"Execution time: {end_time - start_time:.5f} seconds\")\n",
        "print(\"Test Accuracy:\", acc2*100)"
      ]
    },
    {
      "cell_type": "code",
      "execution_count": null,
      "metadata": {
        "id": "Wdmn3mC-FNM8"
      },
      "outputs": [],
      "source": [
        "start_time=time.time()\n",
        "clf = SVC(kernel='sigmoid', C=100, random_state=42)\n",
        "clf.fit(feat_train, np.argmax(y_train, axis=1))\n",
        "y_pred = clf.predict(feat_test)\n",
        "y_predtr = clf.predict(feat_train)\n",
        "acc1 = accuracy_score(np.argmax(y_test, axis=1), y_pred)\n",
        "end_time=time.time()\n",
        "print(f\"Execution time: {end_time - start_time:.5f} seconds\")\n",
        "print(\"Test Accuracy:\", acc1*100)\n",
        "acc2 = accuracy_score(np.argmax(y_train, axis=1), y_predtr)\n",
        "end_time=time.time()\n",
        "print(f\"Execution time: {end_time - start_time:.5f} seconds\")\n",
        "print(\"Train Accuracy:\", acc2*100)"
      ]
    },
    {
      "cell_type": "code",
      "execution_count": null,
      "metadata": {
        "id": "yxatB2hPFNPt"
      },
      "outputs": [],
      "source": [
        "start_time=time.time()\n",
        "clf = SVC(kernel='precomputed', C=10, random_state=42)\n",
        "clf.fit(feat_train, np.argmax(y_train, axis=1))\n",
        "y_pred = clf.predict(feat_test)\n",
        "y_predtr = clf.predict(feat_train)\n",
        "acc1 = accuracy_score(np.argmax(y_test, axis=1), y_pred)\n",
        "end_time=time.time()\n",
        "print(f\"Execution time: {end_time - start_time:.5f} seconds\")\n",
        "print(\"Test Accuracy:\", acc1*100)\n",
        "acc2 = accuracy_score(np.argmax(y_train, axis=1), y_predtr)\n",
        "end_time=time.time()\n",
        "print(f\"Execution time: {end_time - start_time:.5f} seconds\")\n",
        "print(\"Test Accuracy:\", acc2*100)"
      ]
    },
    {
      "cell_type": "code",
      "execution_count": null,
      "metadata": {
        "id": "d0kUnyguYJrQ"
      },
      "outputs": [],
      "source": [
        "start_time=time.time()\n",
        "clf = SVC(kernel='precomputed', C=10, random_state=42)\n",
        "clf.fit(feat_train, np.argmax(y_train, axis=1))\n",
        "y_pred = clf.predict(feat_test)\n",
        "y_predtr = clf.predict(feat_train)\n",
        "acc1 = accuracy_score(np.argmax(y_test, axis=1), y_pred)\n",
        "end_time=time.time()\n",
        "print(f\"Execution time: {end_time - start_time:.5f} seconds\")\n",
        "print(\"Test Accuracy:\", acc1*100)\n",
        "acc2 = accuracy_score(np.argmax(y_train, axis=1), y_predtr)\n",
        "end_time=time.time()\n",
        "print(f\"Execution time: {end_time - start_time:.5f} seconds\")\n",
        "print(\"Test Accuracy:\", acc2*100)"
      ]
    },
    {
      "cell_type": "code",
      "execution_count": null,
      "metadata": {
        "id": "_9WvbfrBaZJY"
      },
      "outputs": [],
      "source": [
        "from sklearn.metrics import accuracy_score, precision_score, recall_score, f1_score, roc_auc_score"
      ]
    },
    {
      "cell_type": "code",
      "execution_count": null,
      "metadata": {
        "id": "bl9DRwiv46DQ"
      },
      "outputs": [],
      "source": [
        "def findMetrics( name, ytrue, ypred ) :\n",
        "\n",
        "  print( f\"Data\\t{name}\" )\n",
        "  print( \"-\"*20 )\n",
        "  print( f\"Accu\\t{accuracy_score( ytrue, ypred )}\" )\n",
        "  print( f\"Prec\\t{precision_score( ytrue, ypred )}\" )\n",
        "  print( f\"Reca\\t{recall_score( ytrue, ypred )}\" )\n",
        "  print( f\"f1\\t{f1_score( ytrue, ypred )}\" )\n",
        "  print( f\"auc\\t{auc_score( ytrue, ypred )}\" )"
      ]
    },
    {
      "cell_type": "code",
      "execution_count": null,
      "metadata": {
        "id": "JGbBqOrIcbl6"
      },
      "outputs": [],
      "source": []
    }
  ],
  "metadata": {
    "accelerator": "GPU",
    "colab": {
      "provenance": []
    },
    "gpuClass": "standard",
    "kernelspec": {
      "display_name": "Python 3",
      "name": "python3"
    },
    "language_info": {
      "name": "python"
    }
  },
  "nbformat": 4,
  "nbformat_minor": 0
}